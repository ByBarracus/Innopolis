{
 "cells": [
  {
   "cell_type": "markdown",
   "id": "abroad-malawi",
   "metadata": {},
   "source": [
    "В этом задании вам необходимо использовать набор данных iris.\n",
    "1)Загрузите датасет с помощью функции np.genfromtxt()\n",
    "2)Вычислите простейшие статистики: min, max, median, mean, 0.25-percentile, 0.75-percentile для каждого из числовых атрибутов в датасете\n",
    "3)Постройте гистограмму для каждого из числовых атрибутов в датасете\n",
    "4)Сгруппируйте датасет по категории (последний столбец датасета) и повторите шаги 2 и 3 для групп."
   ]
  },
  {
   "cell_type": "code",
   "execution_count": 8,
   "id": "normal-services",
   "metadata": {},
   "outputs": [],
   "source": [
    "import numpy as np"
   ]
  },
  {
   "cell_type": "code",
   "execution_count": 9,
   "id": "random-michigan",
   "metadata": {},
   "outputs": [
    {
     "data": {
      "text/plain": [
       "array([[b'5.1', b'3.5', b'1.4', b'0.2', b'Iris-setosa'],\n",
       "       [b'4.9', b'3.0', b'1.4', b'0.2', b'Iris-setosa'],\n",
       "       [b'4.7', b'3.2', b'1.3', b'0.2', b'Iris-setosa'],\n",
       "       [b'4.6', b'3.1', b'1.5', b'0.2', b'Iris-setosa'],\n",
       "       [b'5.0', b'3.6', b'1.4', b'0.2', b'Iris-setosa'],\n",
       "       [b'5.4', b'3.9', b'1.7', b'0.4', b'Iris-setosa'],\n",
       "       [b'4.6', b'3.4', b'1.4', b'0.3', b'Iris-setosa'],\n",
       "       [b'5.0', b'3.4', b'1.5', b'0.2', b'Iris-setosa'],\n",
       "       [b'4.4', b'2.9', b'1.4', b'0.2', b'Iris-setosa'],\n",
       "       [b'4.9', b'3.1', b'1.5', b'0.1', b'Iris-setosa'],\n",
       "       [b'5.4', b'3.7', b'1.5', b'0.2', b'Iris-setosa'],\n",
       "       [b'4.8', b'3.4', b'1.6', b'0.2', b'Iris-setosa'],\n",
       "       [b'4.8', b'3.0', b'1.4', b'0.1', b'Iris-setosa'],\n",
       "       [b'4.3', b'3.0', b'1.1', b'0.1', b'Iris-setosa'],\n",
       "       [b'5.8', b'4.0', b'1.2', b'0.2', b'Iris-setosa'],\n",
       "       [b'5.7', b'4.4', b'1.5', b'0.4', b'Iris-setosa'],\n",
       "       [b'5.4', b'3.9', b'1.3', b'0.4', b'Iris-setosa'],\n",
       "       [b'5.1', b'3.5', b'1.4', b'0.3', b'Iris-setosa'],\n",
       "       [b'5.7', b'3.8', b'1.7', b'0.3', b'Iris-setosa'],\n",
       "       [b'5.1', b'3.8', b'1.5', b'0.3', b'Iris-setosa'],\n",
       "       [b'5.4', b'3.4', b'1.7', b'0.2', b'Iris-setosa'],\n",
       "       [b'5.1', b'3.7', b'1.5', b'0.4', b'Iris-setosa'],\n",
       "       [b'4.6', b'3.6', b'1.0', b'0.2', b'Iris-setosa'],\n",
       "       [b'5.1', b'3.3', b'1.7', b'0.5', b'Iris-setosa'],\n",
       "       [b'4.8', b'3.4', b'1.9', b'0.2', b'Iris-setosa'],\n",
       "       [b'5.0', b'3.0', b'1.6', b'0.2', b'Iris-setosa'],\n",
       "       [b'5.0', b'3.4', b'1.6', b'0.4', b'Iris-setosa'],\n",
       "       [b'5.2', b'3.5', b'1.5', b'0.2', b'Iris-setosa'],\n",
       "       [b'5.2', b'3.4', b'1.4', b'0.2', b'Iris-setosa'],\n",
       "       [b'4.7', b'3.2', b'1.6', b'0.2', b'Iris-setosa'],\n",
       "       [b'4.8', b'3.1', b'1.6', b'0.2', b'Iris-setosa'],\n",
       "       [b'5.4', b'3.4', b'1.5', b'0.4', b'Iris-setosa'],\n",
       "       [b'5.2', b'4.1', b'1.5', b'0.1', b'Iris-setosa'],\n",
       "       [b'5.5', b'4.2', b'1.4', b'0.2', b'Iris-setosa'],\n",
       "       [b'4.9', b'3.1', b'1.5', b'0.1', b'Iris-setosa'],\n",
       "       [b'5.0', b'3.2', b'1.2', b'0.2', b'Iris-setosa'],\n",
       "       [b'5.5', b'3.5', b'1.3', b'0.2', b'Iris-setosa'],\n",
       "       [b'4.9', b'3.1', b'1.5', b'0.1', b'Iris-setosa'],\n",
       "       [b'4.4', b'3.0', b'1.3', b'0.2', b'Iris-setosa'],\n",
       "       [b'5.1', b'3.4', b'1.5', b'0.2', b'Iris-setosa'],\n",
       "       [b'5.0', b'3.5', b'1.3', b'0.3', b'Iris-setosa'],\n",
       "       [b'4.5', b'2.3', b'1.3', b'0.3', b'Iris-setosa'],\n",
       "       [b'4.4', b'3.2', b'1.3', b'0.2', b'Iris-setosa'],\n",
       "       [b'5.0', b'3.5', b'1.6', b'0.6', b'Iris-setosa'],\n",
       "       [b'5.1', b'3.8', b'1.9', b'0.4', b'Iris-setosa'],\n",
       "       [b'4.8', b'3.0', b'1.4', b'0.3', b'Iris-setosa'],\n",
       "       [b'5.1', b'3.8', b'1.6', b'0.2', b'Iris-setosa'],\n",
       "       [b'4.6', b'3.2', b'1.4', b'0.2', b'Iris-setosa'],\n",
       "       [b'5.3', b'3.7', b'1.5', b'0.2', b'Iris-setosa'],\n",
       "       [b'5.0', b'3.3', b'1.4', b'0.2', b'Iris-setosa'],\n",
       "       [b'7.0', b'3.2', b'4.7', b'1.4', b'Iris-versicolor'],\n",
       "       [b'6.4', b'3.2', b'4.5', b'1.5', b'Iris-versicolor'],\n",
       "       [b'6.9', b'3.1', b'4.9', b'1.5', b'Iris-versicolor'],\n",
       "       [b'5.5', b'2.3', b'4.0', b'1.3', b'Iris-versicolor'],\n",
       "       [b'6.5', b'2.8', b'4.6', b'1.5', b'Iris-versicolor'],\n",
       "       [b'5.7', b'2.8', b'4.5', b'1.3', b'Iris-versicolor'],\n",
       "       [b'6.3', b'3.3', b'4.7', b'1.6', b'Iris-versicolor'],\n",
       "       [b'4.9', b'2.4', b'3.3', b'1.0', b'Iris-versicolor'],\n",
       "       [b'6.6', b'2.9', b'4.6', b'1.3', b'Iris-versicolor'],\n",
       "       [b'5.2', b'2.7', b'3.9', b'1.4', b'Iris-versicolor'],\n",
       "       [b'5.0', b'2.0', b'3.5', b'1.0', b'Iris-versicolor'],\n",
       "       [b'5.9', b'3.0', b'4.2', b'1.5', b'Iris-versicolor'],\n",
       "       [b'6.0', b'2.2', b'4.0', b'1.0', b'Iris-versicolor'],\n",
       "       [b'6.1', b'2.9', b'4.7', b'1.4', b'Iris-versicolor'],\n",
       "       [b'5.6', b'2.9', b'3.6', b'1.3', b'Iris-versicolor'],\n",
       "       [b'6.7', b'3.1', b'4.4', b'1.4', b'Iris-versicolor'],\n",
       "       [b'5.6', b'3.0', b'4.5', b'1.5', b'Iris-versicolor'],\n",
       "       [b'5.8', b'2.7', b'4.1', b'1.0', b'Iris-versicolor'],\n",
       "       [b'6.2', b'2.2', b'4.5', b'1.5', b'Iris-versicolor'],\n",
       "       [b'5.6', b'2.5', b'3.9', b'1.1', b'Iris-versicolor'],\n",
       "       [b'5.9', b'3.2', b'4.8', b'1.8', b'Iris-versicolor'],\n",
       "       [b'6.1', b'2.8', b'4.0', b'1.3', b'Iris-versicolor'],\n",
       "       [b'6.3', b'2.5', b'4.9', b'1.5', b'Iris-versicolor'],\n",
       "       [b'6.1', b'2.8', b'4.7', b'1.2', b'Iris-versicolor'],\n",
       "       [b'6.4', b'2.9', b'4.3', b'1.3', b'Iris-versicolor'],\n",
       "       [b'6.6', b'3.0', b'4.4', b'1.4', b'Iris-versicolor'],\n",
       "       [b'6.8', b'2.8', b'4.8', b'1.4', b'Iris-versicolor'],\n",
       "       [b'6.7', b'3.0', b'5.0', b'1.7', b'Iris-versicolor'],\n",
       "       [b'6.0', b'2.9', b'4.5', b'1.5', b'Iris-versicolor'],\n",
       "       [b'5.7', b'2.6', b'3.5', b'1.0', b'Iris-versicolor'],\n",
       "       [b'5.5', b'2.4', b'3.8', b'1.1', b'Iris-versicolor'],\n",
       "       [b'5.5', b'2.4', b'3.7', b'1.0', b'Iris-versicolor'],\n",
       "       [b'5.8', b'2.7', b'3.9', b'1.2', b'Iris-versicolor'],\n",
       "       [b'6.0', b'2.7', b'5.1', b'1.6', b'Iris-versicolor'],\n",
       "       [b'5.4', b'3.0', b'4.5', b'1.5', b'Iris-versicolor'],\n",
       "       [b'6.0', b'3.4', b'4.5', b'1.6', b'Iris-versicolor'],\n",
       "       [b'6.7', b'3.1', b'4.7', b'1.5', b'Iris-versicolor'],\n",
       "       [b'6.3', b'2.3', b'4.4', b'1.3', b'Iris-versicolor'],\n",
       "       [b'5.6', b'3.0', b'4.1', b'1.3', b'Iris-versicolor'],\n",
       "       [b'5.5', b'2.5', b'4.0', b'1.3', b'Iris-versicolor'],\n",
       "       [b'5.5', b'2.6', b'4.4', b'1.2', b'Iris-versicolor'],\n",
       "       [b'6.1', b'3.0', b'4.6', b'1.4', b'Iris-versicolor'],\n",
       "       [b'5.8', b'2.6', b'4.0', b'1.2', b'Iris-versicolor'],\n",
       "       [b'5.0', b'2.3', b'3.3', b'1.0', b'Iris-versicolor'],\n",
       "       [b'5.6', b'2.7', b'4.2', b'1.3', b'Iris-versicolor'],\n",
       "       [b'5.7', b'3.0', b'4.2', b'1.2', b'Iris-versicolor'],\n",
       "       [b'5.7', b'2.9', b'4.2', b'1.3', b'Iris-versicolor'],\n",
       "       [b'6.2', b'2.9', b'4.3', b'1.3', b'Iris-versicolor'],\n",
       "       [b'5.1', b'2.5', b'3.0', b'1.1', b'Iris-versicolor'],\n",
       "       [b'5.7', b'2.8', b'4.1', b'1.3', b'Iris-versicolor'],\n",
       "       [b'6.3', b'3.3', b'6.0', b'2.5', b'Iris-virginica'],\n",
       "       [b'5.8', b'2.7', b'5.1', b'1.9', b'Iris-virginica'],\n",
       "       [b'7.1', b'3.0', b'5.9', b'2.1', b'Iris-virginica'],\n",
       "       [b'6.3', b'2.9', b'5.6', b'1.8', b'Iris-virginica'],\n",
       "       [b'6.5', b'3.0', b'5.8', b'2.2', b'Iris-virginica'],\n",
       "       [b'7.6', b'3.0', b'6.6', b'2.1', b'Iris-virginica'],\n",
       "       [b'4.9', b'2.5', b'4.5', b'1.7', b'Iris-virginica'],\n",
       "       [b'7.3', b'2.9', b'6.3', b'1.8', b'Iris-virginica'],\n",
       "       [b'6.7', b'2.5', b'5.8', b'1.8', b'Iris-virginica'],\n",
       "       [b'7.2', b'3.6', b'6.1', b'2.5', b'Iris-virginica'],\n",
       "       [b'6.5', b'3.2', b'5.1', b'2.0', b'Iris-virginica'],\n",
       "       [b'6.4', b'2.7', b'5.3', b'1.9', b'Iris-virginica'],\n",
       "       [b'6.8', b'3.0', b'5.5', b'2.1', b'Iris-virginica'],\n",
       "       [b'5.7', b'2.5', b'5.0', b'2.0', b'Iris-virginica'],\n",
       "       [b'5.8', b'2.8', b'5.1', b'2.4', b'Iris-virginica'],\n",
       "       [b'6.4', b'3.2', b'5.3', b'2.3', b'Iris-virginica'],\n",
       "       [b'6.5', b'3.0', b'5.5', b'1.8', b'Iris-virginica'],\n",
       "       [b'7.7', b'3.8', b'6.7', b'2.2', b'Iris-virginica'],\n",
       "       [b'7.7', b'2.6', b'6.9', b'2.3', b'Iris-virginica'],\n",
       "       [b'6.0', b'2.2', b'5.0', b'1.5', b'Iris-virginica'],\n",
       "       [b'6.9', b'3.2', b'5.7', b'2.3', b'Iris-virginica'],\n",
       "       [b'5.6', b'2.8', b'4.9', b'2.0', b'Iris-virginica'],\n",
       "       [b'7.7', b'2.8', b'6.7', b'2.0', b'Iris-virginica'],\n",
       "       [b'6.3', b'2.7', b'4.9', b'1.8', b'Iris-virginica'],\n",
       "       [b'6.7', b'3.3', b'5.7', b'2.1', b'Iris-virginica'],\n",
       "       [b'7.2', b'3.2', b'6.0', b'1.8', b'Iris-virginica'],\n",
       "       [b'6.2', b'2.8', b'4.8', b'1.8', b'Iris-virginica'],\n",
       "       [b'6.1', b'3.0', b'4.9', b'1.8', b'Iris-virginica'],\n",
       "       [b'6.4', b'2.8', b'5.6', b'2.1', b'Iris-virginica'],\n",
       "       [b'7.2', b'3.0', b'5.8', b'1.6', b'Iris-virginica'],\n",
       "       [b'7.4', b'2.8', b'6.1', b'1.9', b'Iris-virginica'],\n",
       "       [b'7.9', b'3.8', b'6.4', b'2.0', b'Iris-virginica'],\n",
       "       [b'6.4', b'2.8', b'5.6', b'2.2', b'Iris-virginica'],\n",
       "       [b'6.3', b'2.8', b'5.1', b'1.5', b'Iris-virginica'],\n",
       "       [b'6.1', b'2.6', b'5.6', b'1.4', b'Iris-virginica'],\n",
       "       [b'7.7', b'3.0', b'6.1', b'2.3', b'Iris-virginica'],\n",
       "       [b'6.3', b'3.4', b'5.6', b'2.4', b'Iris-virginica'],\n",
       "       [b'6.4', b'3.1', b'5.5', b'1.8', b'Iris-virginica'],\n",
       "       [b'6.0', b'3.0', b'4.8', b'1.8', b'Iris-virginica'],\n",
       "       [b'6.9', b'3.1', b'5.4', b'2.1', b'Iris-virginica'],\n",
       "       [b'6.7', b'3.1', b'5.6', b'2.4', b'Iris-virginica'],\n",
       "       [b'6.9', b'3.1', b'5.1', b'2.3', b'Iris-virginica'],\n",
       "       [b'5.8', b'2.7', b'5.1', b'1.9', b'Iris-virginica'],\n",
       "       [b'6.8', b'3.2', b'5.9', b'2.3', b'Iris-virginica'],\n",
       "       [b'6.7', b'3.3', b'5.7', b'2.5', b'Iris-virginica'],\n",
       "       [b'6.7', b'3.0', b'5.2', b'2.3', b'Iris-virginica'],\n",
       "       [b'6.3', b'2.5', b'5.0', b'1.9', b'Iris-virginica'],\n",
       "       [b'6.5', b'3.0', b'5.2', b'2.0', b'Iris-virginica'],\n",
       "       [b'6.2', b'3.4', b'5.4', b'2.3', b'Iris-virginica'],\n",
       "       [b'5.9', b'3.0', b'5.1', b'1.8', b'Iris-virginica']], dtype=object)"
      ]
     },
     "execution_count": 9,
     "metadata": {},
     "output_type": "execute_result"
    }
   ],
   "source": [
    "url = 'https://archive.ics.uci.edu/ml/machine-learning-databases/iris/iris.data'\n",
    "ds = np.genfromtxt(url, delimiter = ',', dtype = 'object')\n",
    "ds"
   ]
  },
  {
   "cell_type": "code",
   "execution_count": 10,
   "id": "understood-sound",
   "metadata": {},
   "outputs": [
    {
     "data": {
      "text/plain": [
       "array([5.1, 4.9, 4.7, 4.6, 5. , 5.4, 4.6, 5. , 4.4, 4.9, 5.4, 4.8, 4.8,\n",
       "       4.3, 5.8, 5.7, 5.4, 5.1, 5.7, 5.1, 5.4, 5.1, 4.6, 5.1, 4.8, 5. ,\n",
       "       5. , 5.2, 5.2, 4.7, 4.8, 5.4, 5.2, 5.5, 4.9, 5. , 5.5, 4.9, 4.4,\n",
       "       5.1, 5. , 4.5, 4.4, 5. , 5.1, 4.8, 5.1, 4.6, 5.3, 5. , 7. , 6.4,\n",
       "       6.9, 5.5, 6.5, 5.7, 6.3, 4.9, 6.6, 5.2, 5. , 5.9, 6. , 6.1, 5.6,\n",
       "       6.7, 5.6, 5.8, 6.2, 5.6, 5.9, 6.1, 6.3, 6.1, 6.4, 6.6, 6.8, 6.7,\n",
       "       6. , 5.7, 5.5, 5.5, 5.8, 6. , 5.4, 6. , 6.7, 6.3, 5.6, 5.5, 5.5,\n",
       "       6.1, 5.8, 5. , 5.6, 5.7, 5.7, 6.2, 5.1, 5.7, 6.3, 5.8, 7.1, 6.3,\n",
       "       6.5, 7.6, 4.9, 7.3, 6.7, 7.2, 6.5, 6.4, 6.8, 5.7, 5.8, 6.4, 6.5,\n",
       "       7.7, 7.7, 6. , 6.9, 5.6, 7.7, 6.3, 6.7, 7.2, 6.2, 6.1, 6.4, 7.2,\n",
       "       7.4, 7.9, 6.4, 6.3, 6.1, 7.7, 6.3, 6.4, 6. , 6.9, 6.7, 6.9, 5.8,\n",
       "       6.8, 6.7, 6.7, 6.3, 6.5, 6.2, 5.9])"
      ]
     },
     "execution_count": 10,
     "metadata": {},
     "output_type": "execute_result"
    }
   ],
   "source": [
    "atribut_1 = np.genfromtxt(url, delimiter=',', dtype='float', usecols=[0])\n",
    "atribut_2 = np.genfromtxt(url, delimiter=',', dtype='float', usecols=[1])\n",
    "atribut_3 = np.genfromtxt(url, delimiter=',', dtype='float', usecols=[2])\n",
    "atribut_4 = np.genfromtxt(url, delimiter=',', dtype='float', usecols=[3])\n",
    "atribut_5 = np.genfromtxt(url, delimiter=',', dtype='str', usecols=[4])\n",
    "\n",
    "atribut_1"
   ]
  },
  {
   "cell_type": "code",
   "execution_count": 11,
   "id": "dedicated-spanking",
   "metadata": {},
   "outputs": [
    {
     "name": "stdout",
     "output_type": "stream",
     "text": [
      "Среднее для атрибута 0 =  5.843333333333334\n",
      "Минимум для атрибута 0 =  4.3\n",
      "Максимум для атрибута 0 =  7.9\n",
      "Медиана для атрибута 0 =  5.8\n",
      "Персентиль 0.25 для атрибута 0 =  5.1\n",
      "Персентиль 0.75 для атрибута 0 =  6.4\n",
      "\n",
      "\n",
      "Среднее для атрибута 1 =  3.0540000000000003\n",
      "Минимум для атрибута 1 =  2.0\n",
      "Максимум для атрибута 1 =  4.4\n",
      "Медиана для атрибута 1 =  3.0\n",
      "Персентиль 0.25 для атрибута 1 =  2.8\n",
      "Персентиль 0.75 для атрибута 1 =  3.3\n",
      "\n",
      "\n",
      "Среднее для атрибута 2 =  3.758666666666666\n",
      "Минимум для атрибута 2 =  1.0\n",
      "Максимум для атрибута 2 =  6.9\n",
      "Медиана для атрибута 2 =  4.35\n",
      "Персентиль 0.25 для атрибута 2 =  1.6\n",
      "Персентиль 0.75 для атрибута 2 =  5.1\n",
      "\n",
      "\n",
      "Среднее для атрибута 3 =  1.1986666666666668\n",
      "Минимум для атрибута 3 =  0.1\n",
      "Максимум для атрибута 3 =  2.5\n",
      "Медиана для атрибута 3 =  1.3\n",
      "Персентиль 0.25 для атрибута 3 =  0.3\n",
      "Персентиль 0.75 для атрибута 3 =  1.8\n",
      "\n",
      "\n"
     ]
    }
   ],
   "source": [
    "number_atribut = []\n",
    "for i in range(4):\n",
    "    number_atribut.append(np.genfromtxt(url, delimiter=',', dtype='float', usecols=[i]))\n",
    "for i in range(len(number_atribut)):\n",
    "    print(f'Среднее для атрибута {i} = ', np.mean(number_atribut[i]))\n",
    "    print(f'Минимум для атрибута {i} = ', np.min(number_atribut[i]))\n",
    "    print(f'Максимум для атрибута {i} = ', np.max(number_atribut[i]))\n",
    "    print(f'Медиана для атрибута {i} = ', np.median(number_atribut[i]))\n",
    "    print(f'Персентиль 0.25 для атрибута {i} = ', np.percentile(number_atribut[i], 25))\n",
    "    print(f'Персентиль 0.75 для атрибута {i} = ', np.percentile(number_atribut[i], 75))\n",
    "    print('\\n')"
   ]
  },
  {
   "cell_type": "code",
   "execution_count": 12,
   "id": "developing-thursday",
   "metadata": {},
   "outputs": [],
   "source": [
    "import matplotlib as plt\n",
    "import matplotlib.pyplot as plt"
   ]
  },
  {
   "cell_type": "code",
   "execution_count": 13,
   "id": "orange-transport",
   "metadata": {},
   "outputs": [
    {
     "data": {
      "image/png": "[encoded data removed]",
      "text/plain": [
       "<Figure size 432x288 with 1 Axes>"
      ]
     },
     "metadata": {
      "needs_background": "light"
     },
     "output_type": "display_data"
    }
   ],
   "source": [
    "plt.hist(atribut_1)\n",
    "plt.title('Гистограмма для атрибута 1')\n",
    "plt.show()"
   ]
  },
  {
   "cell_type": "code",
   "execution_count": 15,
   "id": "fuzzy-information",
   "metadata": {},
   "outputs": [
    {
     "data": {
      "image/png": "[encoded data removed]",
      "text/plain": [
       "<Figure size 432x288 with 4 Axes>"
      ]
     },
     "metadata": {
      "needs_background": "light"
     },
     "output_type": "display_data"
    }
   ],
   "source": [
    "fig, ((ax1,ax2), (ax3,ax4)) = plt.subplots(nrows=2, ncols=2)\n",
    "\n",
    "ax1.hist(atribut_1)\n",
    "ax1.set_title('Гистограмма для atr_1')\n",
    "\n",
    "ax2.hist(atribut_2)\n",
    "ax2.set_title('Гистограмма для atr_2')\n",
    "\n",
    "ax3.hist(atribut_3)\n",
    "ax3.set_title('Гистограмма для atr_3')\n",
    "\n",
    "ax4.hist(atribut_4)\n",
    "ax4.set_title('Гистограмма для atr_4')\n",
    "\n",
    "fig.tight_layout()\n",
    "plt.show()"
   ]
  },
  {
   "cell_type": "code",
   "execution_count": 21,
   "id": "innovative-warrior",
   "metadata": {},
   "outputs": [
    {
     "name": "stdout",
     "output_type": "stream",
     "text": [
      "Для числового атрибута 1  Группа Iris-setosa\n",
      "\n",
      "\n",
      "--- Выведем статистику - задание 2 ---\n",
      "Среднее для нового атрибута 0 =  5.006\n",
      "Минимум для нового атрибута 0 =  4.3\n",
      "Максимум для нового атрибута 0 =  5.8\n",
      "Медиана для нового атрибута 0 =  5.0\n",
      "Персентиль 0.25 для нового атрибута 0 =  4.8\n",
      "Персентиль 0.75 для нового атрибута 0 =  5.2\n",
      "\n",
      "\n",
      "--- Выведем гистограмму - задание 3 ---\n"
     ]
    },
    {
     "data": {
      "image/png": "[encoded data removed]",
      "text/plain": [
       "<Figure size 432x288 with 1 Axes>"
      ]
     },
     "metadata": {
      "needs_background": "light"
     },
     "output_type": "display_data"
    },
    {
     "name": "stdout",
     "output_type": "stream",
     "text": [
      "Для числового атрибута 1  Группа Iris-versicolor\n",
      "\n",
      "\n",
      "--- Выведем статистику - задание 2 ---\n",
      "Среднее для нового атрибута 1 =  5.936\n",
      "Минимум для нового атрибута 1 =  4.9\n",
      "Максимум для нового атрибута 1 =  7.0\n",
      "Медиана для нового атрибута 1 =  5.9\n",
      "Персентиль 0.25 для нового атрибута 1 =  5.6\n",
      "Персентиль 0.75 для нового атрибута 1 =  6.3\n",
      "\n",
      "\n",
      "--- Выведем гистограмму - задание 3 ---\n"
     ]
    },
    {
     "data": {
      "image/png": "[encoded data removed]",
      "text/plain": [
       "<Figure size 432x288 with 1 Axes>"
      ]
     },
     "metadata": {
      "needs_background": "light"
     },
     "output_type": "display_data"
    },
    {
     "name": "stdout",
     "output_type": "stream",
     "text": [
      "Для числового атрибута 1  Группа Iris-virginica\n",
      "\n",
      "\n",
      "--- Выведем статистику - задание 2 ---\n",
      "Среднее для нового атрибута 2 =  6.587999999999998\n",
      "Минимум для нового атрибута 2 =  4.9\n",
      "Максимум для нового атрибута 2 =  7.9\n",
      "Медиана для нового атрибута 2 =  6.5\n",
      "Персентиль 0.25 для нового атрибута 2 =  6.225\n",
      "Персентиль 0.75 для нового атрибута 2 =  6.9\n",
      "\n",
      "\n",
      "--- Выведем гистограмму - задание 3 ---\n"
     ]
    },
    {
     "data": {
      "image/png": "[encoded data removed]",
      "text/plain": [
       "<Figure size 432x288 with 1 Axes>"
      ]
     },
     "metadata": {
      "needs_background": "light"
     },
     "output_type": "display_data"
    },
    {
     "name": "stdout",
     "output_type": "stream",
     "text": [
      "Для числового атрибута 2  Группа Iris-setosa\n",
      "\n",
      "\n",
      "--- Выведем статистику - задание 2 ---\n",
      "Среднее для нового атрибута 3 =  3.418\n",
      "Минимум для нового атрибута 3 =  2.3\n",
      "Максимум для нового атрибута 3 =  4.4\n",
      "Медиана для нового атрибута 3 =  3.4\n",
      "Персентиль 0.25 для нового атрибута 3 =  3.125\n",
      "Персентиль 0.75 для нового атрибута 3 =  3.6750000000000003\n",
      "\n",
      "\n",
      "--- Выведем гистограмму - задание 3 ---\n"
     ]
    },
    {
     "data": {
      "image/png": "[encoded data removed]",
      "text/plain": [
       "<Figure size 432x288 with 1 Axes>"
      ]
     },
     "metadata": {
      "needs_background": "light"
     },
     "output_type": "display_data"
    },
    {
     "name": "stdout",
     "output_type": "stream",
     "text": [
      "Для числового атрибута 2  Группа Iris-versicolor\n",
      "\n",
      "\n",
      "--- Выведем статистику - задание 2 ---\n",
      "Среднее для нового атрибута 4 =  2.7700000000000005\n",
      "Минимум для нового атрибута 4 =  2.0\n",
      "Максимум для нового атрибута 4 =  3.4\n",
      "Медиана для нового атрибута 4 =  2.8\n",
      "Персентиль 0.25 для нового атрибута 4 =  2.525\n",
      "Персентиль 0.75 для нового атрибута 4 =  3.0\n",
      "\n",
      "\n",
      "--- Выведем гистограмму - задание 3 ---\n"
     ]
    },
    {
     "data": {
      "image/png": "[encoded data removed]",
      "text/plain": [
       "<Figure size 432x288 with 1 Axes>"
      ]
     },
     "metadata": {
      "needs_background": "light"
     },
     "output_type": "display_data"
    },
    {
     "name": "stdout",
     "output_type": "stream",
     "text": [
      "Для числового атрибута 2  Группа Iris-virginica\n",
      "\n",
      "\n",
      "--- Выведем статистику - задание 2 ---\n",
      "Среднее для нового атрибута 5 =  2.974\n",
      "Минимум для нового атрибута 5 =  2.2\n",
      "Максимум для нового атрибута 5 =  3.8\n",
      "Медиана для нового атрибута 5 =  3.0\n",
      "Персентиль 0.25 для нового атрибута 5 =  2.8\n",
      "Персентиль 0.75 для нового атрибута 5 =  3.1750000000000003\n",
      "\n",
      "\n",
      "--- Выведем гистограмму - задание 3 ---\n"
     ]
    },
    {
     "data": {
      "image/png": "[encoded data removed]",
      "text/plain": [
       "<Figure size 432x288 with 1 Axes>"
      ]
     },
     "metadata": {
      "needs_background": "light"
     },
     "output_type": "display_data"
    },
    {
     "name": "stdout",
     "output_type": "stream",
     "text": [
      "Для числового атрибута 3  Группа Iris-setosa\n",
      "\n",
      "\n",
      "--- Выведем статистику - задание 2 ---\n",
      "Среднее для нового атрибута 6 =  1.464\n",
      "Минимум для нового атрибута 6 =  1.0\n",
      "Максимум для нового атрибута 6 =  1.9\n",
      "Медиана для нового атрибута 6 =  1.5\n",
      "Персентиль 0.25 для нового атрибута 6 =  1.4\n",
      "Персентиль 0.75 для нового атрибута 6 =  1.5750000000000002\n",
      "\n",
      "\n",
      "--- Выведем гистограмму - задание 3 ---\n"
     ]
    },
    {
     "data": {
      "image/png": "[encoded data removed]",
      "text/plain": [
       "<Figure size 432x288 with 1 Axes>"
      ]
     },
     "metadata": {
      "needs_background": "light"
     },
     "output_type": "display_data"
    },
    {
     "name": "stdout",
     "output_type": "stream",
     "text": [
      "Для числового атрибута 3  Группа Iris-versicolor\n",
      "\n",
      "\n",
      "--- Выведем статистику - задание 2 ---\n",
      "Среднее для нового атрибута 7 =  4.26\n",
      "Минимум для нового атрибута 7 =  3.0\n",
      "Максимум для нового атрибута 7 =  5.1\n",
      "Медиана для нового атрибута 7 =  4.35\n",
      "Персентиль 0.25 для нового атрибута 7 =  4.0\n",
      "Персентиль 0.75 для нового атрибута 7 =  4.6\n",
      "\n",
      "\n",
      "--- Выведем гистограмму - задание 3 ---\n"
     ]
    },
    {
     "data": {
      "image/png": "[encoded data removed]",
      "text/plain": [
       "<Figure size 432x288 with 1 Axes>"
      ]
     },
     "metadata": {
      "needs_background": "light"
     },
     "output_type": "display_data"
    },
    {
     "name": "stdout",
     "output_type": "stream",
     "text": [
      "Для числового атрибута 3  Группа Iris-virginica\n",
      "\n",
      "\n",
      "--- Выведем статистику - задание 2 ---\n",
      "Среднее для нового атрибута 8 =  5.5520000000000005\n",
      "Минимум для нового атрибута 8 =  4.5\n",
      "Максимум для нового атрибута 8 =  6.9\n",
      "Медиана для нового атрибута 8 =  5.55\n",
      "Персентиль 0.25 для нового атрибута 8 =  5.1\n",
      "Персентиль 0.75 для нового атрибута 8 =  5.875\n",
      "\n",
      "\n",
      "--- Выведем гистограмму - задание 3 ---\n"
     ]
    },
    {
     "data": {
      "image/png": "[encoded data removed]",
      "text/plain": [
       "<Figure size 432x288 with 1 Axes>"
      ]
     },
     "metadata": {
      "needs_background": "light"
     },
     "output_type": "display_data"
    },
    {
     "name": "stdout",
     "output_type": "stream",
     "text": [
      "Для числового атрибута 4  Группа Iris-setosa\n",
      "\n",
      "\n",
      "--- Выведем статистику - задание 2 ---\n",
      "Среднее для нового атрибута 9 =  0.244\n",
      "Минимум для нового атрибута 9 =  0.1\n",
      "Максимум для нового атрибута 9 =  0.6\n",
      "Медиана для нового атрибута 9 =  0.2\n",
      "Персентиль 0.25 для нового атрибута 9 =  0.2\n",
      "Персентиль 0.75 для нового атрибута 9 =  0.3\n",
      "\n",
      "\n",
      "--- Выведем гистограмму - задание 3 ---\n"
     ]
    },
    {
     "data": {
      "image/png": "[encoded data removed]",
      "text/plain": [
       "<Figure size 432x288 with 1 Axes>"
      ]
     },
     "metadata": {
      "needs_background": "light"
     },
     "output_type": "display_data"
    },
    {
     "name": "stdout",
     "output_type": "stream",
     "text": [
      "Для числового атрибута 4  Группа Iris-versicolor\n",
      "\n",
      "\n",
      "--- Выведем статистику - задание 2 ---\n",
      "Среднее для нового атрибута 10 =  1.3259999999999998\n",
      "Минимум для нового атрибута 10 =  1.0\n",
      "Максимум для нового атрибута 10 =  1.8\n",
      "Медиана для нового атрибута 10 =  1.3\n",
      "Персентиль 0.25 для нового атрибута 10 =  1.2\n",
      "Персентиль 0.75 для нового атрибута 10 =  1.5\n",
      "\n",
      "\n",
      "--- Выведем гистограмму - задание 3 ---\n"
     ]
    },
    {
     "data": {
      "image/png": "[encoded data removed]",
      "text/plain": [
       "<Figure size 432x288 with 1 Axes>"
      ]
     },
     "metadata": {
      "needs_background": "light"
     },
     "output_type": "display_data"
    },
    {
     "name": "stdout",
     "output_type": "stream",
     "text": [
      "Для числового атрибута 4  Группа Iris-virginica\n",
      "\n",
      "\n",
      "--- Выведем статистику - задание 2 ---\n",
      "Среднее для нового атрибута 11 =  2.0260000000000002\n",
      "Минимум для нового атрибута 11 =  1.4\n",
      "Максимум для нового атрибута 11 =  2.5\n",
      "Медиана для нового атрибута 11 =  2.0\n",
      "Персентиль 0.25 для нового атрибута 11 =  1.8\n",
      "Персентиль 0.75 для нового атрибута 11 =  2.3\n",
      "\n",
      "\n",
      "--- Выведем гистограмму - задание 3 ---\n"
     ]
    },
    {
     "data": {
      "image/png": "[encoded data removed]",
      "text/plain": [
       "<Figure size 432x288 with 1 Axes>"
      ]
     },
     "metadata": {
      "needs_background": "light"
     },
     "output_type": "display_data"
    }
   ],
   "source": [
    "newlist = [] \n",
    "\n",
    "for i in range(len(number_atribut)):\n",
    "    for val in np.unique(atribut_5):\n",
    "        newlist.append([i, val, number_atribut[i][atribut_5==val]])\n",
    "#print (len(newlist))\n",
    "\n",
    "for i in range(len(newlist)):\n",
    "    print(f'Для числового атрибута {newlist[i][0]+1}  Группа {newlist[i][1]}')\n",
    "    print('\\n')\n",
    "    print('--- Выведем статистику - задание 2 ---')\n",
    "    print(f'Среднее для нового атрибута {i} = ', np.mean(newlist[i][2]))\n",
    "    print(f'Минимум для нового атрибута {i} = ', np.min(newlist[i][2]))\n",
    "    print(f'Максимум для нового атрибута {i} = ', np.max(newlist[i][2]))\n",
    "    print(f'Медиана для нового атрибута {i} = ', np.median(newlist[i][2]))\n",
    "    print(f'Персентиль 0.25 для нового атрибута {i} = ', np.percentile(newlist[i][2], 25))\n",
    "    print(f'Персентиль 0.75 для нового атрибута {i} = ', np.percentile(newlist[i][2], 75))\n",
    "    print('\\n')\n",
    "    print('--- Выведем гистограмму - задание 3 ---')\n",
    "    plt.hist(newlist[i][2])\n",
    "    plt.title(f'Гистограмма для нового атрибута {i}')\n",
    "    plt.show()"
   ]
  }
 ],
 "metadata": {
  "kernelspec": {
   "display_name": "Python 3",
   "language": "python",
   "name": "python3"
  },
  "language_info": {
   "codemirror_mode": {
    "name": "ipython",
    "version": 3
   },
   "file_extension": ".py",
   "mimetype": "text/x-python",
   "name": "python",
   "nbconvert_exporter": "python",
   "pygments_lexer": "ipython3",
   "version": "3.9.1"
  }
 },
 "nbformat": 4,
 "nbformat_minor": 5
}
