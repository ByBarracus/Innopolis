{
 "cells": [
  {
   "cell_type": "raw",
   "id": "civil-prisoner",
   "metadata": {},
   "source": [
    "В этом задании вам необходимо использовать набор данных ad.csv. \n",
    "1) Датасет содежит 2 столбца: объявление (A/B) и действие (0/1). \n",
    "2) Вам необходимо сформулировать гипотезу, провести ее проверку (пользуясь классическим подходом) и ответить на вопрос какое из объявлений лучше. \n",
    "Результаты загрузить в робокод в виде короткого отчета (до 1 стр.)"
   ]
  },
  {
   "cell_type": "raw",
   "id": "tested-mileage",
   "metadata": {},
   "source": [
    "1. Контекст задачи\n",
    "В интернет-магазине изменены визуальные составляющие при совершении заказа, собрана статистика за n-ный период времени.\n",
    "Дизайн считаем успешным, если конверсия по новой версии превышает конверсию по старому варианту.\n",
    "\n",
    "2. Формулировка гипотезы\n",
    "Hо: p(a) = p(b)\n",
    "H1: p(a) ≠ p(b) и p(b) > p(a)\n",
    "\n",
    "где p(a) и p(b) означают соответственно коэффициент конверсии старого и нового дизайна. Мы также установим уровень доверия 95%, то есть α = 0,05\n",
    "\n",
    "Значение α - это порог, который устанавливаем и делаем вывод: «Если вероятность наблюдения за результатом (p-значением) ниже α, то мы отвергаем гипотезу Hо». Поскольку наша α=0,05 (что указывает на вероятность 5%), наша уверенность (1 — α) составляет 95%.\n",
    "\n",
    "В результате решения данной задачи, мы хотим быть на 95% уверены, что новый дизайн статистически отличается от коэффициента конверсии старого дизайна, прежде чем отклонить нулевую гипотезу Ho."
   ]
  },
  {
   "cell_type": "code",
   "execution_count": 9,
   "id": "responsible-adobe",
   "metadata": {},
   "outputs": [
    {
     "name": "stdout",
     "output_type": "stream",
     "text": [
      "Requirement already satisfied: seaborn in c:\\users\\царь\\appdata\\local\\programs\\python\\python39\\lib\\site-packages (0.11.2)\n",
      "Requirement already satisfied: scipy>=1.0 in c:\\users\\царь\\appdata\\local\\programs\\python\\python39\\lib\\site-packages (from seaborn) (1.8.0)\n",
      "Requirement already satisfied: matplotlib>=2.2 in c:\\users\\царь\\appdata\\local\\programs\\python\\python39\\lib\\site-packages (from seaborn) (3.5.1)\n",
      "Requirement already satisfied: pandas>=0.23 in c:\\users\\царь\\appdata\\local\\programs\\python\\python39\\lib\\site-packages (from seaborn) (1.2.4)\n",
      "Requirement already satisfied: numpy>=1.15 in c:\\users\\царь\\appdata\\local\\programs\\python\\python39\\lib\\site-packages (from seaborn) (1.20.2)\n",
      "Requirement already satisfied: cycler>=0.10 in c:\\users\\царь\\appdata\\local\\programs\\python\\python39\\lib\\site-packages (from matplotlib>=2.2->seaborn) (0.11.0)\n",
      "Requirement already satisfied: pyparsing>=2.2.1 in c:\\users\\царь\\appdata\\local\\programs\\python\\python39\\lib\\site-packages (from matplotlib>=2.2->seaborn) (2.4.7)\n",
      "Requirement already satisfied: fonttools>=4.22.0 in c:\\users\\царь\\appdata\\local\\programs\\python\\python39\\lib\\site-packages (from matplotlib>=2.2->seaborn) (4.29.1)\n",
      "Requirement already satisfied: pillow>=6.2.0 in c:\\users\\царь\\appdata\\local\\programs\\python\\python39\\lib\\site-packages (from matplotlib>=2.2->seaborn) (9.0.1)\n",
      "Requirement already satisfied: python-dateutil>=2.7 in c:\\users\\царь\\appdata\\local\\programs\\python\\python39\\lib\\site-packages (from matplotlib>=2.2->seaborn) (2.8.1)\n",
      "Requirement already satisfied: kiwisolver>=1.0.1 in c:\\users\\царь\\appdata\\local\\programs\\python\\python39\\lib\\site-packages (from matplotlib>=2.2->seaborn) (1.3.2)\n",
      "Requirement already satisfied: packaging>=20.0 in c:\\users\\царь\\appdata\\local\\programs\\python\\python39\\lib\\site-packages (from matplotlib>=2.2->seaborn) (20.9)\n",
      "Requirement already satisfied: pytz>=2017.3 in c:\\users\\царь\\appdata\\local\\programs\\python\\python39\\lib\\site-packages (from pandas>=0.23->seaborn) (2021.1)\n",
      "Requirement already satisfied: six>=1.5 in c:\\users\\царь\\appdata\\local\\programs\\python\\python39\\lib\\site-packages (from python-dateutil>=2.7->matplotlib>=2.2->seaborn) (1.15.0)\n",
      "Note: you may need to restart the kernel to use updated packages.\n"
     ]
    },
    {
     "name": "stderr",
     "output_type": "stream",
     "text": [
      "WARNING: You are using pip version 21.0.1; however, version 22.0.4 is available.\n",
      "You should consider upgrading via the 'c:\\users\\царь\\appdata\\local\\programs\\python\\python39\\python.exe -m pip install --upgrade pip' command.\n"
     ]
    }
   ],
   "source": [
    "pip install seaborn"
   ]
  },
  {
   "cell_type": "code",
   "execution_count": 6,
   "id": "absent-appearance",
   "metadata": {},
   "outputs": [
    {
     "data": {
      "text/plain": [
       "'C:\\\\Users\\\\Царь'"
      ]
     },
     "execution_count": 6,
     "metadata": {},
     "output_type": "execute_result"
    }
   ],
   "source": [
    "# %pwd  #look at the current work dir\n",
    "# %cd   #change to the dir you want \n",
    "\n",
    "%pwd # Вспоминаем, где рабочая область, чтобы закинуть файлик с датасетом"
   ]
  },
  {
   "cell_type": "code",
   "execution_count": 11,
   "id": "thrown-season",
   "metadata": {},
   "outputs": [
    {
     "data": {
      "text/html": [
       "<div>\n",
       "<style scoped>\n",
       "    .dataframe tbody tr th:only-of-type {\n",
       "        vertical-align: middle;\n",
       "    }\n",
       "\n",
       "    .dataframe tbody tr th {\n",
       "        vertical-align: top;\n",
       "    }\n",
       "\n",
       "    .dataframe thead th {\n",
       "        text-align: right;\n",
       "    }\n",
       "</style>\n",
       "<table border=\"1\" class=\"dataframe\">\n",
       "  <thead>\n",
       "    <tr style=\"text-align: right;\">\n",
       "      <th></th>\n",
       "      <th>ad_id</th>\n",
       "      <th>action</th>\n",
       "    </tr>\n",
       "  </thead>\n",
       "  <tbody>\n",
       "    <tr>\n",
       "      <th>0</th>\n",
       "      <td>B</td>\n",
       "      <td>1</td>\n",
       "    </tr>\n",
       "    <tr>\n",
       "      <th>1</th>\n",
       "      <td>B</td>\n",
       "      <td>1</td>\n",
       "    </tr>\n",
       "    <tr>\n",
       "      <th>2</th>\n",
       "      <td>A</td>\n",
       "      <td>0</td>\n",
       "    </tr>\n",
       "    <tr>\n",
       "      <th>3</th>\n",
       "      <td>B</td>\n",
       "      <td>0</td>\n",
       "    </tr>\n",
       "    <tr>\n",
       "      <th>4</th>\n",
       "      <td>A</td>\n",
       "      <td>1</td>\n",
       "    </tr>\n",
       "  </tbody>\n",
       "</table>\n",
       "</div>"
      ],
      "text/plain": [
       "  ad_id  action\n",
       "0     B       1\n",
       "1     B       1\n",
       "2     A       0\n",
       "3     B       0\n",
       "4     A       1"
      ]
     },
     "execution_count": 11,
     "metadata": {},
     "output_type": "execute_result"
    }
   ],
   "source": [
    "#Импортируем все библиотеки\n",
    "import pandas as pd\n",
    "import numpy as np\n",
    "import seaborn as sns\n",
    "import scipy.stats as stats\n",
    "import matplotlib.pyplot as plt\n",
    "\n",
    "#загрузим данный датасет в виде датафрейма\n",
    "df = pd.read_csv('ad.csv')\n",
    "\n",
    "#посмотрим примерные значения и структуру полученного датафрейма\n",
    "df.head()"
   ]
  },
  {
   "cell_type": "raw",
   "id": "diagnostic-pregnancy",
   "metadata": {},
   "source": [
    "Описание набора данных:\n",
    "A - Старый вариант\n",
    "B - Новый вариант\n",
    "\n",
    "0 - не было покупки\n",
    "1 - была покупка"
   ]
  },
  {
   "cell_type": "code",
   "execution_count": 12,
   "id": "perfect-configuration",
   "metadata": {},
   "outputs": [
    {
     "data": {
      "text/plain": [
       "<AxesSubplot:xlabel='action', ylabel='Count'>"
      ]
     },
     "execution_count": 12,
     "metadata": {},
     "output_type": "execute_result"
    },
    {
     "data": {
      "image/png": "[encoded data removed]",
      "text/plain": [
       "<Figure size 432x288 with 1 Axes>"
      ]
     },
     "metadata": {
      "needs_background": "light"
     },
     "output_type": "display_data"
    }
   ],
   "source": [
    "#построим гистрограмму входных данных - как распределены значения\n",
    "sns.histplot(data=df, x=\"action\", hue=\"ad_id\", multiple=\"dodge\")"
   ]
  },
  {
   "cell_type": "code",
   "execution_count": 17,
   "id": "psychological-suggestion",
   "metadata": {},
   "outputs": [
    {
     "data": {
      "text/html": [
       "<div>\n",
       "<style scoped>\n",
       "    .dataframe tbody tr th:only-of-type {\n",
       "        vertical-align: middle;\n",
       "    }\n",
       "\n",
       "    .dataframe tbody tr th {\n",
       "        vertical-align: top;\n",
       "    }\n",
       "\n",
       "    .dataframe thead th {\n",
       "        text-align: right;\n",
       "    }\n",
       "</style>\n",
       "<table border=\"1\" class=\"dataframe\">\n",
       "  <thead>\n",
       "    <tr style=\"text-align: right;\">\n",
       "      <th></th>\n",
       "      <th>action</th>\n",
       "    </tr>\n",
       "    <tr>\n",
       "      <th>ad_id</th>\n",
       "      <th></th>\n",
       "    </tr>\n",
       "  </thead>\n",
       "  <tbody>\n",
       "    <tr>\n",
       "      <th>A</th>\n",
       "      <td>304</td>\n",
       "    </tr>\n",
       "    <tr>\n",
       "      <th>B</th>\n",
       "      <td>372</td>\n",
       "    </tr>\n",
       "  </tbody>\n",
       "</table>\n",
       "</div>"
      ],
      "text/plain": [
       "       action\n",
       "ad_id        \n",
       "A         304\n",
       "B         372"
      ]
     },
     "execution_count": 17,
     "metadata": {},
     "output_type": "execute_result"
    }
   ],
   "source": [
    "summary_df = df.pivot_table(values='action', index = 'ad_id', aggfunc=np.sum)\n",
    "summary_df"
   ]
  },
  {
   "cell_type": "code",
   "execution_count": 16,
   "id": "perceived-intersection",
   "metadata": {},
   "outputs": [
    {
     "data": {
      "text/html": [
       "<div>\n",
       "<style scoped>\n",
       "    .dataframe tbody tr th:only-of-type {\n",
       "        vertical-align: middle;\n",
       "    }\n",
       "\n",
       "    .dataframe tbody tr th {\n",
       "        vertical-align: top;\n",
       "    }\n",
       "\n",
       "    .dataframe thead th {\n",
       "        text-align: right;\n",
       "    }\n",
       "</style>\n",
       "<table border=\"1\" class=\"dataframe\">\n",
       "  <thead>\n",
       "    <tr style=\"text-align: right;\">\n",
       "      <th></th>\n",
       "      <th>action</th>\n",
       "      <th>conversion_rate</th>\n",
       "      <th>total_count</th>\n",
       "      <th>std_p</th>\n",
       "      <th>se_p</th>\n",
       "    </tr>\n",
       "    <tr>\n",
       "      <th>ad_id</th>\n",
       "      <th></th>\n",
       "      <th></th>\n",
       "      <th></th>\n",
       "      <th></th>\n",
       "      <th></th>\n",
       "    </tr>\n",
       "  </thead>\n",
       "  <tbody>\n",
       "    <tr>\n",
       "      <th>A</th>\n",
       "      <td>304</td>\n",
       "      <td>0.304</td>\n",
       "      <td>1000</td>\n",
       "      <td>0.459983</td>\n",
       "      <td>0.014546</td>\n",
       "    </tr>\n",
       "    <tr>\n",
       "      <th>B</th>\n",
       "      <td>372</td>\n",
       "      <td>0.372</td>\n",
       "      <td>1000</td>\n",
       "      <td>0.483338</td>\n",
       "      <td>0.015285</td>\n",
       "    </tr>\n",
       "  </tbody>\n",
       "</table>\n",
       "</div>"
      ],
      "text/plain": [
       "       action  conversion_rate  total_count     std_p      se_p\n",
       "ad_id                                                          \n",
       "A         304            0.304         1000  0.459983  0.014546\n",
       "B         372            0.372         1000  0.483338  0.015285"
      ]
     },
     "execution_count": 16,
     "metadata": {},
     "output_type": "execute_result"
    }
   ],
   "source": [
    "summary_df['conversion_rate'] = df.pivot_table(values='action', index='ad_id') # добавим столбец среднее\n",
    "summary_df['total_count'] = df.pivot_table(values='action', index='ad_id', aggfunc=lambda x: len(x)) # добавим столбец всего\n",
    "summary_df['std_p'] = df.pivot_table(values='action', index='ad_id', aggfunc = lambda x: np.std(x, ddof=0)) # добавим среднее отклонение\n",
    "summary_df['se_p'] = df.pivot_table(values='action', index='ad_id', aggfunc = lambda x: stats.sem(x, ddof=0)) # добавим стандартную ошибку\n",
    "summary_df"
   ]
  },
  {
   "cell_type": "raw",
   "id": "measured-concentration",
   "metadata": {},
   "source": [
    "Промежуточные выводы:\n",
    "\n",
    "Дизайн B лучше, чем A (conversion_rate B > conversion_rate A)"
   ]
  },
  {
   "cell_type": "code",
   "execution_count": 18,
   "id": "normal-causing",
   "metadata": {},
   "outputs": [
    {
     "data": {
      "text/plain": [
       "Text(0, 0.5, 'Коэф-т конверсии')"
      ]
     },
     "execution_count": 18,
     "metadata": {},
     "output_type": "execute_result"
    },
    {
     "data": {
      "image/png": "[encoded data removed]",
      "text/plain": [
       "<Figure size 576x432 with 1 Axes>"
      ]
     },
     "metadata": {
      "needs_background": "light"
     },
     "output_type": "display_data"
    }
   ],
   "source": [
    "# Визуализируем\n",
    "\n",
    "plt.figure(figsize=(8,6))\n",
    "\n",
    "sns.barplot(x=df['ad_id'], y=df['action'])\n",
    "\n",
    "plt.title('Коэф-т конверсии для каждой группы')\n",
    "plt.xlabel('Группа')\n",
    "plt.ylabel('Коэф-т конверсии')"
   ]
  },
  {
   "cell_type": "code",
   "execution_count": 29,
   "id": "exposed-indication",
   "metadata": {},
   "outputs": [
    {
     "name": "stdout",
     "output_type": "stream",
     "text": [
      "Collecting statsmodels\n",
      "  Downloading statsmodels-0.13.2-cp39-cp39-win_amd64.whl (9.1 MB)\n",
      "Collecting packaging>=21.3\n",
      "  Downloading packaging-21.3-py3-none-any.whl (40 kB)\n",
      "Collecting patsy>=0.5.2\n",
      "  Downloading patsy-0.5.2-py2.py3-none-any.whl (233 kB)\n",
      "Requirement already satisfied: pandas>=0.25 in c:\\users\\царь\\appdata\\local\\programs\\python\\python39\\lib\\site-packages (from statsmodels) (1.2.4)\n",
      "Requirement already satisfied: numpy>=1.17 in c:\\users\\царь\\appdata\\local\\programs\\python\\python39\\lib\\site-packages (from statsmodels) (1.20.2)\n",
      "Requirement already satisfied: scipy>=1.3 in c:\\users\\царь\\appdata\\local\\programs\\python\\python39\\lib\\site-packages (from statsmodels) (1.8.0)\n",
      "Requirement already satisfied: pyparsing!=3.0.5,>=2.0.2 in c:\\users\\царь\\appdata\\local\\programs\\python\\python39\\lib\\site-packages (from packaging>=21.3->statsmodels) (2.4.7)\n",
      "Requirement already satisfied: pytz>=2017.3 in c:\\users\\царь\\appdata\\local\\programs\\python\\python39\\lib\\site-packages (from pandas>=0.25->statsmodels) (2021.1)\n",
      "Requirement already satisfied: python-dateutil>=2.7.3 in c:\\users\\царь\\appdata\\local\\programs\\python\\python39\\lib\\site-packages (from pandas>=0.25->statsmodels) (2.8.1)\n",
      "Requirement already satisfied: six in c:\\users\\царь\\appdata\\local\\programs\\python\\python39\\lib\\site-packages (from patsy>=0.5.2->statsmodels) (1.15.0)\n",
      "Installing collected packages: patsy, packaging, statsmodels\n",
      "  Attempting uninstall: packaging\n",
      "    Found existing installation: packaging 20.9\n",
      "    Uninstalling packaging-20.9:\n",
      "      Successfully uninstalled packaging-20.9\n",
      "Successfully installed packaging-21.3 patsy-0.5.2 statsmodels-0.13.2\n",
      "Note: you may need to restart the kernel to use updated packages.\n"
     ]
    },
    {
     "name": "stderr",
     "output_type": "stream",
     "text": [
      "WARNING: You are using pip version 21.0.1; however, version 22.0.4 is available.\n",
      "You should consider upgrading via the 'c:\\users\\царь\\appdata\\local\\programs\\python\\python39\\python.exe -m pip install --upgrade pip' command.\n"
     ]
    }
   ],
   "source": [
    "pip install statsmodels"
   ]
  },
  {
   "cell_type": "code",
   "execution_count": 32,
   "id": "reserved-outline",
   "metadata": {},
   "outputs": [
    {
     "name": "stdout",
     "output_type": "stream",
     "text": [
      "z statistic: -3.2144492244084213\n",
      "p-value: 0.0013069502732125403\n"
     ]
    }
   ],
   "source": [
    "# Доказываем\n",
    "\n",
    "from statsmodels.stats.proportion import proportions_ztest, proportion_confint\n",
    "\n",
    "# Выделяем явно группы: А и B\n",
    "control_results = df[df['ad_id'] == 'A']['action']\n",
    "test_results = df[df['ad_id'] == 'B']['action']\n",
    "\n",
    "# Считаем кол-во элементов в каждой группе\n",
    "nobs = [control_results.count(), test_results.count()]\n",
    "\n",
    "# Считаем кол-во покупок в каждой группе\n",
    "successes = [control_results.sum(), test_results.sum()]\n",
    "z_stat, pval = proportions_ztest(successes, nobs)\n",
    "\n",
    "print('z statistic:', z_stat)\n",
    "print('p-value:', pval)"
   ]
  },
  {
   "cell_type": "raw",
   "id": "chicken-seven",
   "metadata": {},
   "source": [
    "Так как ни один статистический критерий не дает 100% уверенности, мы зададим ему порог 5% для ошибки первого рода — то есть согласимся, что 5% наших наблюдений будут ошибочными.\n",
    "\n",
    "p-value — это фактическая вероятность попасть в ошибку первого рода на наших данных, если мы отклоним нулевую гипотезу. Давайте сравним p-value c желаемым уровнем точности нашего эксперимента.\n",
    "\n",
    "Если p-value меньше порога ошибки первого рода — результат эксперимента можно считать статзначимым\n",
    "Если p-value больше — мы будем вынуждены признать разницу в значениях тестовой и контрольной группы случайной\n",
    "\n",
    "В нашем случае, p-value < 0.05, => отклоняем нулевую гипотезу, что означает - новый дизайн работал значительно иначе, чем старый\n",
    "\n",
    "Фактически мы ответили на поставленные вопросы, новый дизайн работает иначе, при этом конверсия выше, новый вариант является более эффективным. Для полноты картины построим доверительные интервалы, чтобы понимать, на сколько лучше новый дизайн."
   ]
  },
  {
   "cell_type": "code",
   "execution_count": 35,
   "id": "least-valuable",
   "metadata": {},
   "outputs": [
    {
     "name": "stdout",
     "output_type": "stream",
     "text": [
      "Доверительный интервал по старому варианту A: 0.2754905064387712  -  0.3325094935612288\n",
      "Доверительный интервал по новому варианту B: 0.3420429266473629  -  0.4019570733526371\n"
     ]
    }
   ],
   "source": [
    "alpha = 0.05\n",
    "\n",
    "(lower_con, lower_test), (upper_con, upper_test) = proportion_confint(successes, nobs=nobs, alpha=alpha)\n",
    "\n",
    "print('Доверительный интервал по старому варианту A:', lower_con, ' - ', upper_con)\n",
    "print('Доверительный интервал по новому варианту B:', lower_test, ' - ', upper_test)"
   ]
  },
  {
   "cell_type": "raw",
   "id": "sublime-morgan",
   "metadata": {},
   "source": [
    "Итоговые выводы:\n",
    "\n",
    "Дизайн B лучше, чем A (conversion_rate B > conversion_rate A)\n",
    "Улучшение конверсии может составить порядка 10% (максиммум до 40%, вместо максимальных 33%)"
   ]
  }
 ],
 "metadata": {
  "kernelspec": {
   "display_name": "Python 3",
   "language": "python",
   "name": "python3"
  },
  "language_info": {
   "codemirror_mode": {
    "name": "ipython",
    "version": 3
   },
   "file_extension": ".py",
   "mimetype": "text/x-python",
   "name": "python",
   "nbconvert_exporter": "python",
   "pygments_lexer": "ipython3",
   "version": "3.9.1"
  }
 },
 "nbformat": 4,
 "nbformat_minor": 5
}
