{
 "cells": [
  {
   "cell_type": "markdown",
   "id": "polished-movement",
   "metadata": {},
   "source": [
    "Вам необходимо написать код для подсчета суммы элементов в списке.\n",
    "Для примера: в списке [1,2,3,4,5,6,7,8,9,10] сумма равна 55"
   ]
  },
  {
   "cell_type": "code",
   "execution_count": 4,
   "id": "international-narrow",
   "metadata": {},
   "outputs": [
    {
     "name": "stdout",
     "output_type": "stream",
     "text": [
      "55\n"
     ]
    }
   ],
   "source": [
    "l = [1,2,3,4,5,6,7,8,9,10]\n",
    "print(sum(l))"
   ]
  },
  {
   "cell_type": "markdown",
   "id": "thrown-invalid",
   "metadata": {},
   "source": [
    "Вам необходимо написать код для:\n",
    "a. Выявления дубликатов в списке\n",
    "b. Подсчета количества различных значений\n",
    "c. Вычисления трех самых часто встречающихся элементов\n",
    "Проверку работы вашего кода можно осуществить на следующем списке:\n",
    "['a', 'b', 'c', 'b', 'd', 'm', 'n', 'n', 'z', 'z', 'z', 'a' ]\n",
    "Дубликаты: b, n, z, a\n",
    "Число различных значений: 7\n",
    "Топ-3: z(3), b(2), n(2)"
   ]
  },
  {
   "cell_type": "code",
   "execution_count": 13,
   "id": "regional-stroke",
   "metadata": {},
   "outputs": [
    {
     "name": "stdout",
     "output_type": "stream",
     "text": [
      "['a', 'b', 'n', 'z']\n",
      "7\n",
      "[('z', 3), ('a', 2), ('b', 2)]\n"
     ]
    }
   ],
   "source": [
    "ll = ['a', 'b', 'c', 'b', 'd', 'm', 'n', 'n', 'z', 'z', 'z', 'a' ]\n",
    "\n",
    "#collections.Counter - вид словаря, который позволяет нам считать количество неизменяемых объектов\n",
    "from collections import Counter\n",
    "\n",
    "dict_ll = Counter(ll)\n",
    "#print(dict_ll)\n",
    "\n",
    "dublicates = []\n",
    "\n",
    "for i,k in dict_ll.items():\n",
    "    #print('ключ', i)\n",
    "    #print('значение', k)\n",
    "    if k > 1:\n",
    "        dublicates.append(i)\n",
    "\n",
    "print(dublicates) # Дубли\n",
    "print(len(dict_ll)) #Кол-во различных\n",
    "print(dict_ll.most_common(3)) #Топ встречающихся"
   ]
  },
  {
   "cell_type": "markdown",
   "id": "aggregate-bahamas",
   "metadata": {},
   "source": [
    "В переменной picture записан список из списков (или матрица 7х7). Вам\n",
    "необходимо написать код, который пройдет по всем элементам списка,\n",
    "напечатает в консоль вместо 0 символ пробела (‘ ’), а вместо 1 -- ‘*’\n",
    "(звездочку) в том же порядке, в каком идут элементы в матрице.\n",
    "picture = [\n",
    "[0,0,0,1,0,0,0],\n",
    "[0,0,1,1,1,0,0],\n",
    "[0,1,1,1,1,1,0],\n",
    "[1,1,1,1,1,1,1],\n",
    "[0,0,0,1,0,0,0],\n",
    "[0,0,0,1,0,0,0]\n",
    "]"
   ]
  },
  {
   "cell_type": "code",
   "execution_count": 3,
   "id": "removed-treasury",
   "metadata": {},
   "outputs": [
    {
     "name": "stdout",
     "output_type": "stream",
     "text": [
      "   *   \n",
      "  ***  \n",
      " ***** \n",
      "*******\n",
      "   *   \n",
      "   *   \n"
     ]
    }
   ],
   "source": [
    "picture = [\n",
    "[0,0,0,1,0,0,0],\n",
    "[0,0,1,1,1,0,0],\n",
    "[0,1,1,1,1,1,0],\n",
    "[1,1,1,1,1,1,1],\n",
    "[0,0,0,1,0,0,0],\n",
    "[0,0,0,1,0,0,0]\n",
    "]\n",
    "for i in range(6):\n",
    "    for j in range(7):\n",
    "        if picture[i][j] == 0:\n",
    "            print(' ', end='')\n",
    "        else:\n",
    "            print('*', end='')\n",
    "    print()"
   ]
  }
 ],
 "metadata": {
  "kernelspec": {
   "display_name": "Python 3",
   "language": "python",
   "name": "python3"
  },
  "language_info": {
   "codemirror_mode": {
    "name": "ipython",
    "version": 3
   },
   "file_extension": ".py",
   "mimetype": "text/x-python",
   "name": "python",
   "nbconvert_exporter": "python",
   "pygments_lexer": "ipython3",
   "version": "3.9.1"
  }
 },
 "nbformat": 4,
 "nbformat_minor": 5
}
