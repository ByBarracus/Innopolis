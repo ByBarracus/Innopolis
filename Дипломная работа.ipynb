{
  "cells": [
    {
      "cell_type": "markdown",
      "metadata": {
        "id": "mXOkIsa2OJWh"
      },
      "source": [
        "# Предсказание временных рядов"
      ]
    },
    {
      "cell_type": "markdown",
      "metadata": {
        "id": "1zQr-DRYOJUN"
      },
      "source": [
        "## Введение. Постановка целей и задач."
      ]
    },
    {
      "cell_type": "markdown",
      "metadata": {
        "id": "yV73bSO2OJR7"
      },
      "source": [
        "**Цель:** Планируется расширение сельхозугодий на n-ной территории за счет выделения судсидий из госбюджета. Одной из важных задач в данном направлении, является определение устойчивого теплого климата и подходящие температурные режимы для засева территории различными культурами. На основе исторических данных, взятых с декабря 2014 по ноябрь 2018 года, необходимо проанализировать устоявшийся климат, выделить самые теплые и самые холодные периоды, дать прогноз на ближайшие 5 лет помесячно по основным важнейшим метрикам, определяющим подходящие культуры для засева.\n",
        "\n",
        "**Задачи:** Анализ данных и визуальное представление результатов и важнейших на наш взгляд факторов. Прогнозирование факторов (выбрать 1) на 5 лет вперед."
      ]
    },
    {
      "cell_type": "markdown",
      "metadata": {
        "id": "fsEnvXWXUe2z"
      },
      "source": [
        "### Импорт Датафрейма, библиотек, написание функций."
      ]
    },
    {
      "cell_type": "code",
      "execution_count": 7,
      "metadata": {
        "colab": {
          "base_uri": "https://localhost:8080/"
        },
        "id": "Mi_Ykxg_PJnx",
        "outputId": "bedeb8a7-b8e7-4085-8daf-0fcab98eace6"
      },
      "outputs": [
        {
          "output_type": "stream",
          "name": "stdout",
          "text": [
            "Requirement already satisfied: pmdarima in /usr/local/lib/python3.7/dist-packages (1.8.5)\n",
            "Requirement already satisfied: statsmodels!=0.12.0,>=0.11 in /usr/local/lib/python3.7/dist-packages (from pmdarima) (0.13.2)\n",
            "Requirement already satisfied: numpy>=1.19.3 in /usr/local/lib/python3.7/dist-packages (from pmdarima) (1.21.5)\n",
            "Requirement already satisfied: joblib>=0.11 in /usr/local/lib/python3.7/dist-packages (from pmdarima) (1.1.0)\n",
            "Requirement already satisfied: Cython!=0.29.18,>=0.29 in /usr/local/lib/python3.7/dist-packages (from pmdarima) (0.29.28)\n",
            "Requirement already satisfied: scikit-learn>=0.22 in /usr/local/lib/python3.7/dist-packages (from pmdarima) (1.0.2)\n",
            "Requirement already satisfied: urllib3 in /usr/local/lib/python3.7/dist-packages (from pmdarima) (1.24.3)\n",
            "Requirement already satisfied: scipy>=1.3.2 in /usr/local/lib/python3.7/dist-packages (from pmdarima) (1.4.1)\n",
            "Requirement already satisfied: pandas>=0.19 in /usr/local/lib/python3.7/dist-packages (from pmdarima) (1.3.5)\n",
            "Requirement already satisfied: setuptools!=50.0.0,>=38.6.0 in /usr/local/lib/python3.7/dist-packages (from pmdarima) (57.4.0)\n",
            "Requirement already satisfied: pytz>=2017.3 in /usr/local/lib/python3.7/dist-packages (from pandas>=0.19->pmdarima) (2018.9)\n",
            "Requirement already satisfied: python-dateutil>=2.7.3 in /usr/local/lib/python3.7/dist-packages (from pandas>=0.19->pmdarima) (2.8.2)\n",
            "Requirement already satisfied: six>=1.5 in /usr/local/lib/python3.7/dist-packages (from python-dateutil>=2.7.3->pandas>=0.19->pmdarima) (1.15.0)\n",
            "Requirement already satisfied: threadpoolctl>=2.0.0 in /usr/local/lib/python3.7/dist-packages (from scikit-learn>=0.22->pmdarima) (3.1.0)\n",
            "Requirement already satisfied: packaging>=21.3 in /usr/local/lib/python3.7/dist-packages (from statsmodels!=0.12.0,>=0.11->pmdarima) (21.3)\n",
            "Requirement already satisfied: patsy>=0.5.2 in /usr/local/lib/python3.7/dist-packages (from statsmodels!=0.12.0,>=0.11->pmdarima) (0.5.2)\n",
            "Requirement already satisfied: pyparsing!=3.0.5,>=2.0.2 in /usr/local/lib/python3.7/dist-packages (from packaging>=21.3->statsmodels!=0.12.0,>=0.11->pmdarima) (3.0.7)\n"
          ]
        }
      ],
      "source": [
        "pip install pmdarima"
      ]
    },
    {
      "cell_type": "code",
      "execution_count": 8,
      "metadata": {
        "colab": {
          "base_uri": "https://localhost:8080/"
        },
        "id": "S5gqoMTqQmeD",
        "outputId": "102efb72-7e39-4332-8fc9-d9faebe930d4"
      },
      "outputs": [
        {
          "output_type": "stream",
          "name": "stdout",
          "text": [
            "Requirement already satisfied: fbprophet in /usr/local/lib/python3.7/dist-packages (0.7.1)\n",
            "Requirement already satisfied: Cython>=0.22 in /usr/local/lib/python3.7/dist-packages (from fbprophet) (0.29.28)\n",
            "Requirement already satisfied: cmdstanpy==0.9.5 in /usr/local/lib/python3.7/dist-packages (from fbprophet) (0.9.5)\n",
            "Requirement already satisfied: pystan>=2.14 in /usr/local/lib/python3.7/dist-packages (from fbprophet) (2.19.1.1)\n",
            "Requirement already satisfied: numpy>=1.15.4 in /usr/local/lib/python3.7/dist-packages (from fbprophet) (1.21.5)\n",
            "Requirement already satisfied: pandas>=1.0.4 in /usr/local/lib/python3.7/dist-packages (from fbprophet) (1.3.5)\n",
            "Requirement already satisfied: matplotlib>=2.0.0 in /usr/local/lib/python3.7/dist-packages (from fbprophet) (3.2.2)\n",
            "Requirement already satisfied: LunarCalendar>=0.0.9 in /usr/local/lib/python3.7/dist-packages (from fbprophet) (0.0.9)\n",
            "Requirement already satisfied: convertdate>=2.1.2 in /usr/local/lib/python3.7/dist-packages (from fbprophet) (2.4.0)\n",
            "Requirement already satisfied: holidays>=0.10.2 in /usr/local/lib/python3.7/dist-packages (from fbprophet) (0.10.5.2)\n",
            "Requirement already satisfied: setuptools-git>=1.2 in /usr/local/lib/python3.7/dist-packages (from fbprophet) (1.2)\n",
            "Requirement already satisfied: python-dateutil>=2.8.0 in /usr/local/lib/python3.7/dist-packages (from fbprophet) (2.8.2)\n",
            "Requirement already satisfied: tqdm>=4.36.1 in /usr/local/lib/python3.7/dist-packages (from fbprophet) (4.63.0)\n",
            "Requirement already satisfied: pymeeus<=1,>=0.3.13 in /usr/local/lib/python3.7/dist-packages (from convertdate>=2.1.2->fbprophet) (0.5.11)\n",
            "Requirement already satisfied: korean-lunar-calendar in /usr/local/lib/python3.7/dist-packages (from holidays>=0.10.2->fbprophet) (0.2.1)\n",
            "Requirement already satisfied: hijri-converter in /usr/local/lib/python3.7/dist-packages (from holidays>=0.10.2->fbprophet) (2.2.3)\n",
            "Requirement already satisfied: six in /usr/local/lib/python3.7/dist-packages (from holidays>=0.10.2->fbprophet) (1.15.0)\n",
            "Requirement already satisfied: pytz in /usr/local/lib/python3.7/dist-packages (from LunarCalendar>=0.0.9->fbprophet) (2018.9)\n",
            "Requirement already satisfied: ephem>=3.7.5.3 in /usr/local/lib/python3.7/dist-packages (from LunarCalendar>=0.0.9->fbprophet) (4.1.3)\n",
            "Requirement already satisfied: pyparsing!=2.0.4,!=2.1.2,!=2.1.6,>=2.0.1 in /usr/local/lib/python3.7/dist-packages (from matplotlib>=2.0.0->fbprophet) (3.0.7)\n",
            "Requirement already satisfied: cycler>=0.10 in /usr/local/lib/python3.7/dist-packages (from matplotlib>=2.0.0->fbprophet) (0.11.0)\n",
            "Requirement already satisfied: kiwisolver>=1.0.1 in /usr/local/lib/python3.7/dist-packages (from matplotlib>=2.0.0->fbprophet) (1.4.0)\n",
            "Requirement already satisfied: typing-extensions in /usr/local/lib/python3.7/dist-packages (from kiwisolver>=1.0.1->matplotlib>=2.0.0->fbprophet) (3.10.0.2)\n"
          ]
        }
      ],
      "source": [
        "pip install fbprophet"
      ]
    },
    {
      "cell_type": "code",
      "source": [
        "pip install statsmodels"
      ],
      "metadata": {
        "colab": {
          "base_uri": "https://localhost:8080/"
        },
        "id": "wWApI1RSSyUk",
        "outputId": "091398e2-571c-4a8c-ea9b-d3a5589d2d80"
      },
      "execution_count": 9,
      "outputs": [
        {
          "output_type": "stream",
          "name": "stdout",
          "text": [
            "Requirement already satisfied: statsmodels in /usr/local/lib/python3.7/dist-packages (0.13.2)\n",
            "Requirement already satisfied: packaging>=21.3 in /usr/local/lib/python3.7/dist-packages (from statsmodels) (21.3)\n",
            "Requirement already satisfied: scipy>=1.3 in /usr/local/lib/python3.7/dist-packages (from statsmodels) (1.4.1)\n",
            "Requirement already satisfied: numpy>=1.17 in /usr/local/lib/python3.7/dist-packages (from statsmodels) (1.21.5)\n",
            "Requirement already satisfied: patsy>=0.5.2 in /usr/local/lib/python3.7/dist-packages (from statsmodels) (0.5.2)\n",
            "Requirement already satisfied: pandas>=0.25 in /usr/local/lib/python3.7/dist-packages (from statsmodels) (1.3.5)\n",
            "Requirement already satisfied: pyparsing!=3.0.5,>=2.0.2 in /usr/local/lib/python3.7/dist-packages (from packaging>=21.3->statsmodels) (3.0.7)\n",
            "Requirement already satisfied: python-dateutil>=2.7.3 in /usr/local/lib/python3.7/dist-packages (from pandas>=0.25->statsmodels) (2.8.2)\n",
            "Requirement already satisfied: pytz>=2017.3 in /usr/local/lib/python3.7/dist-packages (from pandas>=0.25->statsmodels) (2018.9)\n",
            "Requirement already satisfied: six in /usr/local/lib/python3.7/dist-packages (from patsy>=0.5.2->statsmodels) (1.15.0)\n"
          ]
        }
      ]
    },
    {
      "cell_type": "code",
      "execution_count": 10,
      "metadata": {
        "id": "Y9HhQemGU6vC"
      },
      "outputs": [],
      "source": [
        "## Здесь импортируем библиотеки и функции \n",
        "import numpy as np\n",
        "import pandas as pd\n",
        "import seaborn as sns\n",
        "import scipy.stats as stats\n",
        "import statsmodels.tsa\n",
        "from matplotlib import pyplot as plt\n",
        "import math\n",
        "# импорт SARIMAX \n",
        "from statsmodels.tsa.statespace.sarimax import SARIMAX\n",
        "from statsmodels.graphics.tsaplots import plot_acf,plot_pacf # для определения (p,q) \n",
        "from statsmodels.tsa.seasonal import seasonal_decompose      # для ETS графиков\n",
        "from pmdarima import auto_arima                             # для поиска ARIMA моделей\n",
        "# метрики\n",
        "from sklearn.metrics import mean_squared_error\n",
        "from statsmodels.tools.eval_measures import rmse\n",
        "from statsmodels.tsa.holtwinters import ExponentialSmoothing"
      ]
    },
    {
      "cell_type": "code",
      "execution_count": 11,
      "metadata": {
        "id": "Sx_GJx5XU8Zi",
        "colab": {
          "base_uri": "https://localhost:8080/"
        },
        "outputId": "99e114c5-8093-4134-f235-7a7e20fbd29b"
      },
      "outputs": [
        {
          "output_type": "stream",
          "name": "stdout",
          "text": [
            "1461\n",
            "        DATE  MinTemp  MaxTemp  AvgTemp  AvgWindSpeed  Sunrise  Sunset\n",
            "0  12/1/2014        3       36       20          65.1      700    1608\n",
            "1  12/2/2014        1       22       12          34.7      702    1607\n",
            "2  12/3/2014        8       32       20          53.0      703    1607\n",
            "3  12/4/2014       -5        9        2          60.2      704    1607\n",
            "4  12/5/2014        6       17       12          30.5      705    1607\n"
          ]
        }
      ],
      "source": [
        "## Здесь импортируем данные.\n",
        "df = pd.read_csv('MtWashingtonDailyTemps.csv')\n",
        "print(len(df)) # количество строк в датасете\n",
        "print(df.head())"
      ]
    },
    {
      "cell_type": "code",
      "execution_count": 12,
      "metadata": {
        "id": "Iqtl_rYgVCrb",
        "colab": {
          "base_uri": "https://localhost:8080/"
        },
        "outputId": "a6f5add5-5610-4ff8-b47b-9e7e855f7442"
      },
      "outputs": [
        {
          "output_type": "stream",
          "name": "stdout",
          "text": [
            "            DATE  MinTemp  MaxTemp  AvgTemp  AvgWindSpeed  Sunrise  Sunset\n",
            "0      12/1/2014        3       36       20          65.1      700    1608\n",
            "1      12/2/2014        1       22       12          34.7      702    1607\n",
            "2      12/3/2014        8       32       20          53.0      703    1607\n",
            "3      12/4/2014       -5        9        2          60.2      704    1607\n",
            "4      12/5/2014        6       17       12          30.5      705    1607\n",
            "...          ...      ...      ...      ...           ...      ...     ...\n",
            "1456  11/26/2018       14       25       20          26.6      655    1610\n",
            "1457  11/27/2018       12       18       15          43.0      656    1609\n",
            "1458  11/28/2018       11       16       14          29.4      657    1609\n",
            "1459  11/29/2018       10       23       17          40.5      658    1608\n",
            "1460  11/30/2018       18       25       22           4.3      659    1608\n",
            "\n",
            "[1461 rows x 7 columns]\n"
          ]
        }
      ],
      "source": [
        "## Обязательно проверьте, что все выгрузилось корректно.\n",
        "print(df.head(1461))"
      ]
    },
    {
      "cell_type": "markdown",
      "metadata": {
        "id": "plIXeY2aUeuv"
      },
      "source": [
        "### Знакомство с данными."
      ]
    },
    {
      "cell_type": "code",
      "execution_count": 13,
      "metadata": {
        "id": "nNS6bXvu4Wjs",
        "colab": {
          "base_uri": "https://localhost:8080/"
        },
        "outputId": "5e7a7c65-cfef-4c81-c0b0-25b7b2113be5"
      },
      "outputs": [
        {
          "output_type": "stream",
          "name": "stdout",
          "text": [
            "<class 'pandas.core.frame.DataFrame'>\n",
            "RangeIndex: 1461 entries, 0 to 1460\n",
            "Data columns (total 7 columns):\n",
            " #   Column        Non-Null Count  Dtype  \n",
            "---  ------        --------------  -----  \n",
            " 0   DATE          1461 non-null   object \n",
            " 1   MinTemp       1461 non-null   int64  \n",
            " 2   MaxTemp       1461 non-null   int64  \n",
            " 3   AvgTemp       1461 non-null   int64  \n",
            " 4   AvgWindSpeed  1461 non-null   float64\n",
            " 5   Sunrise       1461 non-null   int64  \n",
            " 6   Sunset        1461 non-null   int64  \n",
            "dtypes: float64(1), int64(5), object(1)\n",
            "memory usage: 80.0+ KB\n"
          ]
        }
      ],
      "source": [
        "# Смотрим общую информацию о датасете\n",
        "df.info()"
      ]
    },
    {
      "cell_type": "markdown",
      "metadata": {
        "id": "2CFkHRlGUerR"
      },
      "source": [
        "Итак, в нашем датафрейме представлена такая информация, как\n",
        "\n",
        "**DATE** - Дата. ВАЖНО: У нас есть данные на каждый день.\n",
        "\n",
        "**MinTemp** - Мин t. Нулевых значений нет, представлено целым числом\n",
        "\n",
        "**MaxTemp** - Макс t. Нулевых значений нет, представлено целым числом\n",
        "\n",
        "**AvgTemp** - Средняя t. Нулевых значений нет, представлено целым числом\n",
        "\n",
        "**AvgWindSpeed** - Средняя скорость ветра. Нулевых значений нет, представлено числом с плавающей точкой.\n",
        "\n",
        "**Sunrise** - Время восхода, представлено криво, как часы+минуты \n",
        "\n",
        "**Sunset** - Время заката, представлено криво, как часы+минуты "
      ]
    },
    {
      "cell_type": "markdown",
      "metadata": {
        "id": "Efv0vhWsUepF"
      },
      "source": [
        "## Предобработка данных"
      ]
    },
    {
      "cell_type": "markdown",
      "metadata": {
        "id": "pO4OjmPkuZbv"
      },
      "source": [
        "### Фильтрация данных"
      ]
    },
    {
      "cell_type": "markdown",
      "metadata": {
        "id": "9YBLWrQxuZZ3"
      },
      "source": [
        "Несмотря на то, что мы имеем показатели на каждый день, для анализа нам вполне достаточно отобразить такие метрики, как средняя/минимальная/максимальная t в месяц, для метрик типа скорость ветра достаточно отобразить только среднее значение в месяц.\n",
        "\n",
        "Давайте выведем необходимые метрики с группировкой по месяцам."
      ]
    },
    {
      "cell_type": "code",
      "execution_count": 14,
      "metadata": {
        "id": "HJ9IdTf7HC7E",
        "colab": {
          "base_uri": "https://localhost:8080/",
          "height": 424
        },
        "outputId": "0dacb8ea-d6c3-480e-8a36-71776b782189"
      },
      "outputs": [
        {
          "output_type": "execute_result",
          "data": {
            "text/plain": [
              "           DATE  MinTemp  MaxTemp  AvgTemp  AvgWindSpeed  Sunrise  Sunset  \\\n",
              "0    2014-12-01        3       36       20          65.1      700    1608   \n",
              "1    2014-12-02        1       22       12          34.7      702    1607   \n",
              "2    2014-12-03        8       32       20          53.0      703    1607   \n",
              "3    2014-12-04       -5        9        2          60.2      704    1607   \n",
              "4    2014-12-05        6       17       12          30.5      705    1607   \n",
              "...         ...      ...      ...      ...           ...      ...     ...   \n",
              "1456 2018-11-26       14       25       20          26.6      655    1610   \n",
              "1457 2018-11-27       12       18       15          43.0      656    1609   \n",
              "1458 2018-11-28       11       16       14          29.4      657    1609   \n",
              "1459 2018-11-29       10       23       17          40.5      658    1608   \n",
              "1460 2018-11-30       18       25       22           4.3      659    1608   \n",
              "\n",
              "     Years_Months  \n",
              "0      2014-12-01  \n",
              "1      2014-12-01  \n",
              "2      2014-12-01  \n",
              "3      2014-12-01  \n",
              "4      2014-12-01  \n",
              "...           ...  \n",
              "1456   2018-11-01  \n",
              "1457   2018-11-01  \n",
              "1458   2018-11-01  \n",
              "1459   2018-11-01  \n",
              "1460   2018-11-01  \n",
              "\n",
              "[1461 rows x 8 columns]"
            ],
            "text/html": [
              "\n",
              "  <div id=\"df-48ba23b8-8183-477f-add4-cfe77a89285d\">\n",
              "    <div class=\"colab-df-container\">\n",
              "      <div>\n",
              "<style scoped>\n",
              "    .dataframe tbody tr th:only-of-type {\n",
              "        vertical-align: middle;\n",
              "    }\n",
              "\n",
              "    .dataframe tbody tr th {\n",
              "        vertical-align: top;\n",
              "    }\n",
              "\n",
              "    .dataframe thead th {\n",
              "        text-align: right;\n",
              "    }\n",
              "</style>\n",
              "<table border=\"1\" class=\"dataframe\">\n",
              "  <thead>\n",
              "    <tr style=\"text-align: right;\">\n",
              "      <th></th>\n",
              "      <th>DATE</th>\n",
              "      <th>MinTemp</th>\n",
              "      <th>MaxTemp</th>\n",
              "      <th>AvgTemp</th>\n",
              "      <th>AvgWindSpeed</th>\n",
              "      <th>Sunrise</th>\n",
              "      <th>Sunset</th>\n",
              "      <th>Years_Months</th>\n",
              "    </tr>\n",
              "  </thead>\n",
              "  <tbody>\n",
              "    <tr>\n",
              "      <th>0</th>\n",
              "      <td>2014-12-01</td>\n",
              "      <td>3</td>\n",
              "      <td>36</td>\n",
              "      <td>20</td>\n",
              "      <td>65.1</td>\n",
              "      <td>700</td>\n",
              "      <td>1608</td>\n",
              "      <td>2014-12-01</td>\n",
              "    </tr>\n",
              "    <tr>\n",
              "      <th>1</th>\n",
              "      <td>2014-12-02</td>\n",
              "      <td>1</td>\n",
              "      <td>22</td>\n",
              "      <td>12</td>\n",
              "      <td>34.7</td>\n",
              "      <td>702</td>\n",
              "      <td>1607</td>\n",
              "      <td>2014-12-01</td>\n",
              "    </tr>\n",
              "    <tr>\n",
              "      <th>2</th>\n",
              "      <td>2014-12-03</td>\n",
              "      <td>8</td>\n",
              "      <td>32</td>\n",
              "      <td>20</td>\n",
              "      <td>53.0</td>\n",
              "      <td>703</td>\n",
              "      <td>1607</td>\n",
              "      <td>2014-12-01</td>\n",
              "    </tr>\n",
              "    <tr>\n",
              "      <th>3</th>\n",
              "      <td>2014-12-04</td>\n",
              "      <td>-5</td>\n",
              "      <td>9</td>\n",
              "      <td>2</td>\n",
              "      <td>60.2</td>\n",
              "      <td>704</td>\n",
              "      <td>1607</td>\n",
              "      <td>2014-12-01</td>\n",
              "    </tr>\n",
              "    <tr>\n",
              "      <th>4</th>\n",
              "      <td>2014-12-05</td>\n",
              "      <td>6</td>\n",
              "      <td>17</td>\n",
              "      <td>12</td>\n",
              "      <td>30.5</td>\n",
              "      <td>705</td>\n",
              "      <td>1607</td>\n",
              "      <td>2014-12-01</td>\n",
              "    </tr>\n",
              "    <tr>\n",
              "      <th>...</th>\n",
              "      <td>...</td>\n",
              "      <td>...</td>\n",
              "      <td>...</td>\n",
              "      <td>...</td>\n",
              "      <td>...</td>\n",
              "      <td>...</td>\n",
              "      <td>...</td>\n",
              "      <td>...</td>\n",
              "    </tr>\n",
              "    <tr>\n",
              "      <th>1456</th>\n",
              "      <td>2018-11-26</td>\n",
              "      <td>14</td>\n",
              "      <td>25</td>\n",
              "      <td>20</td>\n",
              "      <td>26.6</td>\n",
              "      <td>655</td>\n",
              "      <td>1610</td>\n",
              "      <td>2018-11-01</td>\n",
              "    </tr>\n",
              "    <tr>\n",
              "      <th>1457</th>\n",
              "      <td>2018-11-27</td>\n",
              "      <td>12</td>\n",
              "      <td>18</td>\n",
              "      <td>15</td>\n",
              "      <td>43.0</td>\n",
              "      <td>656</td>\n",
              "      <td>1609</td>\n",
              "      <td>2018-11-01</td>\n",
              "    </tr>\n",
              "    <tr>\n",
              "      <th>1458</th>\n",
              "      <td>2018-11-28</td>\n",
              "      <td>11</td>\n",
              "      <td>16</td>\n",
              "      <td>14</td>\n",
              "      <td>29.4</td>\n",
              "      <td>657</td>\n",
              "      <td>1609</td>\n",
              "      <td>2018-11-01</td>\n",
              "    </tr>\n",
              "    <tr>\n",
              "      <th>1459</th>\n",
              "      <td>2018-11-29</td>\n",
              "      <td>10</td>\n",
              "      <td>23</td>\n",
              "      <td>17</td>\n",
              "      <td>40.5</td>\n",
              "      <td>658</td>\n",
              "      <td>1608</td>\n",
              "      <td>2018-11-01</td>\n",
              "    </tr>\n",
              "    <tr>\n",
              "      <th>1460</th>\n",
              "      <td>2018-11-30</td>\n",
              "      <td>18</td>\n",
              "      <td>25</td>\n",
              "      <td>22</td>\n",
              "      <td>4.3</td>\n",
              "      <td>659</td>\n",
              "      <td>1608</td>\n",
              "      <td>2018-11-01</td>\n",
              "    </tr>\n",
              "  </tbody>\n",
              "</table>\n",
              "<p>1461 rows × 8 columns</p>\n",
              "</div>\n",
              "      <button class=\"colab-df-convert\" onclick=\"convertToInteractive('df-48ba23b8-8183-477f-add4-cfe77a89285d')\"\n",
              "              title=\"Convert this dataframe to an interactive table.\"\n",
              "              style=\"display:none;\">\n",
              "        \n",
              "  <svg xmlns=\"http://www.w3.org/2000/svg\" height=\"24px\"viewBox=\"0 0 24 24\"\n",
              "       width=\"24px\">\n",
              "    <path d=\"M0 0h24v24H0V0z\" fill=\"none\"/>\n",
              "    <path d=\"M18.56 5.44l.94 2.06.94-2.06 2.06-.94-2.06-.94-.94-2.06-.94 2.06-2.06.94zm-11 1L8.5 8.5l.94-2.06 2.06-.94-2.06-.94L8.5 2.5l-.94 2.06-2.06.94zm10 10l.94 2.06.94-2.06 2.06-.94-2.06-.94-.94-2.06-.94 2.06-2.06.94z\"/><path d=\"M17.41 7.96l-1.37-1.37c-.4-.4-.92-.59-1.43-.59-.52 0-1.04.2-1.43.59L10.3 9.45l-7.72 7.72c-.78.78-.78 2.05 0 2.83L4 21.41c.39.39.9.59 1.41.59.51 0 1.02-.2 1.41-.59l7.78-7.78 2.81-2.81c.8-.78.8-2.07 0-2.86zM5.41 20L4 18.59l7.72-7.72 1.47 1.35L5.41 20z\"/>\n",
              "  </svg>\n",
              "      </button>\n",
              "      \n",
              "  <style>\n",
              "    .colab-df-container {\n",
              "      display:flex;\n",
              "      flex-wrap:wrap;\n",
              "      gap: 12px;\n",
              "    }\n",
              "\n",
              "    .colab-df-convert {\n",
              "      background-color: #E8F0FE;\n",
              "      border: none;\n",
              "      border-radius: 50%;\n",
              "      cursor: pointer;\n",
              "      display: none;\n",
              "      fill: #1967D2;\n",
              "      height: 32px;\n",
              "      padding: 0 0 0 0;\n",
              "      width: 32px;\n",
              "    }\n",
              "\n",
              "    .colab-df-convert:hover {\n",
              "      background-color: #E2EBFA;\n",
              "      box-shadow: 0px 1px 2px rgba(60, 64, 67, 0.3), 0px 1px 3px 1px rgba(60, 64, 67, 0.15);\n",
              "      fill: #174EA6;\n",
              "    }\n",
              "\n",
              "    [theme=dark] .colab-df-convert {\n",
              "      background-color: #3B4455;\n",
              "      fill: #D2E3FC;\n",
              "    }\n",
              "\n",
              "    [theme=dark] .colab-df-convert:hover {\n",
              "      background-color: #434B5C;\n",
              "      box-shadow: 0px 1px 3px 1px rgba(0, 0, 0, 0.15);\n",
              "      filter: drop-shadow(0px 1px 2px rgba(0, 0, 0, 0.3));\n",
              "      fill: #FFFFFF;\n",
              "    }\n",
              "  </style>\n",
              "\n",
              "      <script>\n",
              "        const buttonEl =\n",
              "          document.querySelector('#df-48ba23b8-8183-477f-add4-cfe77a89285d button.colab-df-convert');\n",
              "        buttonEl.style.display =\n",
              "          google.colab.kernel.accessAllowed ? 'block' : 'none';\n",
              "\n",
              "        async function convertToInteractive(key) {\n",
              "          const element = document.querySelector('#df-48ba23b8-8183-477f-add4-cfe77a89285d');\n",
              "          const dataTable =\n",
              "            await google.colab.kernel.invokeFunction('convertToInteractive',\n",
              "                                                     [key], {});\n",
              "          if (!dataTable) return;\n",
              "\n",
              "          const docLinkHtml = 'Like what you see? Visit the ' +\n",
              "            '<a target=\"_blank\" href=https://colab.research.google.com/notebooks/data_table.ipynb>data table notebook</a>'\n",
              "            + ' to learn more about interactive tables.';\n",
              "          element.innerHTML = '';\n",
              "          dataTable['output_type'] = 'display_data';\n",
              "          await google.colab.output.renderOutput(dataTable, element);\n",
              "          const docLink = document.createElement('div');\n",
              "          docLink.innerHTML = docLinkHtml;\n",
              "          element.appendChild(docLink);\n",
              "        }\n",
              "      </script>\n",
              "    </div>\n",
              "  </div>\n",
              "  "
            ]
          },
          "metadata": {},
          "execution_count": 14
        }
      ],
      "source": [
        "## Добавим новый столбец, по которому и будем выполнять агрегацию\n",
        "df['DATE'] = pd.to_datetime(df['DATE'])\n",
        "df['Years_Months'] = df['DATE'].values.astype('datetime64[M]')\n",
        "df"
      ]
    },
    {
      "cell_type": "code",
      "execution_count": 15,
      "metadata": {
        "id": "89pz5qAAPlR4",
        "colab": {
          "base_uri": "https://localhost:8080/",
          "height": 238
        },
        "outputId": "e5b5da68-f94a-4e8d-d0b1-ba28f446a31a"
      },
      "outputs": [
        {
          "output_type": "execute_result",
          "data": {
            "text/plain": [
              "  Years_Months MinTemp                MaxTemp                AvgTemp      \\\n",
              "                   min max       mean     min max       mean     min max   \n",
              "0   2014-12-01     -14  33   9.419355      -8  44  23.967742     -11  39   \n",
              "1   2015-01-01     -34  12  -8.870968     -11  39  11.225806     -20  25   \n",
              "2   2015-02-01     -35  13 -14.535714     -15  30   4.357143     -21  22   \n",
              "3   2015-03-01     -23  17  -2.516129      -9  29  14.806452     -13  23   \n",
              "4   2015-04-01      -3  29  15.500000       7  44  28.800000       2  35   \n",
              "\n",
              "             AvgWindSpeed                   \n",
              "        mean          min   max       mean  \n",
              "0  16.870968         15.8  71.4  40.003226  \n",
              "1   1.096774         15.3  86.5  49.090323  \n",
              "2  -5.250000         12.8  91.2  42.446429  \n",
              "3   6.258065         15.6  84.7  46.074194  \n",
              "4  22.400000         13.5  77.4  40.933333  "
            ],
            "text/html": [
              "\n",
              "  <div id=\"df-f0883e3c-7356-4ce6-8a08-109822af4616\">\n",
              "    <div class=\"colab-df-container\">\n",
              "      <div>\n",
              "<style scoped>\n",
              "    .dataframe tbody tr th:only-of-type {\n",
              "        vertical-align: middle;\n",
              "    }\n",
              "\n",
              "    .dataframe tbody tr th {\n",
              "        vertical-align: top;\n",
              "    }\n",
              "\n",
              "    .dataframe thead tr th {\n",
              "        text-align: left;\n",
              "    }\n",
              "</style>\n",
              "<table border=\"1\" class=\"dataframe\">\n",
              "  <thead>\n",
              "    <tr>\n",
              "      <th></th>\n",
              "      <th>Years_Months</th>\n",
              "      <th colspan=\"3\" halign=\"left\">MinTemp</th>\n",
              "      <th colspan=\"3\" halign=\"left\">MaxTemp</th>\n",
              "      <th colspan=\"3\" halign=\"left\">AvgTemp</th>\n",
              "      <th colspan=\"3\" halign=\"left\">AvgWindSpeed</th>\n",
              "    </tr>\n",
              "    <tr>\n",
              "      <th></th>\n",
              "      <th></th>\n",
              "      <th>min</th>\n",
              "      <th>max</th>\n",
              "      <th>mean</th>\n",
              "      <th>min</th>\n",
              "      <th>max</th>\n",
              "      <th>mean</th>\n",
              "      <th>min</th>\n",
              "      <th>max</th>\n",
              "      <th>mean</th>\n",
              "      <th>min</th>\n",
              "      <th>max</th>\n",
              "      <th>mean</th>\n",
              "    </tr>\n",
              "  </thead>\n",
              "  <tbody>\n",
              "    <tr>\n",
              "      <th>0</th>\n",
              "      <td>2014-12-01</td>\n",
              "      <td>-14</td>\n",
              "      <td>33</td>\n",
              "      <td>9.419355</td>\n",
              "      <td>-8</td>\n",
              "      <td>44</td>\n",
              "      <td>23.967742</td>\n",
              "      <td>-11</td>\n",
              "      <td>39</td>\n",
              "      <td>16.870968</td>\n",
              "      <td>15.8</td>\n",
              "      <td>71.4</td>\n",
              "      <td>40.003226</td>\n",
              "    </tr>\n",
              "    <tr>\n",
              "      <th>1</th>\n",
              "      <td>2015-01-01</td>\n",
              "      <td>-34</td>\n",
              "      <td>12</td>\n",
              "      <td>-8.870968</td>\n",
              "      <td>-11</td>\n",
              "      <td>39</td>\n",
              "      <td>11.225806</td>\n",
              "      <td>-20</td>\n",
              "      <td>25</td>\n",
              "      <td>1.096774</td>\n",
              "      <td>15.3</td>\n",
              "      <td>86.5</td>\n",
              "      <td>49.090323</td>\n",
              "    </tr>\n",
              "    <tr>\n",
              "      <th>2</th>\n",
              "      <td>2015-02-01</td>\n",
              "      <td>-35</td>\n",
              "      <td>13</td>\n",
              "      <td>-14.535714</td>\n",
              "      <td>-15</td>\n",
              "      <td>30</td>\n",
              "      <td>4.357143</td>\n",
              "      <td>-21</td>\n",
              "      <td>22</td>\n",
              "      <td>-5.250000</td>\n",
              "      <td>12.8</td>\n",
              "      <td>91.2</td>\n",
              "      <td>42.446429</td>\n",
              "    </tr>\n",
              "    <tr>\n",
              "      <th>3</th>\n",
              "      <td>2015-03-01</td>\n",
              "      <td>-23</td>\n",
              "      <td>17</td>\n",
              "      <td>-2.516129</td>\n",
              "      <td>-9</td>\n",
              "      <td>29</td>\n",
              "      <td>14.806452</td>\n",
              "      <td>-13</td>\n",
              "      <td>23</td>\n",
              "      <td>6.258065</td>\n",
              "      <td>15.6</td>\n",
              "      <td>84.7</td>\n",
              "      <td>46.074194</td>\n",
              "    </tr>\n",
              "    <tr>\n",
              "      <th>4</th>\n",
              "      <td>2015-04-01</td>\n",
              "      <td>-3</td>\n",
              "      <td>29</td>\n",
              "      <td>15.500000</td>\n",
              "      <td>7</td>\n",
              "      <td>44</td>\n",
              "      <td>28.800000</td>\n",
              "      <td>2</td>\n",
              "      <td>35</td>\n",
              "      <td>22.400000</td>\n",
              "      <td>13.5</td>\n",
              "      <td>77.4</td>\n",
              "      <td>40.933333</td>\n",
              "    </tr>\n",
              "  </tbody>\n",
              "</table>\n",
              "</div>\n",
              "      <button class=\"colab-df-convert\" onclick=\"convertToInteractive('df-f0883e3c-7356-4ce6-8a08-109822af4616')\"\n",
              "              title=\"Convert this dataframe to an interactive table.\"\n",
              "              style=\"display:none;\">\n",
              "        \n",
              "  <svg xmlns=\"http://www.w3.org/2000/svg\" height=\"24px\"viewBox=\"0 0 24 24\"\n",
              "       width=\"24px\">\n",
              "    <path d=\"M0 0h24v24H0V0z\" fill=\"none\"/>\n",
              "    <path d=\"M18.56 5.44l.94 2.06.94-2.06 2.06-.94-2.06-.94-.94-2.06-.94 2.06-2.06.94zm-11 1L8.5 8.5l.94-2.06 2.06-.94-2.06-.94L8.5 2.5l-.94 2.06-2.06.94zm10 10l.94 2.06.94-2.06 2.06-.94-2.06-.94-.94-2.06-.94 2.06-2.06.94z\"/><path d=\"M17.41 7.96l-1.37-1.37c-.4-.4-.92-.59-1.43-.59-.52 0-1.04.2-1.43.59L10.3 9.45l-7.72 7.72c-.78.78-.78 2.05 0 2.83L4 21.41c.39.39.9.59 1.41.59.51 0 1.02-.2 1.41-.59l7.78-7.78 2.81-2.81c.8-.78.8-2.07 0-2.86zM5.41 20L4 18.59l7.72-7.72 1.47 1.35L5.41 20z\"/>\n",
              "  </svg>\n",
              "      </button>\n",
              "      \n",
              "  <style>\n",
              "    .colab-df-container {\n",
              "      display:flex;\n",
              "      flex-wrap:wrap;\n",
              "      gap: 12px;\n",
              "    }\n",
              "\n",
              "    .colab-df-convert {\n",
              "      background-color: #E8F0FE;\n",
              "      border: none;\n",
              "      border-radius: 50%;\n",
              "      cursor: pointer;\n",
              "      display: none;\n",
              "      fill: #1967D2;\n",
              "      height: 32px;\n",
              "      padding: 0 0 0 0;\n",
              "      width: 32px;\n",
              "    }\n",
              "\n",
              "    .colab-df-convert:hover {\n",
              "      background-color: #E2EBFA;\n",
              "      box-shadow: 0px 1px 2px rgba(60, 64, 67, 0.3), 0px 1px 3px 1px rgba(60, 64, 67, 0.15);\n",
              "      fill: #174EA6;\n",
              "    }\n",
              "\n",
              "    [theme=dark] .colab-df-convert {\n",
              "      background-color: #3B4455;\n",
              "      fill: #D2E3FC;\n",
              "    }\n",
              "\n",
              "    [theme=dark] .colab-df-convert:hover {\n",
              "      background-color: #434B5C;\n",
              "      box-shadow: 0px 1px 3px 1px rgba(0, 0, 0, 0.15);\n",
              "      filter: drop-shadow(0px 1px 2px rgba(0, 0, 0, 0.3));\n",
              "      fill: #FFFFFF;\n",
              "    }\n",
              "  </style>\n",
              "\n",
              "      <script>\n",
              "        const buttonEl =\n",
              "          document.querySelector('#df-f0883e3c-7356-4ce6-8a08-109822af4616 button.colab-df-convert');\n",
              "        buttonEl.style.display =\n",
              "          google.colab.kernel.accessAllowed ? 'block' : 'none';\n",
              "\n",
              "        async function convertToInteractive(key) {\n",
              "          const element = document.querySelector('#df-f0883e3c-7356-4ce6-8a08-109822af4616');\n",
              "          const dataTable =\n",
              "            await google.colab.kernel.invokeFunction('convertToInteractive',\n",
              "                                                     [key], {});\n",
              "          if (!dataTable) return;\n",
              "\n",
              "          const docLinkHtml = 'Like what you see? Visit the ' +\n",
              "            '<a target=\"_blank\" href=https://colab.research.google.com/notebooks/data_table.ipynb>data table notebook</a>'\n",
              "            + ' to learn more about interactive tables.';\n",
              "          element.innerHTML = '';\n",
              "          dataTable['output_type'] = 'display_data';\n",
              "          await google.colab.output.renderOutput(dataTable, element);\n",
              "          const docLink = document.createElement('div');\n",
              "          docLink.innerHTML = docLinkHtml;\n",
              "          element.appendChild(docLink);\n",
              "        }\n",
              "      </script>\n",
              "    </div>\n",
              "  </div>\n",
              "  "
            ]
          },
          "metadata": {},
          "execution_count": 15
        }
      ],
      "source": [
        "df = df.groupby(by=['Years_Months'],as_index=False)[['MinTemp','MaxTemp','AvgTemp','AvgWindSpeed']].agg(['min','max','mean']).reset_index()\n",
        "df.head()"
      ]
    },
    {
      "cell_type": "code",
      "execution_count": 16,
      "metadata": {
        "id": "gcd_MrAgWRVr",
        "colab": {
          "base_uri": "https://localhost:8080/"
        },
        "outputId": "2ce544f9-9f91-4f78-e505-b1a779ea726c"
      },
      "outputs": [
        {
          "output_type": "execute_result",
          "data": {
            "text/plain": [
              "MultiIndex([('Years_Months',     ''),\n",
              "            (     'MinTemp',  'min'),\n",
              "            (     'MinTemp',  'max'),\n",
              "            (     'MinTemp', 'mean'),\n",
              "            (     'MaxTemp',  'min'),\n",
              "            (     'MaxTemp',  'max'),\n",
              "            (     'MaxTemp', 'mean'),\n",
              "            (     'AvgTemp',  'min'),\n",
              "            (     'AvgTemp',  'max'),\n",
              "            (     'AvgTemp', 'mean'),\n",
              "            ('AvgWindSpeed',  'min'),\n",
              "            ('AvgWindSpeed',  'max'),\n",
              "            ('AvgWindSpeed', 'mean')],\n",
              "           )"
            ]
          },
          "metadata": {},
          "execution_count": 16
        }
      ],
      "source": [
        "df.columns"
      ]
    },
    {
      "cell_type": "markdown",
      "metadata": {
        "id": "l1XAlTeLWZAu"
      },
      "source": [
        "Работа с двойными индексами может стать обременительной. Чтобы не создавать лишних сложностей, можно заменить имена столбцов следующим образом:"
      ]
    },
    {
      "cell_type": "code",
      "execution_count": 17,
      "metadata": {
        "id": "gCw_jZi4WclJ",
        "colab": {
          "base_uri": "https://localhost:8080/",
          "height": 250
        },
        "outputId": "6b12abb9-5cae-47d5-b3bc-f862f29410b2"
      },
      "outputs": [
        {
          "output_type": "execute_result",
          "data": {
            "text/plain": [
              "  Years_Months  MinTemp_min  MinTemp_max  MinTemp_mean  MaxTemp_min  \\\n",
              "0   2014-12-01          -14           33      9.419355           -8   \n",
              "1   2015-01-01          -34           12     -8.870968          -11   \n",
              "2   2015-02-01          -35           13    -14.535714          -15   \n",
              "3   2015-03-01          -23           17     -2.516129           -9   \n",
              "4   2015-04-01           -3           29     15.500000            7   \n",
              "\n",
              "   MaxTemp_max  MaxTemp_mean  AvgTemp_min  AvgTemp_max  AvgTemp_mean  \\\n",
              "0           44     23.967742          -11           39     16.870968   \n",
              "1           39     11.225806          -20           25      1.096774   \n",
              "2           30      4.357143          -21           22     -5.250000   \n",
              "3           29     14.806452          -13           23      6.258065   \n",
              "4           44     28.800000            2           35     22.400000   \n",
              "\n",
              "   AvgWindSpeed_min  AvgWindSpeed_max  AvgWindSpeed_mean  \n",
              "0              15.8              71.4          40.003226  \n",
              "1              15.3              86.5          49.090323  \n",
              "2              12.8              91.2          42.446429  \n",
              "3              15.6              84.7          46.074194  \n",
              "4              13.5              77.4          40.933333  "
            ],
            "text/html": [
              "\n",
              "  <div id=\"df-3deb4db8-9fda-4d6d-98dd-d14cf0a87d09\">\n",
              "    <div class=\"colab-df-container\">\n",
              "      <div>\n",
              "<style scoped>\n",
              "    .dataframe tbody tr th:only-of-type {\n",
              "        vertical-align: middle;\n",
              "    }\n",
              "\n",
              "    .dataframe tbody tr th {\n",
              "        vertical-align: top;\n",
              "    }\n",
              "\n",
              "    .dataframe thead th {\n",
              "        text-align: right;\n",
              "    }\n",
              "</style>\n",
              "<table border=\"1\" class=\"dataframe\">\n",
              "  <thead>\n",
              "    <tr style=\"text-align: right;\">\n",
              "      <th></th>\n",
              "      <th>Years_Months</th>\n",
              "      <th>MinTemp_min</th>\n",
              "      <th>MinTemp_max</th>\n",
              "      <th>MinTemp_mean</th>\n",
              "      <th>MaxTemp_min</th>\n",
              "      <th>MaxTemp_max</th>\n",
              "      <th>MaxTemp_mean</th>\n",
              "      <th>AvgTemp_min</th>\n",
              "      <th>AvgTemp_max</th>\n",
              "      <th>AvgTemp_mean</th>\n",
              "      <th>AvgWindSpeed_min</th>\n",
              "      <th>AvgWindSpeed_max</th>\n",
              "      <th>AvgWindSpeed_mean</th>\n",
              "    </tr>\n",
              "  </thead>\n",
              "  <tbody>\n",
              "    <tr>\n",
              "      <th>0</th>\n",
              "      <td>2014-12-01</td>\n",
              "      <td>-14</td>\n",
              "      <td>33</td>\n",
              "      <td>9.419355</td>\n",
              "      <td>-8</td>\n",
              "      <td>44</td>\n",
              "      <td>23.967742</td>\n",
              "      <td>-11</td>\n",
              "      <td>39</td>\n",
              "      <td>16.870968</td>\n",
              "      <td>15.8</td>\n",
              "      <td>71.4</td>\n",
              "      <td>40.003226</td>\n",
              "    </tr>\n",
              "    <tr>\n",
              "      <th>1</th>\n",
              "      <td>2015-01-01</td>\n",
              "      <td>-34</td>\n",
              "      <td>12</td>\n",
              "      <td>-8.870968</td>\n",
              "      <td>-11</td>\n",
              "      <td>39</td>\n",
              "      <td>11.225806</td>\n",
              "      <td>-20</td>\n",
              "      <td>25</td>\n",
              "      <td>1.096774</td>\n",
              "      <td>15.3</td>\n",
              "      <td>86.5</td>\n",
              "      <td>49.090323</td>\n",
              "    </tr>\n",
              "    <tr>\n",
              "      <th>2</th>\n",
              "      <td>2015-02-01</td>\n",
              "      <td>-35</td>\n",
              "      <td>13</td>\n",
              "      <td>-14.535714</td>\n",
              "      <td>-15</td>\n",
              "      <td>30</td>\n",
              "      <td>4.357143</td>\n",
              "      <td>-21</td>\n",
              "      <td>22</td>\n",
              "      <td>-5.250000</td>\n",
              "      <td>12.8</td>\n",
              "      <td>91.2</td>\n",
              "      <td>42.446429</td>\n",
              "    </tr>\n",
              "    <tr>\n",
              "      <th>3</th>\n",
              "      <td>2015-03-01</td>\n",
              "      <td>-23</td>\n",
              "      <td>17</td>\n",
              "      <td>-2.516129</td>\n",
              "      <td>-9</td>\n",
              "      <td>29</td>\n",
              "      <td>14.806452</td>\n",
              "      <td>-13</td>\n",
              "      <td>23</td>\n",
              "      <td>6.258065</td>\n",
              "      <td>15.6</td>\n",
              "      <td>84.7</td>\n",
              "      <td>46.074194</td>\n",
              "    </tr>\n",
              "    <tr>\n",
              "      <th>4</th>\n",
              "      <td>2015-04-01</td>\n",
              "      <td>-3</td>\n",
              "      <td>29</td>\n",
              "      <td>15.500000</td>\n",
              "      <td>7</td>\n",
              "      <td>44</td>\n",
              "      <td>28.800000</td>\n",
              "      <td>2</td>\n",
              "      <td>35</td>\n",
              "      <td>22.400000</td>\n",
              "      <td>13.5</td>\n",
              "      <td>77.4</td>\n",
              "      <td>40.933333</td>\n",
              "    </tr>\n",
              "  </tbody>\n",
              "</table>\n",
              "</div>\n",
              "      <button class=\"colab-df-convert\" onclick=\"convertToInteractive('df-3deb4db8-9fda-4d6d-98dd-d14cf0a87d09')\"\n",
              "              title=\"Convert this dataframe to an interactive table.\"\n",
              "              style=\"display:none;\">\n",
              "        \n",
              "  <svg xmlns=\"http://www.w3.org/2000/svg\" height=\"24px\"viewBox=\"0 0 24 24\"\n",
              "       width=\"24px\">\n",
              "    <path d=\"M0 0h24v24H0V0z\" fill=\"none\"/>\n",
              "    <path d=\"M18.56 5.44l.94 2.06.94-2.06 2.06-.94-2.06-.94-.94-2.06-.94 2.06-2.06.94zm-11 1L8.5 8.5l.94-2.06 2.06-.94-2.06-.94L8.5 2.5l-.94 2.06-2.06.94zm10 10l.94 2.06.94-2.06 2.06-.94-2.06-.94-.94-2.06-.94 2.06-2.06.94z\"/><path d=\"M17.41 7.96l-1.37-1.37c-.4-.4-.92-.59-1.43-.59-.52 0-1.04.2-1.43.59L10.3 9.45l-7.72 7.72c-.78.78-.78 2.05 0 2.83L4 21.41c.39.39.9.59 1.41.59.51 0 1.02-.2 1.41-.59l7.78-7.78 2.81-2.81c.8-.78.8-2.07 0-2.86zM5.41 20L4 18.59l7.72-7.72 1.47 1.35L5.41 20z\"/>\n",
              "  </svg>\n",
              "      </button>\n",
              "      \n",
              "  <style>\n",
              "    .colab-df-container {\n",
              "      display:flex;\n",
              "      flex-wrap:wrap;\n",
              "      gap: 12px;\n",
              "    }\n",
              "\n",
              "    .colab-df-convert {\n",
              "      background-color: #E8F0FE;\n",
              "      border: none;\n",
              "      border-radius: 50%;\n",
              "      cursor: pointer;\n",
              "      display: none;\n",
              "      fill: #1967D2;\n",
              "      height: 32px;\n",
              "      padding: 0 0 0 0;\n",
              "      width: 32px;\n",
              "    }\n",
              "\n",
              "    .colab-df-convert:hover {\n",
              "      background-color: #E2EBFA;\n",
              "      box-shadow: 0px 1px 2px rgba(60, 64, 67, 0.3), 0px 1px 3px 1px rgba(60, 64, 67, 0.15);\n",
              "      fill: #174EA6;\n",
              "    }\n",
              "\n",
              "    [theme=dark] .colab-df-convert {\n",
              "      background-color: #3B4455;\n",
              "      fill: #D2E3FC;\n",
              "    }\n",
              "\n",
              "    [theme=dark] .colab-df-convert:hover {\n",
              "      background-color: #434B5C;\n",
              "      box-shadow: 0px 1px 3px 1px rgba(0, 0, 0, 0.15);\n",
              "      filter: drop-shadow(0px 1px 2px rgba(0, 0, 0, 0.3));\n",
              "      fill: #FFFFFF;\n",
              "    }\n",
              "  </style>\n",
              "\n",
              "      <script>\n",
              "        const buttonEl =\n",
              "          document.querySelector('#df-3deb4db8-9fda-4d6d-98dd-d14cf0a87d09 button.colab-df-convert');\n",
              "        buttonEl.style.display =\n",
              "          google.colab.kernel.accessAllowed ? 'block' : 'none';\n",
              "\n",
              "        async function convertToInteractive(key) {\n",
              "          const element = document.querySelector('#df-3deb4db8-9fda-4d6d-98dd-d14cf0a87d09');\n",
              "          const dataTable =\n",
              "            await google.colab.kernel.invokeFunction('convertToInteractive',\n",
              "                                                     [key], {});\n",
              "          if (!dataTable) return;\n",
              "\n",
              "          const docLinkHtml = 'Like what you see? Visit the ' +\n",
              "            '<a target=\"_blank\" href=https://colab.research.google.com/notebooks/data_table.ipynb>data table notebook</a>'\n",
              "            + ' to learn more about interactive tables.';\n",
              "          element.innerHTML = '';\n",
              "          dataTable['output_type'] = 'display_data';\n",
              "          await google.colab.output.renderOutput(dataTable, element);\n",
              "          const docLink = document.createElement('div');\n",
              "          docLink.innerHTML = docLinkHtml;\n",
              "          element.appendChild(docLink);\n",
              "        }\n",
              "      </script>\n",
              "    </div>\n",
              "  </div>\n",
              "  "
            ]
          },
          "metadata": {},
          "execution_count": 17
        }
      ],
      "source": [
        "stats = ['min','max','mean']\n",
        "df.columns = ['Years_Months']+['MinTemp_{}'.format(stat) for stat in stats]+['MaxTemp_{}'.format(stat) for stat in stats]+['AvgTemp_{}'.format(stat) for stat in stats]+['AvgWindSpeed_{}'.format(stat) for stat in stats]\n",
        "df.head()"
      ]
    },
    {
      "cell_type": "code",
      "execution_count": 18,
      "metadata": {
        "id": "-akryuXia9io",
        "colab": {
          "base_uri": "https://localhost:8080/",
          "height": 206
        },
        "outputId": "5f1e4b84-0df0-4741-c269-1c14c719e9db"
      },
      "outputs": [
        {
          "output_type": "execute_result",
          "data": {
            "text/plain": [
              "  Years_Months  MinTemp_min  MaxTemp_max  AvgTemp_mean  AvgWindSpeed_mean\n",
              "0   2014-12-01          -14           44     16.870968          40.003226\n",
              "1   2015-01-01          -34           39      1.096774          49.090323\n",
              "2   2015-02-01          -35           30     -5.250000          42.446429\n",
              "3   2015-03-01          -23           29      6.258065          46.074194\n",
              "4   2015-04-01           -3           44     22.400000          40.933333"
            ],
            "text/html": [
              "\n",
              "  <div id=\"df-8771f5ba-e59f-4b1c-850a-b243d0c11f2c\">\n",
              "    <div class=\"colab-df-container\">\n",
              "      <div>\n",
              "<style scoped>\n",
              "    .dataframe tbody tr th:only-of-type {\n",
              "        vertical-align: middle;\n",
              "    }\n",
              "\n",
              "    .dataframe tbody tr th {\n",
              "        vertical-align: top;\n",
              "    }\n",
              "\n",
              "    .dataframe thead th {\n",
              "        text-align: right;\n",
              "    }\n",
              "</style>\n",
              "<table border=\"1\" class=\"dataframe\">\n",
              "  <thead>\n",
              "    <tr style=\"text-align: right;\">\n",
              "      <th></th>\n",
              "      <th>Years_Months</th>\n",
              "      <th>MinTemp_min</th>\n",
              "      <th>MaxTemp_max</th>\n",
              "      <th>AvgTemp_mean</th>\n",
              "      <th>AvgWindSpeed_mean</th>\n",
              "    </tr>\n",
              "  </thead>\n",
              "  <tbody>\n",
              "    <tr>\n",
              "      <th>0</th>\n",
              "      <td>2014-12-01</td>\n",
              "      <td>-14</td>\n",
              "      <td>44</td>\n",
              "      <td>16.870968</td>\n",
              "      <td>40.003226</td>\n",
              "    </tr>\n",
              "    <tr>\n",
              "      <th>1</th>\n",
              "      <td>2015-01-01</td>\n",
              "      <td>-34</td>\n",
              "      <td>39</td>\n",
              "      <td>1.096774</td>\n",
              "      <td>49.090323</td>\n",
              "    </tr>\n",
              "    <tr>\n",
              "      <th>2</th>\n",
              "      <td>2015-02-01</td>\n",
              "      <td>-35</td>\n",
              "      <td>30</td>\n",
              "      <td>-5.250000</td>\n",
              "      <td>42.446429</td>\n",
              "    </tr>\n",
              "    <tr>\n",
              "      <th>3</th>\n",
              "      <td>2015-03-01</td>\n",
              "      <td>-23</td>\n",
              "      <td>29</td>\n",
              "      <td>6.258065</td>\n",
              "      <td>46.074194</td>\n",
              "    </tr>\n",
              "    <tr>\n",
              "      <th>4</th>\n",
              "      <td>2015-04-01</td>\n",
              "      <td>-3</td>\n",
              "      <td>44</td>\n",
              "      <td>22.400000</td>\n",
              "      <td>40.933333</td>\n",
              "    </tr>\n",
              "  </tbody>\n",
              "</table>\n",
              "</div>\n",
              "      <button class=\"colab-df-convert\" onclick=\"convertToInteractive('df-8771f5ba-e59f-4b1c-850a-b243d0c11f2c')\"\n",
              "              title=\"Convert this dataframe to an interactive table.\"\n",
              "              style=\"display:none;\">\n",
              "        \n",
              "  <svg xmlns=\"http://www.w3.org/2000/svg\" height=\"24px\"viewBox=\"0 0 24 24\"\n",
              "       width=\"24px\">\n",
              "    <path d=\"M0 0h24v24H0V0z\" fill=\"none\"/>\n",
              "    <path d=\"M18.56 5.44l.94 2.06.94-2.06 2.06-.94-2.06-.94-.94-2.06-.94 2.06-2.06.94zm-11 1L8.5 8.5l.94-2.06 2.06-.94-2.06-.94L8.5 2.5l-.94 2.06-2.06.94zm10 10l.94 2.06.94-2.06 2.06-.94-2.06-.94-.94-2.06-.94 2.06-2.06.94z\"/><path d=\"M17.41 7.96l-1.37-1.37c-.4-.4-.92-.59-1.43-.59-.52 0-1.04.2-1.43.59L10.3 9.45l-7.72 7.72c-.78.78-.78 2.05 0 2.83L4 21.41c.39.39.9.59 1.41.59.51 0 1.02-.2 1.41-.59l7.78-7.78 2.81-2.81c.8-.78.8-2.07 0-2.86zM5.41 20L4 18.59l7.72-7.72 1.47 1.35L5.41 20z\"/>\n",
              "  </svg>\n",
              "      </button>\n",
              "      \n",
              "  <style>\n",
              "    .colab-df-container {\n",
              "      display:flex;\n",
              "      flex-wrap:wrap;\n",
              "      gap: 12px;\n",
              "    }\n",
              "\n",
              "    .colab-df-convert {\n",
              "      background-color: #E8F0FE;\n",
              "      border: none;\n",
              "      border-radius: 50%;\n",
              "      cursor: pointer;\n",
              "      display: none;\n",
              "      fill: #1967D2;\n",
              "      height: 32px;\n",
              "      padding: 0 0 0 0;\n",
              "      width: 32px;\n",
              "    }\n",
              "\n",
              "    .colab-df-convert:hover {\n",
              "      background-color: #E2EBFA;\n",
              "      box-shadow: 0px 1px 2px rgba(60, 64, 67, 0.3), 0px 1px 3px 1px rgba(60, 64, 67, 0.15);\n",
              "      fill: #174EA6;\n",
              "    }\n",
              "\n",
              "    [theme=dark] .colab-df-convert {\n",
              "      background-color: #3B4455;\n",
              "      fill: #D2E3FC;\n",
              "    }\n",
              "\n",
              "    [theme=dark] .colab-df-convert:hover {\n",
              "      background-color: #434B5C;\n",
              "      box-shadow: 0px 1px 3px 1px rgba(0, 0, 0, 0.15);\n",
              "      filter: drop-shadow(0px 1px 2px rgba(0, 0, 0, 0.3));\n",
              "      fill: #FFFFFF;\n",
              "    }\n",
              "  </style>\n",
              "\n",
              "      <script>\n",
              "        const buttonEl =\n",
              "          document.querySelector('#df-8771f5ba-e59f-4b1c-850a-b243d0c11f2c button.colab-df-convert');\n",
              "        buttonEl.style.display =\n",
              "          google.colab.kernel.accessAllowed ? 'block' : 'none';\n",
              "\n",
              "        async function convertToInteractive(key) {\n",
              "          const element = document.querySelector('#df-8771f5ba-e59f-4b1c-850a-b243d0c11f2c');\n",
              "          const dataTable =\n",
              "            await google.colab.kernel.invokeFunction('convertToInteractive',\n",
              "                                                     [key], {});\n",
              "          if (!dataTable) return;\n",
              "\n",
              "          const docLinkHtml = 'Like what you see? Visit the ' +\n",
              "            '<a target=\"_blank\" href=https://colab.research.google.com/notebooks/data_table.ipynb>data table notebook</a>'\n",
              "            + ' to learn more about interactive tables.';\n",
              "          element.innerHTML = '';\n",
              "          dataTable['output_type'] = 'display_data';\n",
              "          await google.colab.output.renderOutput(dataTable, element);\n",
              "          const docLink = document.createElement('div');\n",
              "          docLink.innerHTML = docLinkHtml;\n",
              "          element.appendChild(docLink);\n",
              "        }\n",
              "      </script>\n",
              "    </div>\n",
              "  </div>\n",
              "  "
            ]
          },
          "metadata": {},
          "execution_count": 18
        }
      ],
      "source": [
        "df = df[['Years_Months','MinTemp_min','MaxTemp_max','AvgTemp_mean','AvgWindSpeed_mean']]\n",
        "df.head()"
      ]
    },
    {
      "cell_type": "markdown",
      "metadata": {
        "id": "clnxdMqFs7Lw"
      },
      "source": [
        "### Обработка пропусков"
      ]
    },
    {
      "cell_type": "markdown",
      "metadata": {
        "id": "yw1cmYtaVfkb"
      },
      "source": [
        "В наших данных пропусков нет.\n",
        "Но, если бы они были, перед группировкой по месяцам, нам пришлось бы заполнить пропуски как неким средним значением между двумя известными до и после.\n",
        "Это изрядно бы усложнило предобработку данных."
      ]
    },
    {
      "cell_type": "markdown",
      "metadata": {
        "id": "q8gTgMtTVpYE"
      },
      "source": [
        "### Вывод по этапу.\n"
      ]
    },
    {
      "cell_type": "code",
      "execution_count": 19,
      "metadata": {
        "id": "itWbv_L4cc9i",
        "colab": {
          "base_uri": "https://localhost:8080/",
          "height": 206
        },
        "outputId": "225a8331-50c4-498a-b9cd-4031a1ee21d9"
      },
      "outputs": [
        {
          "output_type": "execute_result",
          "data": {
            "text/plain": [
              "  Years_Months  MinTemp_min  MaxTemp_max  AvgTemp_mean  AvgWindSpeed_mean\n",
              "0   2014-12-01          -14           44     16.870968          40.003226\n",
              "1   2015-01-01          -34           39      1.096774          49.090323\n",
              "2   2015-02-01          -35           30     -5.250000          42.446429\n",
              "3   2015-03-01          -23           29      6.258065          46.074194\n",
              "4   2015-04-01           -3           44     22.400000          40.933333"
            ],
            "text/html": [
              "\n",
              "  <div id=\"df-3c568489-86ae-4d71-8fc4-d1da13455ccf\">\n",
              "    <div class=\"colab-df-container\">\n",
              "      <div>\n",
              "<style scoped>\n",
              "    .dataframe tbody tr th:only-of-type {\n",
              "        vertical-align: middle;\n",
              "    }\n",
              "\n",
              "    .dataframe tbody tr th {\n",
              "        vertical-align: top;\n",
              "    }\n",
              "\n",
              "    .dataframe thead th {\n",
              "        text-align: right;\n",
              "    }\n",
              "</style>\n",
              "<table border=\"1\" class=\"dataframe\">\n",
              "  <thead>\n",
              "    <tr style=\"text-align: right;\">\n",
              "      <th></th>\n",
              "      <th>Years_Months</th>\n",
              "      <th>MinTemp_min</th>\n",
              "      <th>MaxTemp_max</th>\n",
              "      <th>AvgTemp_mean</th>\n",
              "      <th>AvgWindSpeed_mean</th>\n",
              "    </tr>\n",
              "  </thead>\n",
              "  <tbody>\n",
              "    <tr>\n",
              "      <th>0</th>\n",
              "      <td>2014-12-01</td>\n",
              "      <td>-14</td>\n",
              "      <td>44</td>\n",
              "      <td>16.870968</td>\n",
              "      <td>40.003226</td>\n",
              "    </tr>\n",
              "    <tr>\n",
              "      <th>1</th>\n",
              "      <td>2015-01-01</td>\n",
              "      <td>-34</td>\n",
              "      <td>39</td>\n",
              "      <td>1.096774</td>\n",
              "      <td>49.090323</td>\n",
              "    </tr>\n",
              "    <tr>\n",
              "      <th>2</th>\n",
              "      <td>2015-02-01</td>\n",
              "      <td>-35</td>\n",
              "      <td>30</td>\n",
              "      <td>-5.250000</td>\n",
              "      <td>42.446429</td>\n",
              "    </tr>\n",
              "    <tr>\n",
              "      <th>3</th>\n",
              "      <td>2015-03-01</td>\n",
              "      <td>-23</td>\n",
              "      <td>29</td>\n",
              "      <td>6.258065</td>\n",
              "      <td>46.074194</td>\n",
              "    </tr>\n",
              "    <tr>\n",
              "      <th>4</th>\n",
              "      <td>2015-04-01</td>\n",
              "      <td>-3</td>\n",
              "      <td>44</td>\n",
              "      <td>22.400000</td>\n",
              "      <td>40.933333</td>\n",
              "    </tr>\n",
              "  </tbody>\n",
              "</table>\n",
              "</div>\n",
              "      <button class=\"colab-df-convert\" onclick=\"convertToInteractive('df-3c568489-86ae-4d71-8fc4-d1da13455ccf')\"\n",
              "              title=\"Convert this dataframe to an interactive table.\"\n",
              "              style=\"display:none;\">\n",
              "        \n",
              "  <svg xmlns=\"http://www.w3.org/2000/svg\" height=\"24px\"viewBox=\"0 0 24 24\"\n",
              "       width=\"24px\">\n",
              "    <path d=\"M0 0h24v24H0V0z\" fill=\"none\"/>\n",
              "    <path d=\"M18.56 5.44l.94 2.06.94-2.06 2.06-.94-2.06-.94-.94-2.06-.94 2.06-2.06.94zm-11 1L8.5 8.5l.94-2.06 2.06-.94-2.06-.94L8.5 2.5l-.94 2.06-2.06.94zm10 10l.94 2.06.94-2.06 2.06-.94-2.06-.94-.94-2.06-.94 2.06-2.06.94z\"/><path d=\"M17.41 7.96l-1.37-1.37c-.4-.4-.92-.59-1.43-.59-.52 0-1.04.2-1.43.59L10.3 9.45l-7.72 7.72c-.78.78-.78 2.05 0 2.83L4 21.41c.39.39.9.59 1.41.59.51 0 1.02-.2 1.41-.59l7.78-7.78 2.81-2.81c.8-.78.8-2.07 0-2.86zM5.41 20L4 18.59l7.72-7.72 1.47 1.35L5.41 20z\"/>\n",
              "  </svg>\n",
              "      </button>\n",
              "      \n",
              "  <style>\n",
              "    .colab-df-container {\n",
              "      display:flex;\n",
              "      flex-wrap:wrap;\n",
              "      gap: 12px;\n",
              "    }\n",
              "\n",
              "    .colab-df-convert {\n",
              "      background-color: #E8F0FE;\n",
              "      border: none;\n",
              "      border-radius: 50%;\n",
              "      cursor: pointer;\n",
              "      display: none;\n",
              "      fill: #1967D2;\n",
              "      height: 32px;\n",
              "      padding: 0 0 0 0;\n",
              "      width: 32px;\n",
              "    }\n",
              "\n",
              "    .colab-df-convert:hover {\n",
              "      background-color: #E2EBFA;\n",
              "      box-shadow: 0px 1px 2px rgba(60, 64, 67, 0.3), 0px 1px 3px 1px rgba(60, 64, 67, 0.15);\n",
              "      fill: #174EA6;\n",
              "    }\n",
              "\n",
              "    [theme=dark] .colab-df-convert {\n",
              "      background-color: #3B4455;\n",
              "      fill: #D2E3FC;\n",
              "    }\n",
              "\n",
              "    [theme=dark] .colab-df-convert:hover {\n",
              "      background-color: #434B5C;\n",
              "      box-shadow: 0px 1px 3px 1px rgba(0, 0, 0, 0.15);\n",
              "      filter: drop-shadow(0px 1px 2px rgba(0, 0, 0, 0.3));\n",
              "      fill: #FFFFFF;\n",
              "    }\n",
              "  </style>\n",
              "\n",
              "      <script>\n",
              "        const buttonEl =\n",
              "          document.querySelector('#df-3c568489-86ae-4d71-8fc4-d1da13455ccf button.colab-df-convert');\n",
              "        buttonEl.style.display =\n",
              "          google.colab.kernel.accessAllowed ? 'block' : 'none';\n",
              "\n",
              "        async function convertToInteractive(key) {\n",
              "          const element = document.querySelector('#df-3c568489-86ae-4d71-8fc4-d1da13455ccf');\n",
              "          const dataTable =\n",
              "            await google.colab.kernel.invokeFunction('convertToInteractive',\n",
              "                                                     [key], {});\n",
              "          if (!dataTable) return;\n",
              "\n",
              "          const docLinkHtml = 'Like what you see? Visit the ' +\n",
              "            '<a target=\"_blank\" href=https://colab.research.google.com/notebooks/data_table.ipynb>data table notebook</a>'\n",
              "            + ' to learn more about interactive tables.';\n",
              "          element.innerHTML = '';\n",
              "          dataTable['output_type'] = 'display_data';\n",
              "          await google.colab.output.renderOutput(dataTable, element);\n",
              "          const docLink = document.createElement('div');\n",
              "          docLink.innerHTML = docLinkHtml;\n",
              "          element.appendChild(docLink);\n",
              "        }\n",
              "      </script>\n",
              "    </div>\n",
              "  </div>\n",
              "  "
            ]
          },
          "metadata": {},
          "execution_count": 19
        }
      ],
      "source": [
        "df.head()"
      ]
    },
    {
      "cell_type": "markdown",
      "metadata": {
        "id": "ychutOlHtcz_"
      },
      "source": [
        "## EDA или разведочный анализ данных."
      ]
    },
    {
      "cell_type": "code",
      "execution_count": 20,
      "metadata": {
        "id": "E2VxA0YKdHN8",
        "colab": {
          "base_uri": "https://localhost:8080/",
          "height": 336
        },
        "outputId": "79cfaee3-81ed-494b-8cfa-a9d4c4bcb585"
      },
      "outputs": [
        {
          "output_type": "display_data",
          "data": {
            "text/plain": [
              "<Figure size 1080x360 with 1 Axes>"
            ],
            "image/png": "[encoded data removed]"
          },
          "metadata": {
            "needs_background": "light"
          }
        }
      ],
      "source": [
        "fig, ax = plt.subplots(1, 1)\n",
        "ax = df['MinTemp_min'].plot(figsize=(15,5))\n",
        "ax = df['MaxTemp_max'].plot(figsize=(15,5))\n",
        "ax = df['AvgTemp_mean'].plot(figsize=(15,5))\n",
        "ax = df['AvgWindSpeed_mean'].plot(figsize=(15,5))\n",
        "ax.set(title='Метрики')\n",
        "plt.legend()\n",
        "plt.show()"
      ]
    },
    {
      "cell_type": "markdown",
      "metadata": {
        "id": "Rz9ToOBNng_x"
      },
      "source": [
        "Давайте посмотрим на наши данные. Наши данные идеально размещаются на одном графике, на котором мы видим, явно выраженные периоды с самой низкой/высокой температурой. Также, мы видим, что средняя температура является своего рода медианным показателем. Спрогнозировав именно среднюю температуру в месяц, в дальнейшем мы сможем применить коэффициенты для получения более актуальных значений.\n",
        "Колебания ветра в данном случае, нам лишь сообщают о том, что зимой ветра сильнее.\n",
        "Важный момент, стоит обратить внимание на начало 2017 года, там вырисовывается фигура \"перевернутый бэтман\", причем единственный раз. Скорее всего, это выброс, зима 2017 г была холоднее и продолжительнее других. На этом важно акцентировать внимание, т.к. при прогнозе, обучаясь на более ранних данных, здесь статически возможны отклонения. Сглаживать его мы не будем, возьмем как есть."
      ]
    },
    {
      "cell_type": "code",
      "execution_count": 21,
      "metadata": {
        "id": "uLvdPGwWLkJH",
        "colab": {
          "base_uri": "https://localhost:8080/",
          "height": 238
        },
        "outputId": "4f9a916a-96d4-43eb-9647-3f11cc88ca81"
      },
      "outputs": [
        {
          "output_type": "execute_result",
          "data": {
            "text/plain": [
              "              AvgTemp_mean\n",
              "Years_Months              \n",
              "2014-12-01       16.870968\n",
              "2015-01-01        1.096774\n",
              "2015-02-01       -5.250000\n",
              "2015-03-01        6.258065\n",
              "2015-04-01       22.400000"
            ],
            "text/html": [
              "\n",
              "  <div id=\"df-fa4f5996-80e8-49b0-a303-de277a8947fb\">\n",
              "    <div class=\"colab-df-container\">\n",
              "      <div>\n",
              "<style scoped>\n",
              "    .dataframe tbody tr th:only-of-type {\n",
              "        vertical-align: middle;\n",
              "    }\n",
              "\n",
              "    .dataframe tbody tr th {\n",
              "        vertical-align: top;\n",
              "    }\n",
              "\n",
              "    .dataframe thead th {\n",
              "        text-align: right;\n",
              "    }\n",
              "</style>\n",
              "<table border=\"1\" class=\"dataframe\">\n",
              "  <thead>\n",
              "    <tr style=\"text-align: right;\">\n",
              "      <th></th>\n",
              "      <th>AvgTemp_mean</th>\n",
              "    </tr>\n",
              "    <tr>\n",
              "      <th>Years_Months</th>\n",
              "      <th></th>\n",
              "    </tr>\n",
              "  </thead>\n",
              "  <tbody>\n",
              "    <tr>\n",
              "      <th>2014-12-01</th>\n",
              "      <td>16.870968</td>\n",
              "    </tr>\n",
              "    <tr>\n",
              "      <th>2015-01-01</th>\n",
              "      <td>1.096774</td>\n",
              "    </tr>\n",
              "    <tr>\n",
              "      <th>2015-02-01</th>\n",
              "      <td>-5.250000</td>\n",
              "    </tr>\n",
              "    <tr>\n",
              "      <th>2015-03-01</th>\n",
              "      <td>6.258065</td>\n",
              "    </tr>\n",
              "    <tr>\n",
              "      <th>2015-04-01</th>\n",
              "      <td>22.400000</td>\n",
              "    </tr>\n",
              "  </tbody>\n",
              "</table>\n",
              "</div>\n",
              "      <button class=\"colab-df-convert\" onclick=\"convertToInteractive('df-fa4f5996-80e8-49b0-a303-de277a8947fb')\"\n",
              "              title=\"Convert this dataframe to an interactive table.\"\n",
              "              style=\"display:none;\">\n",
              "        \n",
              "  <svg xmlns=\"http://www.w3.org/2000/svg\" height=\"24px\"viewBox=\"0 0 24 24\"\n",
              "       width=\"24px\">\n",
              "    <path d=\"M0 0h24v24H0V0z\" fill=\"none\"/>\n",
              "    <path d=\"M18.56 5.44l.94 2.06.94-2.06 2.06-.94-2.06-.94-.94-2.06-.94 2.06-2.06.94zm-11 1L8.5 8.5l.94-2.06 2.06-.94-2.06-.94L8.5 2.5l-.94 2.06-2.06.94zm10 10l.94 2.06.94-2.06 2.06-.94-2.06-.94-.94-2.06-.94 2.06-2.06.94z\"/><path d=\"M17.41 7.96l-1.37-1.37c-.4-.4-.92-.59-1.43-.59-.52 0-1.04.2-1.43.59L10.3 9.45l-7.72 7.72c-.78.78-.78 2.05 0 2.83L4 21.41c.39.39.9.59 1.41.59.51 0 1.02-.2 1.41-.59l7.78-7.78 2.81-2.81c.8-.78.8-2.07 0-2.86zM5.41 20L4 18.59l7.72-7.72 1.47 1.35L5.41 20z\"/>\n",
              "  </svg>\n",
              "      </button>\n",
              "      \n",
              "  <style>\n",
              "    .colab-df-container {\n",
              "      display:flex;\n",
              "      flex-wrap:wrap;\n",
              "      gap: 12px;\n",
              "    }\n",
              "\n",
              "    .colab-df-convert {\n",
              "      background-color: #E8F0FE;\n",
              "      border: none;\n",
              "      border-radius: 50%;\n",
              "      cursor: pointer;\n",
              "      display: none;\n",
              "      fill: #1967D2;\n",
              "      height: 32px;\n",
              "      padding: 0 0 0 0;\n",
              "      width: 32px;\n",
              "    }\n",
              "\n",
              "    .colab-df-convert:hover {\n",
              "      background-color: #E2EBFA;\n",
              "      box-shadow: 0px 1px 2px rgba(60, 64, 67, 0.3), 0px 1px 3px 1px rgba(60, 64, 67, 0.15);\n",
              "      fill: #174EA6;\n",
              "    }\n",
              "\n",
              "    [theme=dark] .colab-df-convert {\n",
              "      background-color: #3B4455;\n",
              "      fill: #D2E3FC;\n",
              "    }\n",
              "\n",
              "    [theme=dark] .colab-df-convert:hover {\n",
              "      background-color: #434B5C;\n",
              "      box-shadow: 0px 1px 3px 1px rgba(0, 0, 0, 0.15);\n",
              "      filter: drop-shadow(0px 1px 2px rgba(0, 0, 0, 0.3));\n",
              "      fill: #FFFFFF;\n",
              "    }\n",
              "  </style>\n",
              "\n",
              "      <script>\n",
              "        const buttonEl =\n",
              "          document.querySelector('#df-fa4f5996-80e8-49b0-a303-de277a8947fb button.colab-df-convert');\n",
              "        buttonEl.style.display =\n",
              "          google.colab.kernel.accessAllowed ? 'block' : 'none';\n",
              "\n",
              "        async function convertToInteractive(key) {\n",
              "          const element = document.querySelector('#df-fa4f5996-80e8-49b0-a303-de277a8947fb');\n",
              "          const dataTable =\n",
              "            await google.colab.kernel.invokeFunction('convertToInteractive',\n",
              "                                                     [key], {});\n",
              "          if (!dataTable) return;\n",
              "\n",
              "          const docLinkHtml = 'Like what you see? Visit the ' +\n",
              "            '<a target=\"_blank\" href=https://colab.research.google.com/notebooks/data_table.ipynb>data table notebook</a>'\n",
              "            + ' to learn more about interactive tables.';\n",
              "          element.innerHTML = '';\n",
              "          dataTable['output_type'] = 'display_data';\n",
              "          await google.colab.output.renderOutput(dataTable, element);\n",
              "          const docLink = document.createElement('div');\n",
              "          docLink.innerHTML = docLinkHtml;\n",
              "          element.appendChild(docLink);\n",
              "        }\n",
              "      </script>\n",
              "    </div>\n",
              "  </div>\n",
              "  "
            ]
          },
          "metadata": {},
          "execution_count": 21
        }
      ],
      "source": [
        "## Убираем все лишнее\n",
        "df = df[['Years_Months','AvgTemp_mean']]\n",
        "## Делаем дату индексом\n",
        "df = df.set_index('Years_Months')\n",
        "df.head()"
      ]
    },
    {
      "cell_type": "code",
      "source": [
        "# Еще раз взглянем на график\n",
        "fig, ax = plt.subplots(1, 1)\n",
        "ax = df['AvgTemp_mean'].plot(figsize=(15,5))\n",
        "ax.set(title='Метрики')\n",
        "plt.legend()\n",
        "plt.show()"
      ],
      "metadata": {
        "colab": {
          "base_uri": "https://localhost:8080/",
          "height": 362
        },
        "id": "mG1Beb7q4AbF",
        "outputId": "354dac2f-eca2-40c5-feba-6b4b81c2643c"
      },
      "execution_count": 22,
      "outputs": [
        {
          "output_type": "display_data",
          "data": {
            "text/plain": [
              "<Figure size 1080x360 with 1 Axes>"
            ],
            "image/png": "[encoded data removed]"
          },
          "metadata": {
            "needs_background": "light"
          }
        }
      ]
    },
    {
      "cell_type": "code",
      "execution_count": 23,
      "metadata": {
        "id": "2QR_j5MqMz4n",
        "colab": {
          "base_uri": "https://localhost:8080/",
          "height": 300
        },
        "outputId": "af4c4dc8-75b3-472c-b09c-ef7000e58082"
      },
      "outputs": [
        {
          "output_type": "execute_result",
          "data": {
            "text/plain": [
              "       AvgTemp_mean\n",
              "count     48.000000\n",
              "mean      28.875890\n",
              "std       17.081151\n",
              "min       -5.250000\n",
              "25%       12.883929\n",
              "50%       29.232796\n",
              "75%       44.833333\n",
              "max       53.322581"
            ],
            "text/html": [
              "\n",
              "  <div id=\"df-cbf24bfb-ab35-42f9-a6f5-22a13a7f81fe\">\n",
              "    <div class=\"colab-df-container\">\n",
              "      <div>\n",
              "<style scoped>\n",
              "    .dataframe tbody tr th:only-of-type {\n",
              "        vertical-align: middle;\n",
              "    }\n",
              "\n",
              "    .dataframe tbody tr th {\n",
              "        vertical-align: top;\n",
              "    }\n",
              "\n",
              "    .dataframe thead th {\n",
              "        text-align: right;\n",
              "    }\n",
              "</style>\n",
              "<table border=\"1\" class=\"dataframe\">\n",
              "  <thead>\n",
              "    <tr style=\"text-align: right;\">\n",
              "      <th></th>\n",
              "      <th>AvgTemp_mean</th>\n",
              "    </tr>\n",
              "  </thead>\n",
              "  <tbody>\n",
              "    <tr>\n",
              "      <th>count</th>\n",
              "      <td>48.000000</td>\n",
              "    </tr>\n",
              "    <tr>\n",
              "      <th>mean</th>\n",
              "      <td>28.875890</td>\n",
              "    </tr>\n",
              "    <tr>\n",
              "      <th>std</th>\n",
              "      <td>17.081151</td>\n",
              "    </tr>\n",
              "    <tr>\n",
              "      <th>min</th>\n",
              "      <td>-5.250000</td>\n",
              "    </tr>\n",
              "    <tr>\n",
              "      <th>25%</th>\n",
              "      <td>12.883929</td>\n",
              "    </tr>\n",
              "    <tr>\n",
              "      <th>50%</th>\n",
              "      <td>29.232796</td>\n",
              "    </tr>\n",
              "    <tr>\n",
              "      <th>75%</th>\n",
              "      <td>44.833333</td>\n",
              "    </tr>\n",
              "    <tr>\n",
              "      <th>max</th>\n",
              "      <td>53.322581</td>\n",
              "    </tr>\n",
              "  </tbody>\n",
              "</table>\n",
              "</div>\n",
              "      <button class=\"colab-df-convert\" onclick=\"convertToInteractive('df-cbf24bfb-ab35-42f9-a6f5-22a13a7f81fe')\"\n",
              "              title=\"Convert this dataframe to an interactive table.\"\n",
              "              style=\"display:none;\">\n",
              "        \n",
              "  <svg xmlns=\"http://www.w3.org/2000/svg\" height=\"24px\"viewBox=\"0 0 24 24\"\n",
              "       width=\"24px\">\n",
              "    <path d=\"M0 0h24v24H0V0z\" fill=\"none\"/>\n",
              "    <path d=\"M18.56 5.44l.94 2.06.94-2.06 2.06-.94-2.06-.94-.94-2.06-.94 2.06-2.06.94zm-11 1L8.5 8.5l.94-2.06 2.06-.94-2.06-.94L8.5 2.5l-.94 2.06-2.06.94zm10 10l.94 2.06.94-2.06 2.06-.94-2.06-.94-.94-2.06-.94 2.06-2.06.94z\"/><path d=\"M17.41 7.96l-1.37-1.37c-.4-.4-.92-.59-1.43-.59-.52 0-1.04.2-1.43.59L10.3 9.45l-7.72 7.72c-.78.78-.78 2.05 0 2.83L4 21.41c.39.39.9.59 1.41.59.51 0 1.02-.2 1.41-.59l7.78-7.78 2.81-2.81c.8-.78.8-2.07 0-2.86zM5.41 20L4 18.59l7.72-7.72 1.47 1.35L5.41 20z\"/>\n",
              "  </svg>\n",
              "      </button>\n",
              "      \n",
              "  <style>\n",
              "    .colab-df-container {\n",
              "      display:flex;\n",
              "      flex-wrap:wrap;\n",
              "      gap: 12px;\n",
              "    }\n",
              "\n",
              "    .colab-df-convert {\n",
              "      background-color: #E8F0FE;\n",
              "      border: none;\n",
              "      border-radius: 50%;\n",
              "      cursor: pointer;\n",
              "      display: none;\n",
              "      fill: #1967D2;\n",
              "      height: 32px;\n",
              "      padding: 0 0 0 0;\n",
              "      width: 32px;\n",
              "    }\n",
              "\n",
              "    .colab-df-convert:hover {\n",
              "      background-color: #E2EBFA;\n",
              "      box-shadow: 0px 1px 2px rgba(60, 64, 67, 0.3), 0px 1px 3px 1px rgba(60, 64, 67, 0.15);\n",
              "      fill: #174EA6;\n",
              "    }\n",
              "\n",
              "    [theme=dark] .colab-df-convert {\n",
              "      background-color: #3B4455;\n",
              "      fill: #D2E3FC;\n",
              "    }\n",
              "\n",
              "    [theme=dark] .colab-df-convert:hover {\n",
              "      background-color: #434B5C;\n",
              "      box-shadow: 0px 1px 3px 1px rgba(0, 0, 0, 0.15);\n",
              "      filter: drop-shadow(0px 1px 2px rgba(0, 0, 0, 0.3));\n",
              "      fill: #FFFFFF;\n",
              "    }\n",
              "  </style>\n",
              "\n",
              "      <script>\n",
              "        const buttonEl =\n",
              "          document.querySelector('#df-cbf24bfb-ab35-42f9-a6f5-22a13a7f81fe button.colab-df-convert');\n",
              "        buttonEl.style.display =\n",
              "          google.colab.kernel.accessAllowed ? 'block' : 'none';\n",
              "\n",
              "        async function convertToInteractive(key) {\n",
              "          const element = document.querySelector('#df-cbf24bfb-ab35-42f9-a6f5-22a13a7f81fe');\n",
              "          const dataTable =\n",
              "            await google.colab.kernel.invokeFunction('convertToInteractive',\n",
              "                                                     [key], {});\n",
              "          if (!dataTable) return;\n",
              "\n",
              "          const docLinkHtml = 'Like what you see? Visit the ' +\n",
              "            '<a target=\"_blank\" href=https://colab.research.google.com/notebooks/data_table.ipynb>data table notebook</a>'\n",
              "            + ' to learn more about interactive tables.';\n",
              "          element.innerHTML = '';\n",
              "          dataTable['output_type'] = 'display_data';\n",
              "          await google.colab.output.renderOutput(dataTable, element);\n",
              "          const docLink = document.createElement('div');\n",
              "          docLink.innerHTML = docLinkHtml;\n",
              "          element.appendChild(docLink);\n",
              "        }\n",
              "      </script>\n",
              "    </div>\n",
              "  </div>\n",
              "  "
            ]
          },
          "metadata": {},
          "execution_count": 23
        }
      ],
      "source": [
        "# Проведем расчет основных статистических метрик\n",
        "df.describe()"
      ]
    },
    {
      "cell_type": "code",
      "execution_count": 24,
      "metadata": {
        "id": "y2mrSsAeNILa",
        "colab": {
          "base_uri": "https://localhost:8080/",
          "height": 297
        },
        "outputId": "031d5c82-6a35-46d8-bc5a-82a7949cfbc1"
      },
      "outputs": [
        {
          "output_type": "display_data",
          "data": {
            "text/plain": [
              "<Figure size 432x288 with 4 Axes>"
            ],
            "image/png": "[encoded data removed]"
          },
          "metadata": {
            "needs_background": "light"
          }
        }
      ],
      "source": [
        "r = seasonal_decompose(df['AvgTemp_mean'], model='additive')\n",
        "r.plot();"
      ]
    },
    {
      "cell_type": "markdown",
      "metadata": {
        "id": "-wCwXINMOBJH"
      },
      "source": [
        "Есть незначительный тренд на снижение средней температуры, подтверждаем явно выраженную сезонность"
      ]
    },
    {
      "cell_type": "markdown",
      "metadata": {
        "id": "v5F1qQuCtctd"
      },
      "source": [
        "## Построение моделей, анализ результатов."
      ]
    },
    {
      "cell_type": "markdown",
      "metadata": {
        "id": "ErqVzfW5OgQK"
      },
      "source": [
        "1.0 SARIMAX"
      ]
    },
    {
      "cell_type": "code",
      "execution_count": 25,
      "metadata": {
        "id": "RVUJaFn5OVVj",
        "colab": {
          "base_uri": "https://localhost:8080/",
          "height": 387
        },
        "outputId": "d313f732-e750-4e60-822f-2ca83bd36252"
      },
      "outputs": [
        {
          "output_type": "execute_result",
          "data": {
            "text/plain": [
              "<class 'statsmodels.iolib.summary.Summary'>\n",
              "\"\"\"\n",
              "                                SARIMAX Results                                 \n",
              "================================================================================\n",
              "Dep. Variable:                        y   No. Observations:                   48\n",
              "Model:             SARIMAX(0, 1, 0, 12)   Log Likelihood                -117.164\n",
              "Date:                  Thu, 24 Mar 2022   AIC                            236.327\n",
              "Time:                          09:42:11   BIC                            237.911\n",
              "Sample:                               0   HQIC                           236.880\n",
              "                                   - 48                                         \n",
              "Covariance Type:                    opg                                         \n",
              "==============================================================================\n",
              "                 coef    std err          z      P>|z|      [0.025      0.975]\n",
              "------------------------------------------------------------------------------\n",
              "sigma2        39.3003      8.940      4.396      0.000      21.777      56.823\n",
              "===================================================================================\n",
              "Ljung-Box (L1) (Q):                   0.08   Jarque-Bera (JB):                 0.36\n",
              "Prob(Q):                              0.77   Prob(JB):                         0.83\n",
              "Heteroskedasticity (H):               0.68   Skew:                            -0.23\n",
              "Prob(H) (two-sided):                  0.52   Kurtosis:                         3.19\n",
              "===================================================================================\n",
              "\n",
              "Warnings:\n",
              "[1] Covariance matrix calculated using the outer product of gradients (complex-step).\n",
              "\"\"\""
            ],
            "text/html": [
              "<table class=\"simpletable\">\n",
              "<caption>SARIMAX Results</caption>\n",
              "<tr>\n",
              "  <th>Dep. Variable:</th>             <td>y</td>          <th>  No. Observations:  </th>    <td>48</td>   \n",
              "</tr>\n",
              "<tr>\n",
              "  <th>Model:</th>           <td>SARIMAX(0, 1, 0, 12)</td> <th>  Log Likelihood     </th> <td>-117.164</td>\n",
              "</tr>\n",
              "<tr>\n",
              "  <th>Date:</th>              <td>Thu, 24 Mar 2022</td>   <th>  AIC                </th>  <td>236.327</td>\n",
              "</tr>\n",
              "<tr>\n",
              "  <th>Time:</th>                  <td>09:42:11</td>       <th>  BIC                </th>  <td>237.911</td>\n",
              "</tr>\n",
              "<tr>\n",
              "  <th>Sample:</th>                    <td>0</td>          <th>  HQIC               </th>  <td>236.880</td>\n",
              "</tr>\n",
              "<tr>\n",
              "  <th></th>                         <td> - 48</td>        <th>                     </th>     <td> </td>   \n",
              "</tr>\n",
              "<tr>\n",
              "  <th>Covariance Type:</th>          <td>opg</td>         <th>                     </th>     <td> </td>   \n",
              "</tr>\n",
              "</table>\n",
              "<table class=\"simpletable\">\n",
              "<tr>\n",
              "     <td></td>       <th>coef</th>     <th>std err</th>      <th>z</th>      <th>P>|z|</th>  <th>[0.025</th>    <th>0.975]</th>  \n",
              "</tr>\n",
              "<tr>\n",
              "  <th>sigma2</th> <td>   39.3003</td> <td>    8.940</td> <td>    4.396</td> <td> 0.000</td> <td>   21.777</td> <td>   56.823</td>\n",
              "</tr>\n",
              "</table>\n",
              "<table class=\"simpletable\">\n",
              "<tr>\n",
              "  <th>Ljung-Box (L1) (Q):</th>     <td>0.08</td> <th>  Jarque-Bera (JB):  </th> <td>0.36</td> \n",
              "</tr>\n",
              "<tr>\n",
              "  <th>Prob(Q):</th>                <td>0.77</td> <th>  Prob(JB):          </th> <td>0.83</td> \n",
              "</tr>\n",
              "<tr>\n",
              "  <th>Heteroskedasticity (H):</th> <td>0.68</td> <th>  Skew:              </th> <td>-0.23</td>\n",
              "</tr>\n",
              "<tr>\n",
              "  <th>Prob(H) (two-sided):</th>    <td>0.52</td> <th>  Kurtosis:          </th> <td>3.19</td> \n",
              "</tr>\n",
              "</table><br/><br/>Warnings:<br/>[1] Covariance matrix calculated using the outer product of gradients (complex-step)."
            ]
          },
          "metadata": {},
          "execution_count": 25
        }
      ],
      "source": [
        "# Запустим pmdarima.auto_arima чтобы получить набор параметров\n",
        "auto_arima(df['AvgTemp_mean'],seasonal=True,m=12).summary()"
      ]
    },
    {
      "cell_type": "code",
      "source": [
        "# Разделим выборки\n",
        "train = df.iloc[:len(df)-12]\n",
        "test = df.iloc[len(df)-12:]"
      ],
      "metadata": {
        "id": "Lkxu8lgm0tQ_"
      },
      "execution_count": 26,
      "outputs": []
    },
    {
      "cell_type": "code",
      "source": [
        "model = SARIMAX(train['AvgTemp_mean'],seasonal_order=(0, 1, 0, 12))\n",
        "results = model.fit() #обучаем модель на обучающей выборке данных\n",
        "results.summary() #получаем результаты"
      ],
      "metadata": {
        "colab": {
          "base_uri": "https://localhost:8080/",
          "height": 478
        },
        "id": "ss86Tqmw2JgR",
        "outputId": "490cda2f-58e5-4512-d225-a87af249d32d"
      },
      "execution_count": 27,
      "outputs": [
        {
          "output_type": "stream",
          "name": "stderr",
          "text": [
            "/usr/local/lib/python3.7/dist-packages/statsmodels/tsa/base/tsa_model.py:471: ValueWarning: No frequency information was provided, so inferred frequency MS will be used.\n",
            "  self._init_dates(dates, freq)\n",
            "/usr/local/lib/python3.7/dist-packages/statsmodels/tsa/base/tsa_model.py:471: ValueWarning: No frequency information was provided, so inferred frequency MS will be used.\n",
            "  self._init_dates(dates, freq)\n"
          ]
        },
        {
          "output_type": "execute_result",
          "data": {
            "text/plain": [
              "<class 'statsmodels.iolib.summary.Summary'>\n",
              "\"\"\"\n",
              "                                     SARIMAX Results                                      \n",
              "==========================================================================================\n",
              "Dep. Variable:                       AvgTemp_mean   No. Observations:                   36\n",
              "Model:             SARIMAX(1, 0, 0)x(0, 1, 0, 12)   Log Likelihood                 -79.529\n",
              "Date:                            Thu, 24 Mar 2022   AIC                            163.058\n",
              "Time:                                    09:42:11   BIC                            165.414\n",
              "Sample:                                12-01-2014   HQIC                           163.683\n",
              "                                     - 11-01-2017                                         \n",
              "Covariance Type:                              opg                                         \n",
              "==============================================================================\n",
              "                 coef    std err          z      P>|z|      [0.025      0.975]\n",
              "------------------------------------------------------------------------------\n",
              "ar.L1          0.0567      0.201      0.281      0.778      -0.338       0.451\n",
              "sigma2        44.2297     12.938      3.419      0.001      18.871      69.588\n",
              "===================================================================================\n",
              "Ljung-Box (L1) (Q):                   0.00   Jarque-Bera (JB):                 0.42\n",
              "Prob(Q):                              0.95   Prob(JB):                         0.81\n",
              "Heteroskedasticity (H):               0.49   Skew:                            -0.30\n",
              "Prob(H) (two-sided):                  0.34   Kurtosis:                         3.25\n",
              "===================================================================================\n",
              "\n",
              "Warnings:\n",
              "[1] Covariance matrix calculated using the outer product of gradients (complex-step).\n",
              "\"\"\""
            ],
            "text/html": [
              "<table class=\"simpletable\">\n",
              "<caption>SARIMAX Results</caption>\n",
              "<tr>\n",
              "  <th>Dep. Variable:</th>            <td>AvgTemp_mean</td>          <th>  No. Observations:  </th>   <td>36</td>   \n",
              "</tr>\n",
              "<tr>\n",
              "  <th>Model:</th>           <td>SARIMAX(1, 0, 0)x(0, 1, 0, 12)</td> <th>  Log Likelihood     </th> <td>-79.529</td>\n",
              "</tr>\n",
              "<tr>\n",
              "  <th>Date:</th>                   <td>Thu, 24 Mar 2022</td>        <th>  AIC                </th> <td>163.058</td>\n",
              "</tr>\n",
              "<tr>\n",
              "  <th>Time:</th>                       <td>09:42:11</td>            <th>  BIC                </th> <td>165.414</td>\n",
              "</tr>\n",
              "<tr>\n",
              "  <th>Sample:</th>                    <td>12-01-2014</td>           <th>  HQIC               </th> <td>163.683</td>\n",
              "</tr>\n",
              "<tr>\n",
              "  <th></th>                          <td>- 11-01-2017</td>          <th>                     </th>    <td> </td>   \n",
              "</tr>\n",
              "<tr>\n",
              "  <th>Covariance Type:</th>               <td>opg</td>              <th>                     </th>    <td> </td>   \n",
              "</tr>\n",
              "</table>\n",
              "<table class=\"simpletable\">\n",
              "<tr>\n",
              "     <td></td>       <th>coef</th>     <th>std err</th>      <th>z</th>      <th>P>|z|</th>  <th>[0.025</th>    <th>0.975]</th>  \n",
              "</tr>\n",
              "<tr>\n",
              "  <th>ar.L1</th>  <td>    0.0567</td> <td>    0.201</td> <td>    0.281</td> <td> 0.778</td> <td>   -0.338</td> <td>    0.451</td>\n",
              "</tr>\n",
              "<tr>\n",
              "  <th>sigma2</th> <td>   44.2297</td> <td>   12.938</td> <td>    3.419</td> <td> 0.001</td> <td>   18.871</td> <td>   69.588</td>\n",
              "</tr>\n",
              "</table>\n",
              "<table class=\"simpletable\">\n",
              "<tr>\n",
              "  <th>Ljung-Box (L1) (Q):</th>     <td>0.00</td> <th>  Jarque-Bera (JB):  </th> <td>0.42</td> \n",
              "</tr>\n",
              "<tr>\n",
              "  <th>Prob(Q):</th>                <td>0.95</td> <th>  Prob(JB):          </th> <td>0.81</td> \n",
              "</tr>\n",
              "<tr>\n",
              "  <th>Heteroskedasticity (H):</th> <td>0.49</td> <th>  Skew:              </th> <td>-0.30</td>\n",
              "</tr>\n",
              "<tr>\n",
              "  <th>Prob(H) (two-sided):</th>    <td>0.34</td> <th>  Kurtosis:          </th> <td>3.25</td> \n",
              "</tr>\n",
              "</table><br/><br/>Warnings:<br/>[1] Covariance matrix calculated using the outer product of gradients (complex-step)."
            ]
          },
          "metadata": {},
          "execution_count": 27
        }
      ]
    },
    {
      "cell_type": "code",
      "source": [
        "#Получаем предсказанные значения и пытаемся оценить качество прогноза\n",
        "start=len(train) #первая точка в тестовом множестве\n",
        "end=len(train)+len(test)-1 #последняя точка в тестовом множеств\n",
        "#предсказываем значения,передав модели results точку начала и окончания\n",
        "predictions = results.predict(start=start, end=end, dynamic=False, typ='levels').rename('Predictions SARIMAX(1, 0, 0)x(0, 1, 0, 12)')"
      ],
      "metadata": {
        "id": "fge-b2AL2jky"
      },
      "execution_count": 28,
      "outputs": []
    },
    {
      "cell_type": "code",
      "source": [
        "#Сравниваем результаты\n",
        "test['AvgTemp_mean'].plot(legend=True)\n",
        "predictions.plot(legend=True)"
      ],
      "metadata": {
        "colab": {
          "base_uri": "https://localhost:8080/",
          "height": 309
        },
        "id": "yZgmm1Yk3UYz",
        "outputId": "143b4a3a-b7fa-4df8-b14d-975459ed0d47"
      },
      "execution_count": 29,
      "outputs": [
        {
          "output_type": "execute_result",
          "data": {
            "text/plain": [
              "<matplotlib.axes._subplots.AxesSubplot at 0x7f285cbb2410>"
            ]
          },
          "metadata": {},
          "execution_count": 29
        },
        {
          "output_type": "display_data",
          "data": {
            "text/plain": [
              "<Figure size 432x288 with 1 Axes>"
            ],
            "image/png": "[encoded data removed]"
          },
          "metadata": {
            "needs_background": "light"
          }
        }
      ]
    },
    {
      "cell_type": "code",
      "source": [
        "#Строим графики\n",
        "\n",
        "##добавляем\n",
        "title = 'AVG t' #название графика\n",
        "ylabel = 't' #название оси Y\n",
        "xlabel = '' #название оси Х\n",
        "\n",
        "\n",
        "ax = test['AvgTemp_mean'].plot(legend=True, figsize=(15,6),title=title) #добавлем заголовок\n",
        "predictions.plot(legend=True)\n",
        "ax.autoscale(axis='x',tight=True)\n",
        "ax.set(xlabel=xlabel, ylabel=ylabel)"
      ],
      "metadata": {
        "colab": {
          "base_uri": "https://localhost:8080/",
          "height": 419
        },
        "id": "n968I76z3iZl",
        "outputId": "4ab1e64f-e9cd-4ba6-dfbb-585070dd602b"
      },
      "execution_count": 30,
      "outputs": [
        {
          "output_type": "execute_result",
          "data": {
            "text/plain": [
              "[Text(0, 0.5, 't'), Text(0.5, 0, '')]"
            ]
          },
          "metadata": {},
          "execution_count": 30
        },
        {
          "output_type": "display_data",
          "data": {
            "text/plain": [
              "<Figure size 1080x432 with 1 Axes>"
            ],
            "image/png": "[encoded data removed]"
          },
          "metadata": {
            "needs_background": "light"
          }
        }
      ]
    },
    {
      "cell_type": "code",
      "source": [
        "#Оцениваем модель методом MSE (Среднеквадратическая ошибка Mean Square Error) и RMSE (Среднеквадратическое отклонение Root Mean Square Error)\n",
        "\n",
        "mse_value = mean_squared_error(test['AvgTemp_mean'], predictions)\n",
        "rmse_value = rmse(test['AvgTemp_mean'], predictions)\n",
        "mape_error = np.mean(np.abs(predictions - test['AvgTemp_mean'])/test['AvgTemp_mean'])*100\n",
        "\n",
        "print(f'SARIMAX(1,0,0)(0, 1, 0, 12) MSE Error: {mse_value:11.10}') #квадрат от единиц измерения 11 - кол-во символов (с точкой), 10 - после точки (сколько оставнется, но макс 10) \n",
        "print(f'SARIMAX(1,0,0)(0, 1, 0, 12) RMSE Error: {rmse_value:11.10}') #единицы те же, что и само измерение\n",
        "print(f'SARIMAX(1,0,0)(0, 1, 0, 12) MAPE Error: {mape_error:11.10}')"
      ],
      "metadata": {
        "colab": {
          "base_uri": "https://localhost:8080/"
        },
        "id": "4YgkRSN34ZS2",
        "outputId": "60e3e1e6-9d28-4d11-de4e-c84b0e80ec25"
      },
      "execution_count": 31,
      "outputs": [
        {
          "output_type": "stream",
          "name": "stdout",
          "text": [
            "SARIMA(1,0,0)(0, 1, 0, 12) MSE Error: 28.94887983\n",
            "SARIMA(1,0,0)(0, 1, 0, 12) RMSE Error: 5.380416325\n",
            "SARIMA(1,0,0)(0, 1, 0, 12) MAPE Error: 26.47583303\n"
          ]
        }
      ]
    },
    {
      "cell_type": "markdown",
      "source": [
        "MSE (чем меньше, тем лучше и меньше грубых ошибок) = 28,9\n",
        "MAPE (чем меньше, тем лучше и меньше грубых ошибок) = 26,5\n",
        "Модель приемлимого качества, но могла быть и лучше"
      ],
      "metadata": {
        "id": "wYOjW10zL0ra"
      }
    },
    {
      "cell_type": "code",
      "source": [
        "#Не знаем данных будущего, поэтому обучаем модель на всем датасете (обучение без учителя)\n",
        "\n",
        "model = SARIMAX(df['AvgTemp_mean'],order=(1, 0, 0),seasonal_order=(0, 1, 0, 12))\n",
        "results = model.fit()\n",
        "results.summary()"
      ],
      "metadata": {
        "colab": {
          "base_uri": "https://localhost:8080/",
          "height": 478
        },
        "id": "t4nkcv256BTb",
        "outputId": "7b052bc8-13b1-4a18-8d97-f34bb64525c1"
      },
      "execution_count": 32,
      "outputs": [
        {
          "output_type": "stream",
          "name": "stderr",
          "text": [
            "/usr/local/lib/python3.7/dist-packages/statsmodels/tsa/base/tsa_model.py:471: ValueWarning: No frequency information was provided, so inferred frequency MS will be used.\n",
            "  self._init_dates(dates, freq)\n",
            "/usr/local/lib/python3.7/dist-packages/statsmodels/tsa/base/tsa_model.py:471: ValueWarning: No frequency information was provided, so inferred frequency MS will be used.\n",
            "  self._init_dates(dates, freq)\n"
          ]
        },
        {
          "output_type": "execute_result",
          "data": {
            "text/plain": [
              "<class 'statsmodels.iolib.summary.Summary'>\n",
              "\"\"\"\n",
              "                                     SARIMAX Results                                      \n",
              "==========================================================================================\n",
              "Dep. Variable:                       AvgTemp_mean   No. Observations:                   48\n",
              "Model:             SARIMAX(1, 0, 0)x(0, 1, 0, 12)   Log Likelihood                -117.122\n",
              "Date:                            Thu, 24 Mar 2022   AIC                            238.243\n",
              "Time:                                    09:42:11   BIC                            241.410\n",
              "Sample:                                12-01-2014   HQIC                           239.349\n",
              "                                     - 11-01-2018                                         \n",
              "Covariance Type:                              opg                                         \n",
              "==============================================================================\n",
              "                 coef    std err          z      P>|z|      [0.025      0.975]\n",
              "------------------------------------------------------------------------------\n",
              "ar.L1          0.0489      0.162      0.301      0.763      -0.269       0.367\n",
              "sigma2        39.2036      9.215      4.254      0.000      21.143      57.265\n",
              "===================================================================================\n",
              "Ljung-Box (L1) (Q):                   0.00   Jarque-Bera (JB):                 0.44\n",
              "Prob(Q):                              0.99   Prob(JB):                         0.80\n",
              "Heteroskedasticity (H):               0.72   Skew:                            -0.26\n",
              "Prob(H) (two-sided):                  0.58   Kurtosis:                         3.13\n",
              "===================================================================================\n",
              "\n",
              "Warnings:\n",
              "[1] Covariance matrix calculated using the outer product of gradients (complex-step).\n",
              "\"\"\""
            ],
            "text/html": [
              "<table class=\"simpletable\">\n",
              "<caption>SARIMAX Results</caption>\n",
              "<tr>\n",
              "  <th>Dep. Variable:</th>            <td>AvgTemp_mean</td>          <th>  No. Observations:  </th>    <td>48</td>   \n",
              "</tr>\n",
              "<tr>\n",
              "  <th>Model:</th>           <td>SARIMAX(1, 0, 0)x(0, 1, 0, 12)</td> <th>  Log Likelihood     </th> <td>-117.122</td>\n",
              "</tr>\n",
              "<tr>\n",
              "  <th>Date:</th>                   <td>Thu, 24 Mar 2022</td>        <th>  AIC                </th>  <td>238.243</td>\n",
              "</tr>\n",
              "<tr>\n",
              "  <th>Time:</th>                       <td>09:42:11</td>            <th>  BIC                </th>  <td>241.410</td>\n",
              "</tr>\n",
              "<tr>\n",
              "  <th>Sample:</th>                    <td>12-01-2014</td>           <th>  HQIC               </th>  <td>239.349</td>\n",
              "</tr>\n",
              "<tr>\n",
              "  <th></th>                          <td>- 11-01-2018</td>          <th>                     </th>     <td> </td>   \n",
              "</tr>\n",
              "<tr>\n",
              "  <th>Covariance Type:</th>               <td>opg</td>              <th>                     </th>     <td> </td>   \n",
              "</tr>\n",
              "</table>\n",
              "<table class=\"simpletable\">\n",
              "<tr>\n",
              "     <td></td>       <th>coef</th>     <th>std err</th>      <th>z</th>      <th>P>|z|</th>  <th>[0.025</th>    <th>0.975]</th>  \n",
              "</tr>\n",
              "<tr>\n",
              "  <th>ar.L1</th>  <td>    0.0489</td> <td>    0.162</td> <td>    0.301</td> <td> 0.763</td> <td>   -0.269</td> <td>    0.367</td>\n",
              "</tr>\n",
              "<tr>\n",
              "  <th>sigma2</th> <td>   39.2036</td> <td>    9.215</td> <td>    4.254</td> <td> 0.000</td> <td>   21.143</td> <td>   57.265</td>\n",
              "</tr>\n",
              "</table>\n",
              "<table class=\"simpletable\">\n",
              "<tr>\n",
              "  <th>Ljung-Box (L1) (Q):</th>     <td>0.00</td> <th>  Jarque-Bera (JB):  </th> <td>0.44</td> \n",
              "</tr>\n",
              "<tr>\n",
              "  <th>Prob(Q):</th>                <td>0.99</td> <th>  Prob(JB):          </th> <td>0.80</td> \n",
              "</tr>\n",
              "<tr>\n",
              "  <th>Heteroskedasticity (H):</th> <td>0.72</td> <th>  Skew:              </th> <td>-0.26</td>\n",
              "</tr>\n",
              "<tr>\n",
              "  <th>Prob(H) (two-sided):</th>    <td>0.58</td> <th>  Kurtosis:          </th> <td>3.13</td> \n",
              "</tr>\n",
              "</table><br/><br/>Warnings:<br/>[1] Covariance matrix calculated using the outer product of gradients (complex-step)."
            ]
          },
          "metadata": {},
          "execution_count": 32
        }
      ]
    },
    {
      "cell_type": "code",
      "source": [
        "# Прогнозируем на год вперед\n",
        "fcast = results.predict(len(df)-1,len(df)+11,typ='levels').rename('SARIMAX(1, 0, 0)x(0, 1, 0, 12) Forecast') "
      ],
      "metadata": {
        "id": "-y-cGWK16XRb"
      },
      "execution_count": 33,
      "outputs": []
    },
    {
      "cell_type": "code",
      "source": [
        "#Посмотрим на forecast для всего датасета на год вперед\n",
        "fcast.plot()"
      ],
      "metadata": {
        "colab": {
          "base_uri": "https://localhost:8080/",
          "height": 294
        },
        "id": "LZCPT2vi6iWu",
        "outputId": "7e36b5bf-1682-4e00-e986-9dd88e9b3f44"
      },
      "execution_count": 34,
      "outputs": [
        {
          "output_type": "execute_result",
          "data": {
            "text/plain": [
              "<matplotlib.axes._subplots.AxesSubplot at 0x7f285caaf290>"
            ]
          },
          "metadata": {},
          "execution_count": 34
        },
        {
          "output_type": "display_data",
          "data": {
            "text/plain": [
              "<Figure size 432x288 with 1 Axes>"
            ],
            "image/png": "[encoded data removed]"
          },
          "metadata": {
            "needs_background": "light"
          }
        }
      ]
    },
    {
      "cell_type": "code",
      "source": [
        "#Строим графики\n",
        "\n",
        "##добавляем\n",
        "title = 'AVG t' #название графика\n",
        "ylabel = 't' #название оси Y\n",
        "xlabel = '' #название оси Х\n",
        "\n",
        "\n",
        "ax_SARIMAX = df['AvgTemp_mean'].plot(legend=True, figsize=(15,6),title=title) \n",
        "fcast.plot(legend=True)\n",
        "ax_SARIMAX.autoscale(axis='x',tight=True)\n",
        "ax_SARIMAX.set(xlabel=xlabel, ylabel=ylabel)"
      ],
      "metadata": {
        "colab": {
          "base_uri": "https://localhost:8080/",
          "height": 407
        },
        "id": "ZnPnfY406sNG",
        "outputId": "ec4c9400-165c-49a2-b34b-997fdc6ac3ac"
      },
      "execution_count": 35,
      "outputs": [
        {
          "output_type": "execute_result",
          "data": {
            "text/plain": [
              "[Text(0, 0.5, 't'), Text(0.5, 0, '')]"
            ]
          },
          "metadata": {},
          "execution_count": 35
        },
        {
          "output_type": "display_data",
          "data": {
            "text/plain": [
              "<Figure size 1080x432 with 1 Axes>"
            ],
            "image/png": "[encoded data removed]"
          },
          "metadata": {
            "needs_background": "light"
          }
        }
      ]
    },
    {
      "cell_type": "markdown",
      "source": [
        "Выводы по модели SARIMAX:\n",
        "На самом деле мы видим, что прогноз полностью повторяет последний год"
      ],
      "metadata": {
        "id": "Ux2P301p_FG8"
      }
    },
    {
      "cell_type": "markdown",
      "source": [
        "2.0 PROPHET"
      ],
      "metadata": {
        "id": "cTB5dssl_hOE"
      }
    },
    {
      "cell_type": "code",
      "source": [
        "from fbprophet import Prophet"
      ],
      "metadata": {
        "id": "4P7iAkfGAFVc"
      },
      "execution_count": 36,
      "outputs": []
    },
    {
      "cell_type": "code",
      "source": [
        "model = Prophet()\n",
        "model"
      ],
      "metadata": {
        "colab": {
          "base_uri": "https://localhost:8080/"
        },
        "id": "G94FRLa6AMEm",
        "outputId": "9af0bde6-d12a-441d-eba3-3cbc23f3f7f9"
      },
      "execution_count": 37,
      "outputs": [
        {
          "output_type": "execute_result",
          "data": {
            "text/plain": [
              "<fbprophet.forecaster.Prophet at 0x7f285c4ac890>"
            ]
          },
          "metadata": {},
          "execution_count": 37
        }
      ]
    },
    {
      "cell_type": "code",
      "source": [
        "train_0 = train.reset_index() #Индекс сбросим, чтобы работать только с колонками.\n",
        "test_0 = test.reset_index() #Индекс сбросим, чтобы работать только с колонками."
      ],
      "metadata": {
        "id": "mIPY93r8ARhv"
      },
      "execution_count": 38,
      "outputs": []
    },
    {
      "cell_type": "code",
      "source": [
        "# Переименуем столбцы в обучающем и тестовом датасетах, чтобы они подходили для использования методов Prophet\n",
        "train_0.columns = ['ds', 'y'] # переименовали столбцы\n",
        "test_0.columns = ['ds', 'y'] # переименовали столбцы\n",
        "\n",
        "df_prophet = df\n",
        "df_prophet = df.reset_index()\n",
        "df_prophet.columns = ['ds', 'y'] # переименовали столбцы"
      ],
      "metadata": {
        "id": "VYyx5XvlAU8q"
      },
      "execution_count": 39,
      "outputs": []
    },
    {
      "cell_type": "code",
      "source": [
        "train_0.head() #посмотрим преобразование после переименования колонок"
      ],
      "metadata": {
        "colab": {
          "base_uri": "https://localhost:8080/",
          "height": 206
        },
        "id": "fytAxRalAXoe",
        "outputId": "9dc3f964-8f3c-4eef-9449-c0d81f4f1faf"
      },
      "execution_count": 40,
      "outputs": [
        {
          "output_type": "execute_result",
          "data": {
            "text/plain": [
              "          ds          y\n",
              "0 2014-12-01  16.870968\n",
              "1 2015-01-01   1.096774\n",
              "2 2015-02-01  -5.250000\n",
              "3 2015-03-01   6.258065\n",
              "4 2015-04-01  22.400000"
            ],
            "text/html": [
              "\n",
              "  <div id=\"df-231c914e-8b1f-4416-bd1c-3b03f64cd453\">\n",
              "    <div class=\"colab-df-container\">\n",
              "      <div>\n",
              "<style scoped>\n",
              "    .dataframe tbody tr th:only-of-type {\n",
              "        vertical-align: middle;\n",
              "    }\n",
              "\n",
              "    .dataframe tbody tr th {\n",
              "        vertical-align: top;\n",
              "    }\n",
              "\n",
              "    .dataframe thead th {\n",
              "        text-align: right;\n",
              "    }\n",
              "</style>\n",
              "<table border=\"1\" class=\"dataframe\">\n",
              "  <thead>\n",
              "    <tr style=\"text-align: right;\">\n",
              "      <th></th>\n",
              "      <th>ds</th>\n",
              "      <th>y</th>\n",
              "    </tr>\n",
              "  </thead>\n",
              "  <tbody>\n",
              "    <tr>\n",
              "      <th>0</th>\n",
              "      <td>2014-12-01</td>\n",
              "      <td>16.870968</td>\n",
              "    </tr>\n",
              "    <tr>\n",
              "      <th>1</th>\n",
              "      <td>2015-01-01</td>\n",
              "      <td>1.096774</td>\n",
              "    </tr>\n",
              "    <tr>\n",
              "      <th>2</th>\n",
              "      <td>2015-02-01</td>\n",
              "      <td>-5.250000</td>\n",
              "    </tr>\n",
              "    <tr>\n",
              "      <th>3</th>\n",
              "      <td>2015-03-01</td>\n",
              "      <td>6.258065</td>\n",
              "    </tr>\n",
              "    <tr>\n",
              "      <th>4</th>\n",
              "      <td>2015-04-01</td>\n",
              "      <td>22.400000</td>\n",
              "    </tr>\n",
              "  </tbody>\n",
              "</table>\n",
              "</div>\n",
              "      <button class=\"colab-df-convert\" onclick=\"convertToInteractive('df-231c914e-8b1f-4416-bd1c-3b03f64cd453')\"\n",
              "              title=\"Convert this dataframe to an interactive table.\"\n",
              "              style=\"display:none;\">\n",
              "        \n",
              "  <svg xmlns=\"http://www.w3.org/2000/svg\" height=\"24px\"viewBox=\"0 0 24 24\"\n",
              "       width=\"24px\">\n",
              "    <path d=\"M0 0h24v24H0V0z\" fill=\"none\"/>\n",
              "    <path d=\"M18.56 5.44l.94 2.06.94-2.06 2.06-.94-2.06-.94-.94-2.06-.94 2.06-2.06.94zm-11 1L8.5 8.5l.94-2.06 2.06-.94-2.06-.94L8.5 2.5l-.94 2.06-2.06.94zm10 10l.94 2.06.94-2.06 2.06-.94-2.06-.94-.94-2.06-.94 2.06-2.06.94z\"/><path d=\"M17.41 7.96l-1.37-1.37c-.4-.4-.92-.59-1.43-.59-.52 0-1.04.2-1.43.59L10.3 9.45l-7.72 7.72c-.78.78-.78 2.05 0 2.83L4 21.41c.39.39.9.59 1.41.59.51 0 1.02-.2 1.41-.59l7.78-7.78 2.81-2.81c.8-.78.8-2.07 0-2.86zM5.41 20L4 18.59l7.72-7.72 1.47 1.35L5.41 20z\"/>\n",
              "  </svg>\n",
              "      </button>\n",
              "      \n",
              "  <style>\n",
              "    .colab-df-container {\n",
              "      display:flex;\n",
              "      flex-wrap:wrap;\n",
              "      gap: 12px;\n",
              "    }\n",
              "\n",
              "    .colab-df-convert {\n",
              "      background-color: #E8F0FE;\n",
              "      border: none;\n",
              "      border-radius: 50%;\n",
              "      cursor: pointer;\n",
              "      display: none;\n",
              "      fill: #1967D2;\n",
              "      height: 32px;\n",
              "      padding: 0 0 0 0;\n",
              "      width: 32px;\n",
              "    }\n",
              "\n",
              "    .colab-df-convert:hover {\n",
              "      background-color: #E2EBFA;\n",
              "      box-shadow: 0px 1px 2px rgba(60, 64, 67, 0.3), 0px 1px 3px 1px rgba(60, 64, 67, 0.15);\n",
              "      fill: #174EA6;\n",
              "    }\n",
              "\n",
              "    [theme=dark] .colab-df-convert {\n",
              "      background-color: #3B4455;\n",
              "      fill: #D2E3FC;\n",
              "    }\n",
              "\n",
              "    [theme=dark] .colab-df-convert:hover {\n",
              "      background-color: #434B5C;\n",
              "      box-shadow: 0px 1px 3px 1px rgba(0, 0, 0, 0.15);\n",
              "      filter: drop-shadow(0px 1px 2px rgba(0, 0, 0, 0.3));\n",
              "      fill: #FFFFFF;\n",
              "    }\n",
              "  </style>\n",
              "\n",
              "      <script>\n",
              "        const buttonEl =\n",
              "          document.querySelector('#df-231c914e-8b1f-4416-bd1c-3b03f64cd453 button.colab-df-convert');\n",
              "        buttonEl.style.display =\n",
              "          google.colab.kernel.accessAllowed ? 'block' : 'none';\n",
              "\n",
              "        async function convertToInteractive(key) {\n",
              "          const element = document.querySelector('#df-231c914e-8b1f-4416-bd1c-3b03f64cd453');\n",
              "          const dataTable =\n",
              "            await google.colab.kernel.invokeFunction('convertToInteractive',\n",
              "                                                     [key], {});\n",
              "          if (!dataTable) return;\n",
              "\n",
              "          const docLinkHtml = 'Like what you see? Visit the ' +\n",
              "            '<a target=\"_blank\" href=https://colab.research.google.com/notebooks/data_table.ipynb>data table notebook</a>'\n",
              "            + ' to learn more about interactive tables.';\n",
              "          element.innerHTML = '';\n",
              "          dataTable['output_type'] = 'display_data';\n",
              "          await google.colab.output.renderOutput(dataTable, element);\n",
              "          const docLink = document.createElement('div');\n",
              "          docLink.innerHTML = docLinkHtml;\n",
              "          element.appendChild(docLink);\n",
              "        }\n",
              "      </script>\n",
              "    </div>\n",
              "  </div>\n",
              "  "
            ]
          },
          "metadata": {},
          "execution_count": 40
        }
      ]
    },
    {
      "cell_type": "code",
      "source": [
        "model.fit(train_0) # подогнали модель под наши данные"
      ],
      "metadata": {
        "colab": {
          "base_uri": "https://localhost:8080/"
        },
        "id": "vadjdF36AcTg",
        "outputId": "8977ca48-29ce-4a9b-c17c-1a001a5230e9"
      },
      "execution_count": 41,
      "outputs": [
        {
          "output_type": "stream",
          "name": "stderr",
          "text": [
            "INFO:fbprophet:Disabling weekly seasonality. Run prophet with weekly_seasonality=True to override this.\n",
            "INFO:fbprophet:Disabling daily seasonality. Run prophet with daily_seasonality=True to override this.\n"
          ]
        },
        {
          "output_type": "execute_result",
          "data": {
            "text/plain": [
              "<fbprophet.forecaster.Prophet at 0x7f285c4ac890>"
            ]
          },
          "metadata": {},
          "execution_count": 41
        }
      ]
    },
    {
      "cell_type": "markdown",
      "source": [
        "Посмотрим на качество получившейся модели. Для этого нам необходимо задать горизонт прогнозирования (в нашем случае это год) и создать дата-фрейм с датами из «будущего», для которого модель потом будет строить прогноз.\n",
        "\n",
        "make_future_dataframe() — метод профета, который создает дата-фрейм с временным периодом будущего. В аргумент ему мы передаем periods и задаем количество элементов, на которые хотим получить прогноз.\n",
        "\n",
        "Так как наши данные имеют месячную гранулярность, прогноз мы также получим по месяцам от последней даты на количество месяцев, указанное в скобках."
      ],
      "metadata": {
        "id": "omjkMl7_CKbd"
      }
    },
    {
      "cell_type": "code",
      "source": [
        "future = model.make_future_dataframe(periods=12, freq='MS') # говорим профету сделать дата-фрейм на 12 месяцев\n",
        "future.tail(12) # выводим 12 строк с конца"
      ],
      "metadata": {
        "colab": {
          "base_uri": "https://localhost:8080/",
          "height": 426
        },
        "id": "9wIMXa9JCXzZ",
        "outputId": "a0b8fc78-9a62-4f78-8e5e-609d8c5410e1"
      },
      "execution_count": 42,
      "outputs": [
        {
          "output_type": "execute_result",
          "data": {
            "text/plain": [
              "           ds\n",
              "36 2017-12-01\n",
              "37 2018-01-01\n",
              "38 2018-02-01\n",
              "39 2018-03-01\n",
              "40 2018-04-01\n",
              "41 2018-05-01\n",
              "42 2018-06-01\n",
              "43 2018-07-01\n",
              "44 2018-08-01\n",
              "45 2018-09-01\n",
              "46 2018-10-01\n",
              "47 2018-11-01"
            ],
            "text/html": [
              "\n",
              "  <div id=\"df-04881ddf-d8ac-4fb4-a351-663136ec5750\">\n",
              "    <div class=\"colab-df-container\">\n",
              "      <div>\n",
              "<style scoped>\n",
              "    .dataframe tbody tr th:only-of-type {\n",
              "        vertical-align: middle;\n",
              "    }\n",
              "\n",
              "    .dataframe tbody tr th {\n",
              "        vertical-align: top;\n",
              "    }\n",
              "\n",
              "    .dataframe thead th {\n",
              "        text-align: right;\n",
              "    }\n",
              "</style>\n",
              "<table border=\"1\" class=\"dataframe\">\n",
              "  <thead>\n",
              "    <tr style=\"text-align: right;\">\n",
              "      <th></th>\n",
              "      <th>ds</th>\n",
              "    </tr>\n",
              "  </thead>\n",
              "  <tbody>\n",
              "    <tr>\n",
              "      <th>36</th>\n",
              "      <td>2017-12-01</td>\n",
              "    </tr>\n",
              "    <tr>\n",
              "      <th>37</th>\n",
              "      <td>2018-01-01</td>\n",
              "    </tr>\n",
              "    <tr>\n",
              "      <th>38</th>\n",
              "      <td>2018-02-01</td>\n",
              "    </tr>\n",
              "    <tr>\n",
              "      <th>39</th>\n",
              "      <td>2018-03-01</td>\n",
              "    </tr>\n",
              "    <tr>\n",
              "      <th>40</th>\n",
              "      <td>2018-04-01</td>\n",
              "    </tr>\n",
              "    <tr>\n",
              "      <th>41</th>\n",
              "      <td>2018-05-01</td>\n",
              "    </tr>\n",
              "    <tr>\n",
              "      <th>42</th>\n",
              "      <td>2018-06-01</td>\n",
              "    </tr>\n",
              "    <tr>\n",
              "      <th>43</th>\n",
              "      <td>2018-07-01</td>\n",
              "    </tr>\n",
              "    <tr>\n",
              "      <th>44</th>\n",
              "      <td>2018-08-01</td>\n",
              "    </tr>\n",
              "    <tr>\n",
              "      <th>45</th>\n",
              "      <td>2018-09-01</td>\n",
              "    </tr>\n",
              "    <tr>\n",
              "      <th>46</th>\n",
              "      <td>2018-10-01</td>\n",
              "    </tr>\n",
              "    <tr>\n",
              "      <th>47</th>\n",
              "      <td>2018-11-01</td>\n",
              "    </tr>\n",
              "  </tbody>\n",
              "</table>\n",
              "</div>\n",
              "      <button class=\"colab-df-convert\" onclick=\"convertToInteractive('df-04881ddf-d8ac-4fb4-a351-663136ec5750')\"\n",
              "              title=\"Convert this dataframe to an interactive table.\"\n",
              "              style=\"display:none;\">\n",
              "        \n",
              "  <svg xmlns=\"http://www.w3.org/2000/svg\" height=\"24px\"viewBox=\"0 0 24 24\"\n",
              "       width=\"24px\">\n",
              "    <path d=\"M0 0h24v24H0V0z\" fill=\"none\"/>\n",
              "    <path d=\"M18.56 5.44l.94 2.06.94-2.06 2.06-.94-2.06-.94-.94-2.06-.94 2.06-2.06.94zm-11 1L8.5 8.5l.94-2.06 2.06-.94-2.06-.94L8.5 2.5l-.94 2.06-2.06.94zm10 10l.94 2.06.94-2.06 2.06-.94-2.06-.94-.94-2.06-.94 2.06-2.06.94z\"/><path d=\"M17.41 7.96l-1.37-1.37c-.4-.4-.92-.59-1.43-.59-.52 0-1.04.2-1.43.59L10.3 9.45l-7.72 7.72c-.78.78-.78 2.05 0 2.83L4 21.41c.39.39.9.59 1.41.59.51 0 1.02-.2 1.41-.59l7.78-7.78 2.81-2.81c.8-.78.8-2.07 0-2.86zM5.41 20L4 18.59l7.72-7.72 1.47 1.35L5.41 20z\"/>\n",
              "  </svg>\n",
              "      </button>\n",
              "      \n",
              "  <style>\n",
              "    .colab-df-container {\n",
              "      display:flex;\n",
              "      flex-wrap:wrap;\n",
              "      gap: 12px;\n",
              "    }\n",
              "\n",
              "    .colab-df-convert {\n",
              "      background-color: #E8F0FE;\n",
              "      border: none;\n",
              "      border-radius: 50%;\n",
              "      cursor: pointer;\n",
              "      display: none;\n",
              "      fill: #1967D2;\n",
              "      height: 32px;\n",
              "      padding: 0 0 0 0;\n",
              "      width: 32px;\n",
              "    }\n",
              "\n",
              "    .colab-df-convert:hover {\n",
              "      background-color: #E2EBFA;\n",
              "      box-shadow: 0px 1px 2px rgba(60, 64, 67, 0.3), 0px 1px 3px 1px rgba(60, 64, 67, 0.15);\n",
              "      fill: #174EA6;\n",
              "    }\n",
              "\n",
              "    [theme=dark] .colab-df-convert {\n",
              "      background-color: #3B4455;\n",
              "      fill: #D2E3FC;\n",
              "    }\n",
              "\n",
              "    [theme=dark] .colab-df-convert:hover {\n",
              "      background-color: #434B5C;\n",
              "      box-shadow: 0px 1px 3px 1px rgba(0, 0, 0, 0.15);\n",
              "      filter: drop-shadow(0px 1px 2px rgba(0, 0, 0, 0.3));\n",
              "      fill: #FFFFFF;\n",
              "    }\n",
              "  </style>\n",
              "\n",
              "      <script>\n",
              "        const buttonEl =\n",
              "          document.querySelector('#df-04881ddf-d8ac-4fb4-a351-663136ec5750 button.colab-df-convert');\n",
              "        buttonEl.style.display =\n",
              "          google.colab.kernel.accessAllowed ? 'block' : 'none';\n",
              "\n",
              "        async function convertToInteractive(key) {\n",
              "          const element = document.querySelector('#df-04881ddf-d8ac-4fb4-a351-663136ec5750');\n",
              "          const dataTable =\n",
              "            await google.colab.kernel.invokeFunction('convertToInteractive',\n",
              "                                                     [key], {});\n",
              "          if (!dataTable) return;\n",
              "\n",
              "          const docLinkHtml = 'Like what you see? Visit the ' +\n",
              "            '<a target=\"_blank\" href=https://colab.research.google.com/notebooks/data_table.ipynb>data table notebook</a>'\n",
              "            + ' to learn more about interactive tables.';\n",
              "          element.innerHTML = '';\n",
              "          dataTable['output_type'] = 'display_data';\n",
              "          await google.colab.output.renderOutput(dataTable, element);\n",
              "          const docLink = document.createElement('div');\n",
              "          docLink.innerHTML = docLinkHtml;\n",
              "          element.appendChild(docLink);\n",
              "        }\n",
              "      </script>\n",
              "    </div>\n",
              "  </div>\n",
              "  "
            ]
          },
          "metadata": {},
          "execution_count": 42
        }
      ]
    },
    {
      "cell_type": "markdown",
      "source": [
        "Теперь можем построить прогноз методом .predict.\n",
        "\n",
        "Применим его к нашей модели и запишем в отдельную переменную.\n",
        "\n",
        "доверительный интервал по умолчанию 95%, это популярный стандарт, который вполне нас устраивает"
      ],
      "metadata": {
        "id": "kHaGsTeiCiXU"
      }
    },
    {
      "cell_type": "code",
      "source": [
        "forecast = model.predict(future)\n",
        "forecast.head() # возвращает много колонок"
      ],
      "metadata": {
        "colab": {
          "base_uri": "https://localhost:8080/",
          "height": 357
        },
        "id": "Nf2HuD9rCmN6",
        "outputId": "270710c3-1814-41f9-f7ab-7c71645ac3cc"
      },
      "execution_count": 43,
      "outputs": [
        {
          "output_type": "execute_result",
          "data": {
            "text/plain": [
              "          ds      trend  yhat_lower  yhat_upper  trend_lower  trend_upper  \\\n",
              "0 2014-12-01  27.540743   13.732167   21.265231    27.540743    27.540743   \n",
              "1 2015-01-01  27.620948    1.557568    9.164265    27.620948    27.620948   \n",
              "2 2015-02-01  27.701152   -0.411458    7.280075    27.701152    27.701152   \n",
              "3 2015-03-01  27.773596    1.917215    9.527082    27.773596    27.773596   \n",
              "4 2015-04-01  27.853800   20.773668   28.451983    27.853800    27.853800   \n",
              "\n",
              "   additive_terms  additive_terms_lower  additive_terms_upper     yearly  \\\n",
              "0      -10.074513            -10.074513            -10.074513 -10.074513   \n",
              "1      -22.274749            -22.274749            -22.274749 -22.274749   \n",
              "2      -24.125441            -24.125441            -24.125441 -24.125441   \n",
              "3      -22.101035            -22.101035            -22.101035 -22.101035   \n",
              "4       -3.083352             -3.083352             -3.083352  -3.083352   \n",
              "\n",
              "   yearly_lower  yearly_upper  multiplicative_terms  \\\n",
              "0    -10.074513    -10.074513                   0.0   \n",
              "1    -22.274749    -22.274749                   0.0   \n",
              "2    -24.125441    -24.125441                   0.0   \n",
              "3    -22.101035    -22.101035                   0.0   \n",
              "4     -3.083352     -3.083352                   0.0   \n",
              "\n",
              "   multiplicative_terms_lower  multiplicative_terms_upper       yhat  \n",
              "0                         0.0                         0.0  17.466230  \n",
              "1                         0.0                         0.0   5.346199  \n",
              "2                         0.0                         0.0   3.575711  \n",
              "3                         0.0                         0.0   5.672560  \n",
              "4                         0.0                         0.0  24.770448  "
            ],
            "text/html": [
              "\n",
              "  <div id=\"df-77664a79-2aa1-44e3-b673-f1e59d7d3169\">\n",
              "    <div class=\"colab-df-container\">\n",
              "      <div>\n",
              "<style scoped>\n",
              "    .dataframe tbody tr th:only-of-type {\n",
              "        vertical-align: middle;\n",
              "    }\n",
              "\n",
              "    .dataframe tbody tr th {\n",
              "        vertical-align: top;\n",
              "    }\n",
              "\n",
              "    .dataframe thead th {\n",
              "        text-align: right;\n",
              "    }\n",
              "</style>\n",
              "<table border=\"1\" class=\"dataframe\">\n",
              "  <thead>\n",
              "    <tr style=\"text-align: right;\">\n",
              "      <th></th>\n",
              "      <th>ds</th>\n",
              "      <th>trend</th>\n",
              "      <th>yhat_lower</th>\n",
              "      <th>yhat_upper</th>\n",
              "      <th>trend_lower</th>\n",
              "      <th>trend_upper</th>\n",
              "      <th>additive_terms</th>\n",
              "      <th>additive_terms_lower</th>\n",
              "      <th>additive_terms_upper</th>\n",
              "      <th>yearly</th>\n",
              "      <th>yearly_lower</th>\n",
              "      <th>yearly_upper</th>\n",
              "      <th>multiplicative_terms</th>\n",
              "      <th>multiplicative_terms_lower</th>\n",
              "      <th>multiplicative_terms_upper</th>\n",
              "      <th>yhat</th>\n",
              "    </tr>\n",
              "  </thead>\n",
              "  <tbody>\n",
              "    <tr>\n",
              "      <th>0</th>\n",
              "      <td>2014-12-01</td>\n",
              "      <td>27.540743</td>\n",
              "      <td>13.732167</td>\n",
              "      <td>21.265231</td>\n",
              "      <td>27.540743</td>\n",
              "      <td>27.540743</td>\n",
              "      <td>-10.074513</td>\n",
              "      <td>-10.074513</td>\n",
              "      <td>-10.074513</td>\n",
              "      <td>-10.074513</td>\n",
              "      <td>-10.074513</td>\n",
              "      <td>-10.074513</td>\n",
              "      <td>0.0</td>\n",
              "      <td>0.0</td>\n",
              "      <td>0.0</td>\n",
              "      <td>17.466230</td>\n",
              "    </tr>\n",
              "    <tr>\n",
              "      <th>1</th>\n",
              "      <td>2015-01-01</td>\n",
              "      <td>27.620948</td>\n",
              "      <td>1.557568</td>\n",
              "      <td>9.164265</td>\n",
              "      <td>27.620948</td>\n",
              "      <td>27.620948</td>\n",
              "      <td>-22.274749</td>\n",
              "      <td>-22.274749</td>\n",
              "      <td>-22.274749</td>\n",
              "      <td>-22.274749</td>\n",
              "      <td>-22.274749</td>\n",
              "      <td>-22.274749</td>\n",
              "      <td>0.0</td>\n",
              "      <td>0.0</td>\n",
              "      <td>0.0</td>\n",
              "      <td>5.346199</td>\n",
              "    </tr>\n",
              "    <tr>\n",
              "      <th>2</th>\n",
              "      <td>2015-02-01</td>\n",
              "      <td>27.701152</td>\n",
              "      <td>-0.411458</td>\n",
              "      <td>7.280075</td>\n",
              "      <td>27.701152</td>\n",
              "      <td>27.701152</td>\n",
              "      <td>-24.125441</td>\n",
              "      <td>-24.125441</td>\n",
              "      <td>-24.125441</td>\n",
              "      <td>-24.125441</td>\n",
              "      <td>-24.125441</td>\n",
              "      <td>-24.125441</td>\n",
              "      <td>0.0</td>\n",
              "      <td>0.0</td>\n",
              "      <td>0.0</td>\n",
              "      <td>3.575711</td>\n",
              "    </tr>\n",
              "    <tr>\n",
              "      <th>3</th>\n",
              "      <td>2015-03-01</td>\n",
              "      <td>27.773596</td>\n",
              "      <td>1.917215</td>\n",
              "      <td>9.527082</td>\n",
              "      <td>27.773596</td>\n",
              "      <td>27.773596</td>\n",
              "      <td>-22.101035</td>\n",
              "      <td>-22.101035</td>\n",
              "      <td>-22.101035</td>\n",
              "      <td>-22.101035</td>\n",
              "      <td>-22.101035</td>\n",
              "      <td>-22.101035</td>\n",
              "      <td>0.0</td>\n",
              "      <td>0.0</td>\n",
              "      <td>0.0</td>\n",
              "      <td>5.672560</td>\n",
              "    </tr>\n",
              "    <tr>\n",
              "      <th>4</th>\n",
              "      <td>2015-04-01</td>\n",
              "      <td>27.853800</td>\n",
              "      <td>20.773668</td>\n",
              "      <td>28.451983</td>\n",
              "      <td>27.853800</td>\n",
              "      <td>27.853800</td>\n",
              "      <td>-3.083352</td>\n",
              "      <td>-3.083352</td>\n",
              "      <td>-3.083352</td>\n",
              "      <td>-3.083352</td>\n",
              "      <td>-3.083352</td>\n",
              "      <td>-3.083352</td>\n",
              "      <td>0.0</td>\n",
              "      <td>0.0</td>\n",
              "      <td>0.0</td>\n",
              "      <td>24.770448</td>\n",
              "    </tr>\n",
              "  </tbody>\n",
              "</table>\n",
              "</div>\n",
              "      <button class=\"colab-df-convert\" onclick=\"convertToInteractive('df-77664a79-2aa1-44e3-b673-f1e59d7d3169')\"\n",
              "              title=\"Convert this dataframe to an interactive table.\"\n",
              "              style=\"display:none;\">\n",
              "        \n",
              "  <svg xmlns=\"http://www.w3.org/2000/svg\" height=\"24px\"viewBox=\"0 0 24 24\"\n",
              "       width=\"24px\">\n",
              "    <path d=\"M0 0h24v24H0V0z\" fill=\"none\"/>\n",
              "    <path d=\"M18.56 5.44l.94 2.06.94-2.06 2.06-.94-2.06-.94-.94-2.06-.94 2.06-2.06.94zm-11 1L8.5 8.5l.94-2.06 2.06-.94-2.06-.94L8.5 2.5l-.94 2.06-2.06.94zm10 10l.94 2.06.94-2.06 2.06-.94-2.06-.94-.94-2.06-.94 2.06-2.06.94z\"/><path d=\"M17.41 7.96l-1.37-1.37c-.4-.4-.92-.59-1.43-.59-.52 0-1.04.2-1.43.59L10.3 9.45l-7.72 7.72c-.78.78-.78 2.05 0 2.83L4 21.41c.39.39.9.59 1.41.59.51 0 1.02-.2 1.41-.59l7.78-7.78 2.81-2.81c.8-.78.8-2.07 0-2.86zM5.41 20L4 18.59l7.72-7.72 1.47 1.35L5.41 20z\"/>\n",
              "  </svg>\n",
              "      </button>\n",
              "      \n",
              "  <style>\n",
              "    .colab-df-container {\n",
              "      display:flex;\n",
              "      flex-wrap:wrap;\n",
              "      gap: 12px;\n",
              "    }\n",
              "\n",
              "    .colab-df-convert {\n",
              "      background-color: #E8F0FE;\n",
              "      border: none;\n",
              "      border-radius: 50%;\n",
              "      cursor: pointer;\n",
              "      display: none;\n",
              "      fill: #1967D2;\n",
              "      height: 32px;\n",
              "      padding: 0 0 0 0;\n",
              "      width: 32px;\n",
              "    }\n",
              "\n",
              "    .colab-df-convert:hover {\n",
              "      background-color: #E2EBFA;\n",
              "      box-shadow: 0px 1px 2px rgba(60, 64, 67, 0.3), 0px 1px 3px 1px rgba(60, 64, 67, 0.15);\n",
              "      fill: #174EA6;\n",
              "    }\n",
              "\n",
              "    [theme=dark] .colab-df-convert {\n",
              "      background-color: #3B4455;\n",
              "      fill: #D2E3FC;\n",
              "    }\n",
              "\n",
              "    [theme=dark] .colab-df-convert:hover {\n",
              "      background-color: #434B5C;\n",
              "      box-shadow: 0px 1px 3px 1px rgba(0, 0, 0, 0.15);\n",
              "      filter: drop-shadow(0px 1px 2px rgba(0, 0, 0, 0.3));\n",
              "      fill: #FFFFFF;\n",
              "    }\n",
              "  </style>\n",
              "\n",
              "      <script>\n",
              "        const buttonEl =\n",
              "          document.querySelector('#df-77664a79-2aa1-44e3-b673-f1e59d7d3169 button.colab-df-convert');\n",
              "        buttonEl.style.display =\n",
              "          google.colab.kernel.accessAllowed ? 'block' : 'none';\n",
              "\n",
              "        async function convertToInteractive(key) {\n",
              "          const element = document.querySelector('#df-77664a79-2aa1-44e3-b673-f1e59d7d3169');\n",
              "          const dataTable =\n",
              "            await google.colab.kernel.invokeFunction('convertToInteractive',\n",
              "                                                     [key], {});\n",
              "          if (!dataTable) return;\n",
              "\n",
              "          const docLinkHtml = 'Like what you see? Visit the ' +\n",
              "            '<a target=\"_blank\" href=https://colab.research.google.com/notebooks/data_table.ipynb>data table notebook</a>'\n",
              "            + ' to learn more about interactive tables.';\n",
              "          element.innerHTML = '';\n",
              "          dataTable['output_type'] = 'display_data';\n",
              "          await google.colab.output.renderOutput(dataTable, element);\n",
              "          const docLink = document.createElement('div');\n",
              "          docLink.innerHTML = docLinkHtml;\n",
              "          element.appendChild(docLink);\n",
              "        }\n",
              "      </script>\n",
              "    </div>\n",
              "  </div>\n",
              "  "
            ]
          },
          "metadata": {},
          "execution_count": 43
        }
      ]
    },
    {
      "cell_type": "markdown",
      "source": [
        "Основные поля в прогнозе следующие:\n",
        "\n",
        "ds — дата прогноза\n",
        "\n",
        "yhat — спрогнозированное значение\n",
        "\n",
        "yhat_lower — нижняя граница доверительного интервала для прогноза\n",
        "\n",
        "yhat_upper — верхняя граница доверительного интервала для прогноза"
      ],
      "metadata": {
        "id": "EPRBCanKCqr_"
      }
    },
    {
      "cell_type": "code",
      "source": [
        "forecast[['ds', 'yhat', 'yhat_lower', 'yhat_upper']].tail() # оставим только нужные"
      ],
      "metadata": {
        "colab": {
          "base_uri": "https://localhost:8080/",
          "height": 206
        },
        "id": "J6-tvor2Ctj0",
        "outputId": "360fca25-e5df-4304-8897-10f78a4ba63a"
      },
      "execution_count": 44,
      "outputs": [
        {
          "output_type": "execute_result",
          "data": {
            "text/plain": [
              "           ds       yhat  yhat_lower  yhat_upper\n",
              "43 2018-07-01  51.291494   47.368821   55.089577\n",
              "44 2018-08-01  50.604367   46.495806   54.351926\n",
              "45 2018-09-01  49.621049   45.782529   53.697106\n",
              "46 2018-10-01  34.239321   30.278136   38.007808\n",
              "47 2018-11-01  24.926813   20.915849   28.417465"
            ],
            "text/html": [
              "\n",
              "  <div id=\"df-8cb9c9c7-21d8-4050-917f-3cfe99ecaa18\">\n",
              "    <div class=\"colab-df-container\">\n",
              "      <div>\n",
              "<style scoped>\n",
              "    .dataframe tbody tr th:only-of-type {\n",
              "        vertical-align: middle;\n",
              "    }\n",
              "\n",
              "    .dataframe tbody tr th {\n",
              "        vertical-align: top;\n",
              "    }\n",
              "\n",
              "    .dataframe thead th {\n",
              "        text-align: right;\n",
              "    }\n",
              "</style>\n",
              "<table border=\"1\" class=\"dataframe\">\n",
              "  <thead>\n",
              "    <tr style=\"text-align: right;\">\n",
              "      <th></th>\n",
              "      <th>ds</th>\n",
              "      <th>yhat</th>\n",
              "      <th>yhat_lower</th>\n",
              "      <th>yhat_upper</th>\n",
              "    </tr>\n",
              "  </thead>\n",
              "  <tbody>\n",
              "    <tr>\n",
              "      <th>43</th>\n",
              "      <td>2018-07-01</td>\n",
              "      <td>51.291494</td>\n",
              "      <td>47.368821</td>\n",
              "      <td>55.089577</td>\n",
              "    </tr>\n",
              "    <tr>\n",
              "      <th>44</th>\n",
              "      <td>2018-08-01</td>\n",
              "      <td>50.604367</td>\n",
              "      <td>46.495806</td>\n",
              "      <td>54.351926</td>\n",
              "    </tr>\n",
              "    <tr>\n",
              "      <th>45</th>\n",
              "      <td>2018-09-01</td>\n",
              "      <td>49.621049</td>\n",
              "      <td>45.782529</td>\n",
              "      <td>53.697106</td>\n",
              "    </tr>\n",
              "    <tr>\n",
              "      <th>46</th>\n",
              "      <td>2018-10-01</td>\n",
              "      <td>34.239321</td>\n",
              "      <td>30.278136</td>\n",
              "      <td>38.007808</td>\n",
              "    </tr>\n",
              "    <tr>\n",
              "      <th>47</th>\n",
              "      <td>2018-11-01</td>\n",
              "      <td>24.926813</td>\n",
              "      <td>20.915849</td>\n",
              "      <td>28.417465</td>\n",
              "    </tr>\n",
              "  </tbody>\n",
              "</table>\n",
              "</div>\n",
              "      <button class=\"colab-df-convert\" onclick=\"convertToInteractive('df-8cb9c9c7-21d8-4050-917f-3cfe99ecaa18')\"\n",
              "              title=\"Convert this dataframe to an interactive table.\"\n",
              "              style=\"display:none;\">\n",
              "        \n",
              "  <svg xmlns=\"http://www.w3.org/2000/svg\" height=\"24px\"viewBox=\"0 0 24 24\"\n",
              "       width=\"24px\">\n",
              "    <path d=\"M0 0h24v24H0V0z\" fill=\"none\"/>\n",
              "    <path d=\"M18.56 5.44l.94 2.06.94-2.06 2.06-.94-2.06-.94-.94-2.06-.94 2.06-2.06.94zm-11 1L8.5 8.5l.94-2.06 2.06-.94-2.06-.94L8.5 2.5l-.94 2.06-2.06.94zm10 10l.94 2.06.94-2.06 2.06-.94-2.06-.94-.94-2.06-.94 2.06-2.06.94z\"/><path d=\"M17.41 7.96l-1.37-1.37c-.4-.4-.92-.59-1.43-.59-.52 0-1.04.2-1.43.59L10.3 9.45l-7.72 7.72c-.78.78-.78 2.05 0 2.83L4 21.41c.39.39.9.59 1.41.59.51 0 1.02-.2 1.41-.59l7.78-7.78 2.81-2.81c.8-.78.8-2.07 0-2.86zM5.41 20L4 18.59l7.72-7.72 1.47 1.35L5.41 20z\"/>\n",
              "  </svg>\n",
              "      </button>\n",
              "      \n",
              "  <style>\n",
              "    .colab-df-container {\n",
              "      display:flex;\n",
              "      flex-wrap:wrap;\n",
              "      gap: 12px;\n",
              "    }\n",
              "\n",
              "    .colab-df-convert {\n",
              "      background-color: #E8F0FE;\n",
              "      border: none;\n",
              "      border-radius: 50%;\n",
              "      cursor: pointer;\n",
              "      display: none;\n",
              "      fill: #1967D2;\n",
              "      height: 32px;\n",
              "      padding: 0 0 0 0;\n",
              "      width: 32px;\n",
              "    }\n",
              "\n",
              "    .colab-df-convert:hover {\n",
              "      background-color: #E2EBFA;\n",
              "      box-shadow: 0px 1px 2px rgba(60, 64, 67, 0.3), 0px 1px 3px 1px rgba(60, 64, 67, 0.15);\n",
              "      fill: #174EA6;\n",
              "    }\n",
              "\n",
              "    [theme=dark] .colab-df-convert {\n",
              "      background-color: #3B4455;\n",
              "      fill: #D2E3FC;\n",
              "    }\n",
              "\n",
              "    [theme=dark] .colab-df-convert:hover {\n",
              "      background-color: #434B5C;\n",
              "      box-shadow: 0px 1px 3px 1px rgba(0, 0, 0, 0.15);\n",
              "      filter: drop-shadow(0px 1px 2px rgba(0, 0, 0, 0.3));\n",
              "      fill: #FFFFFF;\n",
              "    }\n",
              "  </style>\n",
              "\n",
              "      <script>\n",
              "        const buttonEl =\n",
              "          document.querySelector('#df-8cb9c9c7-21d8-4050-917f-3cfe99ecaa18 button.colab-df-convert');\n",
              "        buttonEl.style.display =\n",
              "          google.colab.kernel.accessAllowed ? 'block' : 'none';\n",
              "\n",
              "        async function convertToInteractive(key) {\n",
              "          const element = document.querySelector('#df-8cb9c9c7-21d8-4050-917f-3cfe99ecaa18');\n",
              "          const dataTable =\n",
              "            await google.colab.kernel.invokeFunction('convertToInteractive',\n",
              "                                                     [key], {});\n",
              "          if (!dataTable) return;\n",
              "\n",
              "          const docLinkHtml = 'Like what you see? Visit the ' +\n",
              "            '<a target=\"_blank\" href=https://colab.research.google.com/notebooks/data_table.ipynb>data table notebook</a>'\n",
              "            + ' to learn more about interactive tables.';\n",
              "          element.innerHTML = '';\n",
              "          dataTable['output_type'] = 'display_data';\n",
              "          await google.colab.output.renderOutput(dataTable, element);\n",
              "          const docLink = document.createElement('div');\n",
              "          docLink.innerHTML = docLinkHtml;\n",
              "          element.appendChild(docLink);\n",
              "        }\n",
              "      </script>\n",
              "    </div>\n",
              "  </div>\n",
              "  "
            ]
          },
          "metadata": {},
          "execution_count": 44
        }
      ]
    },
    {
      "cell_type": "markdown",
      "source": [
        "Также с помощью метода .plot() прогноз можно построить на графике и посмотреть визуально его адекватность.\n",
        "\n",
        "Черные точки — наши данные."
      ],
      "metadata": {
        "id": "BwPnJF37CzJ6"
      }
    },
    {
      "cell_type": "code",
      "source": [
        "model.plot(forecast);"
      ],
      "metadata": {
        "colab": {
          "base_uri": "https://localhost:8080/",
          "height": 441
        },
        "id": "06LSX6N9C2qV",
        "outputId": "1f34140a-f83d-463e-9a9f-854d21cf4cc6"
      },
      "execution_count": 45,
      "outputs": [
        {
          "output_type": "display_data",
          "data": {
            "text/plain": [
              "<Figure size 720x432 with 1 Axes>"
            ],
            "image/png": "[encoded data removed]"
          },
          "metadata": {}
        }
      ]
    },
    {
      "cell_type": "code",
      "source": [
        "model.plot_components(forecast);"
      ],
      "metadata": {
        "colab": {
          "base_uri": "https://localhost:8080/",
          "height": 441
        },
        "id": "Dcfb2m9ZDB2v",
        "outputId": "a2698f5c-5497-4dbd-e1d7-a65cd6b324a9"
      },
      "execution_count": 46,
      "outputs": [
        {
          "output_type": "display_data",
          "data": {
            "text/plain": [
              "<Figure size 648x432 with 2 Axes>"
            ],
            "image/png": "[encoded data removed]"
          },
          "metadata": {}
        }
      ]
    },
    {
      "cell_type": "code",
      "source": [
        "#оцениваем качество модели методом MSE, RMSE, MAPE\n",
        "\n",
        "mse_error = mean_squared_error(test_0['y'], forecast['yhat'].tail(12))\n",
        "rmse_error = rmse(test_0['y'], forecast['yhat'].tail(12))\n",
        "mape_error = np.mean(np.abs(forecast['yhat'] - test_0['y'])/test_0['y'])*100\n",
        "\n",
        "print(f'Prophet MSE Error: {mse_error:11.10}')\n",
        "print(f'Prophet RMSE Error: {rmse_error:11.10}')\n",
        "print(f'Prophet MAPE Error: {mape_error:11.10}')"
      ],
      "metadata": {
        "colab": {
          "base_uri": "https://localhost:8080/"
        },
        "id": "cv4pAmvkDrVo",
        "outputId": "4b14a022-1e26-4251-eba8-9073e66b88ff"
      },
      "execution_count": 47,
      "outputs": [
        {
          "output_type": "stream",
          "name": "stdout",
          "text": [
            "Prophet MSE Error: 26.74626529\n",
            "Prophet RMSE Error: 5.171679156\n",
            "Prophet MAPE Error: 45.22276204\n"
          ]
        }
      ]
    },
    {
      "cell_type": "markdown",
      "source": [
        "MSE, RMSE примерно на том же уровне, что и по модели SARIMAX, а вот ошибка MAPE значительно выше"
      ],
      "metadata": {
        "id": "TVFuakdWG5ir"
      }
    },
    {
      "cell_type": "code",
      "source": [
        "# делаем прогноз на будущее - 1 год вперед\n",
        "\n",
        "# обучаем модель на всем датасете\n",
        "fut_model_prophet = Prophet(seasonality_mode='additive')\n",
        "fut_model_prophet.fit(df_prophet)\n",
        "\n",
        "# говорим профету сделать дата-фрейм на 1 год вперед\n",
        "fut_future_prophet = fut_model_prophet.make_future_dataframe(periods=12, freq='MS')\n",
        "fut_fcast_prophet = fut_model_prophet.predict(fut_future_prophet)"
      ],
      "metadata": {
        "colab": {
          "base_uri": "https://localhost:8080/"
        },
        "id": "rsjToQciHZCm",
        "outputId": "2c01a76e-bd42-4bfe-e360-834c5f4eca92"
      },
      "execution_count": 48,
      "outputs": [
        {
          "output_type": "stream",
          "name": "stderr",
          "text": [
            "INFO:fbprophet:Disabling weekly seasonality. Run prophet with weekly_seasonality=True to override this.\n",
            "INFO:fbprophet:Disabling daily seasonality. Run prophet with daily_seasonality=True to override this.\n"
          ]
        }
      ]
    },
    {
      "cell_type": "code",
      "source": [
        "# Строим график\n",
        "fut_model_prophet.plot(fut_fcast_prophet, figsize=(15,6));"
      ],
      "metadata": {
        "colab": {
          "base_uri": "https://localhost:8080/",
          "height": 441
        },
        "id": "RH3GJ9MjJVTF",
        "outputId": "30331baa-920e-4717-a260-49f781d806ef"
      },
      "execution_count": 49,
      "outputs": [
        {
          "output_type": "display_data",
          "data": {
            "text/plain": [
              "<Figure size 1080x432 with 1 Axes>"
            ],
            "image/png": "[encoded data removed]"
          },
          "metadata": {}
        }
      ]
    },
    {
      "cell_type": "code",
      "source": [
        "from matplotlib import pyplot as plt\n",
        "import math"
      ],
      "metadata": {
        "id": "M98yCJg_KkRE"
      },
      "execution_count": 50,
      "outputs": []
    },
    {
      "cell_type": "code",
      "source": [
        "# устанавливаем индекс\n",
        "fut_fcast_prophet.index = fut_fcast_prophet.ds\n",
        "\n",
        "# И построим график на будущее\n",
        "ax_PROPHET = df['AvgTemp_mean'].plot(legend=True, figsize=(10,3),title='Метрики') \n",
        "fut_fcast_prophet['yhat'].tail(13).plot(legend=True)\n",
        "ax_PROPHET.autoscale(axis='x',tight=True)\n",
        "ax_PROPHET.legend([\"AVG t\", \"PROPHET\"]);\n"
      ],
      "metadata": {
        "colab": {
          "base_uri": "https://localhost:8080/",
          "height": 241
        },
        "id": "H9xJHyOaJu-q",
        "outputId": "795fecd2-948d-4247-bfca-2ab4d5ac92e2"
      },
      "execution_count": 51,
      "outputs": [
        {
          "output_type": "display_data",
          "data": {
            "text/plain": [
              "<Figure size 720x216 with 1 Axes>"
            ],
            "image/png": "[encoded data removed]"
          },
          "metadata": {
            "needs_background": "light"
          }
        }
      ]
    },
    {
      "cell_type": "markdown",
      "source": [
        "Выводы по модели PROPHET: Достойно, но по метрикам немного хуже из-за увеличения MAPE показателя"
      ],
      "metadata": {
        "id": "qHJMBPjGOIYA"
      }
    },
    {
      "cell_type": "markdown",
      "source": [
        "3.0 Экспоненцальное сглаживание"
      ],
      "metadata": {
        "id": "lwE411_wO5KZ"
      }
    },
    {
      "cell_type": "code",
      "source": [
        "# создаем модель с подобранными параметрами\n",
        "model_exps = ExponentialSmoothing(train['AvgTemp_mean'], seasonal_periods=12, trend = 'add')# годовая сезонность, тк единица времени = месяц\n",
        "\n",
        "# обучаем модель на обучающей выборке данных\n",
        "model_exps.fit ()"
      ],
      "metadata": {
        "colab": {
          "base_uri": "https://localhost:8080/"
        },
        "id": "BW74v-HnO8t9",
        "outputId": "2e078450-1c4d-408f-cc66-2f0d2881837f"
      },
      "execution_count": 52,
      "outputs": [
        {
          "output_type": "stream",
          "name": "stderr",
          "text": [
            "/usr/local/lib/python3.7/dist-packages/statsmodels/tsa/base/tsa_model.py:471: ValueWarning: No frequency information was provided, so inferred frequency MS will be used.\n",
            "  self._init_dates(dates, freq)\n"
          ]
        },
        {
          "output_type": "execute_result",
          "data": {
            "text/plain": [
              "<statsmodels.tsa.holtwinters.results.HoltWintersResultsWrapper at 0x7f285a315bd0>"
            ]
          },
          "metadata": {},
          "execution_count": 52
        }
      ]
    },
    {
      "cell_type": "code",
      "source": [
        "# посмотрим на подобранные параметры модели\n",
        "model_exps.params"
      ],
      "metadata": {
        "colab": {
          "base_uri": "https://localhost:8080/"
        },
        "id": "B3hLPmarPgEm",
        "outputId": "ef1ba03b-da74-439b-969d-e865ecce470c"
      },
      "execution_count": 53,
      "outputs": [
        {
          "output_type": "execute_result",
          "data": {
            "text/plain": [
              "{'damping_trend': nan,\n",
              " 'initial_level': 16.802478441264864,\n",
              " 'initial_seasons': array([], dtype=float64),\n",
              " 'initial_trend': 0.08749258834661888,\n",
              " 'lamda': None,\n",
              " 'remove_bias': False,\n",
              " 'smoothing_level': 0.9999999850988388,\n",
              " 'smoothing_seasonal': nan,\n",
              " 'smoothing_trend': 0.0,\n",
              " 'use_boxcox': False}"
            ]
          },
          "metadata": {},
          "execution_count": 53
        }
      ]
    },
    {
      "cell_type": "code",
      "source": [
        "# определяем точку начала для прогноза\n",
        "test.index[0]"
      ],
      "metadata": {
        "colab": {
          "base_uri": "https://localhost:8080/"
        },
        "id": "JIPmU0dfQAjh",
        "outputId": "4d12ed7c-6d61-4c4c-db2e-14839c57c003"
      },
      "execution_count": 54,
      "outputs": [
        {
          "output_type": "execute_result",
          "data": {
            "text/plain": [
              "Timestamp('2017-12-01 00:00:00')"
            ]
          },
          "metadata": {},
          "execution_count": 54
        }
      ]
    },
    {
      "cell_type": "code",
      "source": [
        "# определяем точку окончания для прогноза\n",
        "test.index[-1]"
      ],
      "metadata": {
        "colab": {
          "base_uri": "https://localhost:8080/"
        },
        "id": "75_nPX_gPkHj",
        "outputId": "700c61b3-8937-4391-b2f3-4d50f8e19d54"
      },
      "execution_count": 55,
      "outputs": [
        {
          "output_type": "execute_result",
          "data": {
            "text/plain": [
              "Timestamp('2018-11-01 00:00:00')"
            ]
          },
          "metadata": {},
          "execution_count": 55
        }
      ]
    },
    {
      "cell_type": "code",
      "source": [
        "#предсказываем значения,передав модели results точку начала и окончания\n",
        "prediction_exps = model_exps.predict(model_exps.params, start=test.index[0], end=test.index[-1])"
      ],
      "metadata": {
        "id": "pM0zTgA9Pweq"
      },
      "execution_count": 56,
      "outputs": []
    },
    {
      "cell_type": "code",
      "source": [
        "prediction_exps"
      ],
      "metadata": {
        "colab": {
          "base_uri": "https://localhost:8080/"
        },
        "id": "7nCTU7yRP1UU",
        "outputId": "868f544b-0620-4c19-8b58-856acc7e1114"
      },
      "execution_count": 57,
      "outputs": [
        {
          "output_type": "execute_result",
          "data": {
            "text/plain": [
              "array([20.02082622, 20.10831881, 20.19581139, 20.28330398, 20.37079657,\n",
              "       20.45828916, 20.54578175, 20.63327434, 20.72076692, 20.80825951,\n",
              "       20.8957521 , 20.98324469])"
            ]
          },
          "metadata": {},
          "execution_count": 57
        }
      ]
    },
    {
      "cell_type": "code",
      "source": [
        "#преобразуем в датафрейм с индексами\n",
        "prediction_exps = pd.DataFrame(prediction_exps)\n",
        "prediction_exps.index = pd.date_range(\"2017-12-01 00:00:00\", periods=12, freq=\"M\")\n",
        "prediction_exps.columns = ['prediction_exps']"
      ],
      "metadata": {
        "id": "RU9I0qwBP73V"
      },
      "execution_count": 58,
      "outputs": []
    },
    {
      "cell_type": "code",
      "source": [
        "#проверим\n",
        "prediction_exps.head(15)"
      ],
      "metadata": {
        "colab": {
          "base_uri": "https://localhost:8080/",
          "height": 426
        },
        "id": "GdDj6PmaQLYd",
        "outputId": "dfb9729c-d445-4e05-8bf5-eb166d74ccdc"
      },
      "execution_count": 59,
      "outputs": [
        {
          "output_type": "execute_result",
          "data": {
            "text/plain": [
              "            prediction_exps\n",
              "2017-12-31        20.020826\n",
              "2018-01-31        20.108319\n",
              "2018-02-28        20.195811\n",
              "2018-03-31        20.283304\n",
              "2018-04-30        20.370797\n",
              "2018-05-31        20.458289\n",
              "2018-06-30        20.545782\n",
              "2018-07-31        20.633274\n",
              "2018-08-31        20.720767\n",
              "2018-09-30        20.808260\n",
              "2018-10-31        20.895752\n",
              "2018-11-30        20.983245"
            ],
            "text/html": [
              "\n",
              "  <div id=\"df-52153be4-4a1a-4f66-92b1-605bad8588b1\">\n",
              "    <div class=\"colab-df-container\">\n",
              "      <div>\n",
              "<style scoped>\n",
              "    .dataframe tbody tr th:only-of-type {\n",
              "        vertical-align: middle;\n",
              "    }\n",
              "\n",
              "    .dataframe tbody tr th {\n",
              "        vertical-align: top;\n",
              "    }\n",
              "\n",
              "    .dataframe thead th {\n",
              "        text-align: right;\n",
              "    }\n",
              "</style>\n",
              "<table border=\"1\" class=\"dataframe\">\n",
              "  <thead>\n",
              "    <tr style=\"text-align: right;\">\n",
              "      <th></th>\n",
              "      <th>prediction_exps</th>\n",
              "    </tr>\n",
              "  </thead>\n",
              "  <tbody>\n",
              "    <tr>\n",
              "      <th>2017-12-31</th>\n",
              "      <td>20.020826</td>\n",
              "    </tr>\n",
              "    <tr>\n",
              "      <th>2018-01-31</th>\n",
              "      <td>20.108319</td>\n",
              "    </tr>\n",
              "    <tr>\n",
              "      <th>2018-02-28</th>\n",
              "      <td>20.195811</td>\n",
              "    </tr>\n",
              "    <tr>\n",
              "      <th>2018-03-31</th>\n",
              "      <td>20.283304</td>\n",
              "    </tr>\n",
              "    <tr>\n",
              "      <th>2018-04-30</th>\n",
              "      <td>20.370797</td>\n",
              "    </tr>\n",
              "    <tr>\n",
              "      <th>2018-05-31</th>\n",
              "      <td>20.458289</td>\n",
              "    </tr>\n",
              "    <tr>\n",
              "      <th>2018-06-30</th>\n",
              "      <td>20.545782</td>\n",
              "    </tr>\n",
              "    <tr>\n",
              "      <th>2018-07-31</th>\n",
              "      <td>20.633274</td>\n",
              "    </tr>\n",
              "    <tr>\n",
              "      <th>2018-08-31</th>\n",
              "      <td>20.720767</td>\n",
              "    </tr>\n",
              "    <tr>\n",
              "      <th>2018-09-30</th>\n",
              "      <td>20.808260</td>\n",
              "    </tr>\n",
              "    <tr>\n",
              "      <th>2018-10-31</th>\n",
              "      <td>20.895752</td>\n",
              "    </tr>\n",
              "    <tr>\n",
              "      <th>2018-11-30</th>\n",
              "      <td>20.983245</td>\n",
              "    </tr>\n",
              "  </tbody>\n",
              "</table>\n",
              "</div>\n",
              "      <button class=\"colab-df-convert\" onclick=\"convertToInteractive('df-52153be4-4a1a-4f66-92b1-605bad8588b1')\"\n",
              "              title=\"Convert this dataframe to an interactive table.\"\n",
              "              style=\"display:none;\">\n",
              "        \n",
              "  <svg xmlns=\"http://www.w3.org/2000/svg\" height=\"24px\"viewBox=\"0 0 24 24\"\n",
              "       width=\"24px\">\n",
              "    <path d=\"M0 0h24v24H0V0z\" fill=\"none\"/>\n",
              "    <path d=\"M18.56 5.44l.94 2.06.94-2.06 2.06-.94-2.06-.94-.94-2.06-.94 2.06-2.06.94zm-11 1L8.5 8.5l.94-2.06 2.06-.94-2.06-.94L8.5 2.5l-.94 2.06-2.06.94zm10 10l.94 2.06.94-2.06 2.06-.94-2.06-.94-.94-2.06-.94 2.06-2.06.94z\"/><path d=\"M17.41 7.96l-1.37-1.37c-.4-.4-.92-.59-1.43-.59-.52 0-1.04.2-1.43.59L10.3 9.45l-7.72 7.72c-.78.78-.78 2.05 0 2.83L4 21.41c.39.39.9.59 1.41.59.51 0 1.02-.2 1.41-.59l7.78-7.78 2.81-2.81c.8-.78.8-2.07 0-2.86zM5.41 20L4 18.59l7.72-7.72 1.47 1.35L5.41 20z\"/>\n",
              "  </svg>\n",
              "      </button>\n",
              "      \n",
              "  <style>\n",
              "    .colab-df-container {\n",
              "      display:flex;\n",
              "      flex-wrap:wrap;\n",
              "      gap: 12px;\n",
              "    }\n",
              "\n",
              "    .colab-df-convert {\n",
              "      background-color: #E8F0FE;\n",
              "      border: none;\n",
              "      border-radius: 50%;\n",
              "      cursor: pointer;\n",
              "      display: none;\n",
              "      fill: #1967D2;\n",
              "      height: 32px;\n",
              "      padding: 0 0 0 0;\n",
              "      width: 32px;\n",
              "    }\n",
              "\n",
              "    .colab-df-convert:hover {\n",
              "      background-color: #E2EBFA;\n",
              "      box-shadow: 0px 1px 2px rgba(60, 64, 67, 0.3), 0px 1px 3px 1px rgba(60, 64, 67, 0.15);\n",
              "      fill: #174EA6;\n",
              "    }\n",
              "\n",
              "    [theme=dark] .colab-df-convert {\n",
              "      background-color: #3B4455;\n",
              "      fill: #D2E3FC;\n",
              "    }\n",
              "\n",
              "    [theme=dark] .colab-df-convert:hover {\n",
              "      background-color: #434B5C;\n",
              "      box-shadow: 0px 1px 3px 1px rgba(0, 0, 0, 0.15);\n",
              "      filter: drop-shadow(0px 1px 2px rgba(0, 0, 0, 0.3));\n",
              "      fill: #FFFFFF;\n",
              "    }\n",
              "  </style>\n",
              "\n",
              "      <script>\n",
              "        const buttonEl =\n",
              "          document.querySelector('#df-52153be4-4a1a-4f66-92b1-605bad8588b1 button.colab-df-convert');\n",
              "        buttonEl.style.display =\n",
              "          google.colab.kernel.accessAllowed ? 'block' : 'none';\n",
              "\n",
              "        async function convertToInteractive(key) {\n",
              "          const element = document.querySelector('#df-52153be4-4a1a-4f66-92b1-605bad8588b1');\n",
              "          const dataTable =\n",
              "            await google.colab.kernel.invokeFunction('convertToInteractive',\n",
              "                                                     [key], {});\n",
              "          if (!dataTable) return;\n",
              "\n",
              "          const docLinkHtml = 'Like what you see? Visit the ' +\n",
              "            '<a target=\"_blank\" href=https://colab.research.google.com/notebooks/data_table.ipynb>data table notebook</a>'\n",
              "            + ' to learn more about interactive tables.';\n",
              "          element.innerHTML = '';\n",
              "          dataTable['output_type'] = 'display_data';\n",
              "          await google.colab.output.renderOutput(dataTable, element);\n",
              "          const docLink = document.createElement('div');\n",
              "          docLink.innerHTML = docLinkHtml;\n",
              "          element.appendChild(docLink);\n",
              "        }\n",
              "      </script>\n",
              "    </div>\n",
              "  </div>\n",
              "  "
            ]
          },
          "metadata": {},
          "execution_count": 59
        }
      ]
    },
    {
      "cell_type": "code",
      "source": [
        "#сравниваем прогноз и тестовую выборку\n",
        "\n",
        "title = 'Метрики' #название графика\n",
        "\n",
        "ax_ES = test['AvgTemp_mean'].plot(legend=True, figsize=(12,6),title=title)\n",
        "prediction_exps['prediction_exps'].plot(legend=True)\n",
        "ax_ES.autoscale(axis='x',tight=True)"
      ],
      "metadata": {
        "colab": {
          "base_uri": "https://localhost:8080/",
          "height": 417
        },
        "id": "GUUuGs9RQSZ6",
        "outputId": "88c3e69e-9ec8-43af-de1a-699f044f088b"
      },
      "execution_count": 60,
      "outputs": [
        {
          "output_type": "display_data",
          "data": {
            "text/plain": [
              "<Figure size 864x432 with 1 Axes>"
            ],
            "image/png": "[encoded data removed]"
          },
          "metadata": {
            "needs_background": "light"
          }
        }
      ]
    },
    {
      "cell_type": "markdown",
      "source": [
        "Прогноз не удался, как при разборе ДЗ по прогнозированию, давайте выведем метрики ошибок и посмотрим что там, скорее всего значение ошибок будет запредельное"
      ],
      "metadata": {
        "id": "AT40HOR1Q8F6"
      }
    },
    {
      "cell_type": "code",
      "source": [
        "mse_error = mean_squared_error(test['AvgTemp_mean'], prediction_exps['prediction_exps'])\n",
        "rmse_error = rmse(test['AvgTemp_mean'], prediction_exps['prediction_exps'])\n",
        "mape_error = np.mean(np.abs(prediction_exps['prediction_exps'] - test['AvgTemp_mean'])/test['AvgTemp_mean'])*100\n",
        "\n",
        "print(f'Exponential smoothing MSE Error: {mse_error:11.10}')\n",
        "print(f'Exponential smoothing RMSE Error: {rmse_error:11.10}')\n",
        "print(f'Exponential smoothing MAPE Error: {mape_error:11.10}')"
      ],
      "metadata": {
        "colab": {
          "base_uri": "https://localhost:8080/"
        },
        "id": "tNljNs3tRUBJ",
        "outputId": "1b7cb987-f23b-43ec-aacd-a0459c6dc423"
      },
      "execution_count": 61,
      "outputs": [
        {
          "output_type": "stream",
          "name": "stdout",
          "text": [
            "Exponential smoothing MSE Error: 360.4317448\n",
            "Exponential smoothing RMSE Error: 18.98504003\n",
            "Exponential smoothing MAPE Error:         nan\n"
          ]
        }
      ]
    },
    {
      "cell_type": "markdown",
      "source": [
        "Фактически, получив такие данные и визуально оценив прогноз можно смело заканчивать работу с данным методом, т.к. никакого стоящего прогноза не выйдет."
      ],
      "metadata": {
        "id": "LkJ-6padR90z"
      }
    },
    {
      "cell_type": "markdown",
      "metadata": {
        "id": "gX7Ue2304viI"
      },
      "source": [
        "## Выводы"
      ]
    },
    {
      "cell_type": "code",
      "source": [
        "ax_SARIMAX = df['AvgTemp_mean'].plot(legend=True, figsize=(10,3),title=title) \n",
        "fcast.plot(legend=True)\n",
        "ax_SARIMAX.autoscale(axis='x',tight=True)\n",
        "ax_SARIMAX.set(xlabel=xlabel, ylabel=ylabel)"
      ],
      "metadata": {
        "colab": {
          "base_uri": "https://localhost:8080/",
          "height": 244
        },
        "id": "udBAnMNiVJFA",
        "outputId": "ee2c0a20-4830-4092-e3c3-ba96ab093663"
      },
      "execution_count": 69,
      "outputs": [
        {
          "output_type": "execute_result",
          "data": {
            "text/plain": [
              "[Text(0, 0.5, 't'), Text(0.5, 0, '')]"
            ]
          },
          "metadata": {},
          "execution_count": 69
        },
        {
          "output_type": "display_data",
          "data": {
            "text/plain": [
              "<Figure size 720x216 with 1 Axes>"
            ],
            "image/png": "[encoded data removed]"
          },
          "metadata": {
            "needs_background": "light"
          }
        }
      ]
    },
    {
      "cell_type": "code",
      "source": [
        "ax_PROPHET = df['AvgTemp_mean'].plot(legend=True, figsize=(10,3),title='Метрики') \n",
        "fut_fcast_prophet['yhat'].tail(13).plot(legend=True)\n",
        "ax_PROPHET.autoscale(axis='x',tight=True)\n",
        "ax_PROPHET.legend([\"AVG t\", \"PROPHET\"]);"
      ],
      "metadata": {
        "colab": {
          "base_uri": "https://localhost:8080/",
          "height": 241
        },
        "id": "9Yxc2xkhVLd5",
        "outputId": "64d9aa59-ab1e-469b-b45c-e7c5736119d8"
      },
      "execution_count": 65,
      "outputs": [
        {
          "output_type": "display_data",
          "data": {
            "text/plain": [
              "<Figure size 720x216 with 1 Axes>"
            ],
            "image/png": "[encoded data removed]"
          },
          "metadata": {
            "needs_background": "light"
          }
        }
      ]
    },
    {
      "cell_type": "markdown",
      "source": [
        "В результате анализа и прогнозирования на горизонт в один год вперед, мы имеем следующие результаты:\n",
        "  Модель SARIMAX:\n",
        "  MSE Error: 28.94887983 /\n",
        "  RMSE Error: 5.380416325 /\n",
        "  MAPE Error: 26.47583303\n",
        "  PROPHET:\n",
        "  MSE Error: 26.74626529 /\n",
        "  RMSE Error: 5.171679156 /\n",
        "  MAPE Error: 45.22276204 \n",
        "  Метод Экспоненцального сглаживания не показал достойного результата.\n",
        "\n",
        "  Визуально, оба прогноза получились приемлимыми, аномалий нет в cпрогнозируемых значениях, но лучше, по метрике MAPE все же SARIMAX"
      ],
      "metadata": {
        "id": "_RBzNx7ZVGTV"
      }
    }
  ],
  "metadata": {
    "colab": {
      "collapsed_sections": [],
      "name": "Копия блокнота \"Шаблон_аттестация-checkpoint.ipynb\"",
      "provenance": []
    },
    "kernelspec": {
      "display_name": "Python 3",
      "language": "python",
      "name": "python3"
    },
    "language_info": {
      "codemirror_mode": {
        "name": "ipython",
        "version": 3
      },
      "file_extension": ".py",
      "mimetype": "text/x-python",
      "name": "python",
      "nbconvert_exporter": "python",
      "pygments_lexer": "ipython3",
      "version": "3.9.1"
    }
  },
  "nbformat": 4,
  "nbformat_minor": 0
}