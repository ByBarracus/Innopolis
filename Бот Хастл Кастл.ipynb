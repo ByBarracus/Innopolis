{
 "cells": [
  {
   "cell_type": "code",
   "execution_count": 1,
   "id": "a48d3daa",
   "metadata": {},
   "outputs": [
    {
     "data": {
      "text/plain": [
       "'C:\\\\Users\\\\Царь\\\\Documents\\\\Python Scripts'"
      ]
     },
     "execution_count": 1,
     "metadata": {},
     "output_type": "execute_result"
    }
   ],
   "source": [
    "%pwd"
   ]
  },
  {
   "cell_type": "code",
   "execution_count": 2,
   "id": "b535bdfb",
   "metadata": {},
   "outputs": [
    {
     "name": "stdout",
     "output_type": "stream",
     "text": [
      "Collecting pyautogui\n",
      "  Downloading PyAutoGUI-0.9.53.tar.gz (59 kB)\n",
      "Collecting pymsgbox\n",
      "  Downloading PyMsgBox-1.0.9.tar.gz (18 kB)\n",
      "  Installing build dependencies: started\n",
      "  Installing build dependencies: finished with status 'done'\n",
      "  Getting requirements to build wheel: started\n",
      "  Getting requirements to build wheel: finished with status 'done'\n",
      "    Preparing wheel metadata: started\n",
      "    Preparing wheel metadata: finished with status 'done'\n",
      "Collecting PyTweening>=1.0.1\n",
      "  Downloading pytweening-1.0.4.tar.gz (14 kB)\n",
      "Collecting pyscreeze>=0.1.21\n",
      "  Downloading PyScreeze-0.1.28.tar.gz (25 kB)\n",
      "  Installing build dependencies: started\n",
      "  Installing build dependencies: finished with status 'done'\n",
      "  Getting requirements to build wheel: started\n",
      "  Getting requirements to build wheel: finished with status 'done'\n",
      "    Preparing wheel metadata: started\n",
      "    Preparing wheel metadata: finished with status 'done'\n",
      "Collecting pygetwindow>=0.0.5\n",
      "  Downloading PyGetWindow-0.0.9.tar.gz (9.7 kB)\n",
      "Collecting mouseinfo\n",
      "  Downloading MouseInfo-0.1.3.tar.gz (10 kB)\n",
      "Collecting pyrect\n",
      "  Downloading PyRect-0.2.0.tar.gz (17 kB)\n",
      "Collecting pyperclip\n",
      "  Downloading pyperclip-1.8.2.tar.gz (20 kB)\n",
      "Building wheels for collected packages: pyautogui, pygetwindow, pyscreeze, PyTweening, mouseinfo, pymsgbox, pyperclip, pyrect\n",
      "  Building wheel for pyautogui (setup.py): started\n",
      "  Building wheel for pyautogui (setup.py): finished with status 'done'\n",
      "  Created wheel for pyautogui: filename=PyAutoGUI-0.9.53-py3-none-any.whl size=36614 sha256=445c4e67096453a22ce1f07c5f5b51d40aa7ba99101433f9939d9253bbe9822f\n",
      "  Stored in directory: c:\\users\\царь\\appdata\\local\\pip\\cache\\wheels\\d8\\97\\e4\\d2edca92a87d3b5fbfb527264750a17b4ba297b9a7cab6e67f\n",
      "  Building wheel for pygetwindow (setup.py): started\n",
      "  Building wheel for pygetwindow (setup.py): finished with status 'done'\n",
      "  Created wheel for pygetwindow: filename=PyGetWindow-0.0.9-py3-none-any.whl size=11081 sha256=aed9cbeba4d9e8048b6322bd4b418a1a4c1252b73d7b259fea25f8fdd20106c8\n",
      "  Stored in directory: c:\\users\\царь\\appdata\\local\\pip\\cache\\wheels\\44\\ab\\20\\423c3a444793767e4e41f8377bc902f77bee212e68dcce85a5\n",
      "  Building wheel for pyscreeze (PEP 517): started\n",
      "  Building wheel for pyscreeze (PEP 517): finished with status 'done'\n",
      "  Created wheel for pyscreeze: filename=PyScreeze-0.1.28-py3-none-any.whl size=13021 sha256=b397514d957fc0c953b6f31b6173093e75cb9a762b21553fb5ce57abc88a909d\n",
      "  Stored in directory: c:\\users\\царь\\appdata\\local\\pip\\cache\\wheels\\a2\\5b\\86\\99f1d8fac5d92de0ccb3f0d4ad15e3f4278baf75a9b0f20b93\n",
      "  Building wheel for PyTweening (setup.py): started\n",
      "  Building wheel for PyTweening (setup.py): finished with status 'done'\n",
      "  Created wheel for PyTweening: filename=pytweening-1.0.4-py3-none-any.whl size=5854 sha256=e5309bae711fb4ba006c1398d5bb7fc347f03bbec261b3fed8a08061000d3604\n",
      "  Stored in directory: c:\\users\\царь\\appdata\\local\\pip\\cache\\wheels\\a4\\5d\\d2\\ba4c8f82163233ffaadcf383c1e34d7d92635d357d13e7b78d\n",
      "  Building wheel for mouseinfo (setup.py): started\n",
      "  Building wheel for mouseinfo (setup.py): finished with status 'done'\n",
      "  Created wheel for mouseinfo: filename=MouseInfo-0.1.3-py3-none-any.whl size=10906 sha256=43e0365c14c03c62b56342cc9176afef372c711b390b2f1fa73c7ccf29d50ac3\n",
      "  Stored in directory: c:\\users\\царь\\appdata\\local\\pip\\cache\\wheels\\61\\73\\b9\\6fb1131ab36e650206e3aa0ad7a68907b41b32ac2d4f75f543\n",
      "  Building wheel for pymsgbox (PEP 517): started\n",
      "  Building wheel for pymsgbox (PEP 517): finished with status 'done'\n",
      "  Created wheel for pymsgbox: filename=PyMsgBox-1.0.9-py3-none-any.whl size=7420 sha256=7786cfa3ab41708053c78b091922354c577efb7975bf65d2c98b0c1dce510e89\n",
      "  Stored in directory: c:\\users\\царь\\appdata\\local\\pip\\cache\\wheels\\7f\\13\\8c\\584c519464297d9637f9cd29fd1dcdf55e2a2cab225c76a2db\n",
      "  Building wheel for pyperclip (setup.py): started\n",
      "  Building wheel for pyperclip (setup.py): finished with status 'done'\n",
      "  Created wheel for pyperclip: filename=pyperclip-1.8.2-py3-none-any.whl size=11137 sha256=8c4d03f99caccdaaf69a21417a442d50b0bd2b1c971055147cc91e16411b2987\n",
      "  Stored in directory: c:\\users\\царь\\appdata\\local\\pip\\cache\\wheels\\0c\\09\\9e\\49e21a6840ef7955b06d47394afef0058f0378c0914e48b8b8\n",
      "  Building wheel for pyrect (setup.py): started\n",
      "  Building wheel for pyrect (setup.py): finished with status 'done'\n",
      "  Created wheel for pyrect: filename=PyRect-0.2.0-py2.py3-none-any.whl size=11196 sha256=83f84fe003c0a62087af1b8221b222451bd5154bb34053b3323c5da841994da5\n",
      "  Stored in directory: c:\\users\\царь\\appdata\\local\\pip\\cache\\wheels\\25\\80\\fa\\27bb4a1c2e21f64ec71390489d52e57b7cc8afbe79bd595c5e\n",
      "Successfully built pyautogui pygetwindow pyscreeze PyTweening mouseinfo pymsgbox pyperclip pyrect\n",
      "Installing collected packages: pyrect, pyperclip, PyTweening, pyscreeze, pymsgbox, pygetwindow, mouseinfo, pyautogui\n",
      "Successfully installed PyTweening-1.0.4 mouseinfo-0.1.3 pyautogui-0.9.53 pygetwindow-0.0.9 pymsgbox-1.0.9 pyperclip-1.8.2 pyrect-0.2.0 pyscreeze-0.1.28\n",
      "Note: you may need to restart the kernel to use updated packages.\n"
     ]
    }
   ],
   "source": [
    "#pip install pyautogui"
   ]
  },
  {
   "cell_type": "code",
   "execution_count": 3,
   "id": "49b232b8",
   "metadata": {},
   "outputs": [
    {
     "name": "stdout",
     "output_type": "stream",
     "text": [
      "Collecting opencv-python\n",
      "  Downloading opencv_python-4.5.5.64-cp36-abi3-win_amd64.whl (35.4 MB)\n",
      "Requirement already satisfied: numpy>=1.19.3 in m:\\python\\lib\\site-packages (from opencv-python) (1.21.5)\n",
      "Installing collected packages: opencv-python\n",
      "Successfully installed opencv-python-4.5.5.64\n",
      "Note: you may need to restart the kernel to use updated packages.\n"
     ]
    }
   ],
   "source": [
    "#pip install opencv-python"
   ]
  },
  {
   "cell_type": "code",
   "execution_count": 15,
   "id": "2e6ad5ec",
   "metadata": {},
   "outputs": [],
   "source": [
    "import pyautogui as au\n",
    "from datetime import datetime, timedelta"
   ]
  },
  {
   "cell_type": "code",
   "execution_count": 16,
   "id": "2ac3b547",
   "metadata": {},
   "outputs": [
    {
     "name": "stdout",
     "output_type": "stream",
     "text": [
      "2022-06-23 02:33:30.643935\n",
      "2022-06-23 03:33:30.643935\n"
     ]
    }
   ],
   "source": [
    "timestart = datetime.now()\n",
    "print(timestart)\n",
    "\n",
    "timefinish = timestart + timedelta(hours=1)\n",
    "print(timefinish)"
   ]
  },
  {
   "cell_type": "code",
   "execution_count": 14,
   "id": "1b311be2",
   "metadata": {},
   "outputs": [
    {
     "name": "stdout",
     "output_type": "stream",
     "text": [
      "1\n",
      "2\n",
      "3\n",
      "4\n",
      "5\n",
      "6\n",
      "7\n",
      "8\n"
     ]
    },
    {
     "ename": "KeyboardInterrupt",
     "evalue": "",
     "output_type": "error",
     "traceback": [
      "\u001b[1;31m---------------------------------------------------------------------------\u001b[0m",
      "\u001b[1;31mKeyboardInterrupt\u001b[0m                         Traceback (most recent call last)",
      "Input \u001b[1;32mIn [14]\u001b[0m, in \u001b[0;36m<cell line: 3>\u001b[1;34m()\u001b[0m\n\u001b[0;32m     63\u001b[0m au\u001b[38;5;241m.\u001b[39msleep(\u001b[38;5;241m3\u001b[39m)\n\u001b[0;32m     64\u001b[0m au\u001b[38;5;241m.\u001b[39mclick(x\u001b[38;5;241m=\u001b[39m\u001b[38;5;241m1377\u001b[39m, y\u001b[38;5;241m=\u001b[39m\u001b[38;5;241m846\u001b[39m)\n\u001b[1;32m---> 65\u001b[0m \u001b[43mau\u001b[49m\u001b[38;5;241;43m.\u001b[39;49m\u001b[43msleep\u001b[49m\u001b[43m(\u001b[49m\u001b[38;5;241;43m3\u001b[39;49m\u001b[43m)\u001b[49m\n\u001b[0;32m     66\u001b[0m au\u001b[38;5;241m.\u001b[39mclick(x\u001b[38;5;241m=\u001b[39m\u001b[38;5;241m1692\u001b[39m, y\u001b[38;5;241m=\u001b[39m\u001b[38;5;241m582\u001b[39m)\n\u001b[0;32m     67\u001b[0m au\u001b[38;5;241m.\u001b[39msleep(\u001b[38;5;241m3\u001b[39m)\n",
      "File \u001b[1;32mM:\\Python\\lib\\site-packages\\pyautogui\\__init__.py:1794\u001b[0m, in \u001b[0;36msleep\u001b[1;34m(seconds)\u001b[0m\n\u001b[0;32m   1793\u001b[0m \u001b[38;5;28;01mdef\u001b[39;00m \u001b[38;5;21msleep\u001b[39m(seconds):\n\u001b[1;32m-> 1794\u001b[0m     \u001b[43mtime\u001b[49m\u001b[38;5;241;43m.\u001b[39;49m\u001b[43msleep\u001b[49m\u001b[43m(\u001b[49m\u001b[43mseconds\u001b[49m\u001b[43m)\u001b[49m\n",
      "\u001b[1;31mKeyboardInterrupt\u001b[0m: "
     ]
    }
   ],
   "source": [
    "m = 0\n",
    "k = 30\n",
    "while m < k:\n",
    "\n",
    "    button_1 = au.locateOnScreen('Pictures/start.png', confidence=0.9)\n",
    "\n",
    "    au.click(button_1)\n",
    "\n",
    "    au.sleep(3)\n",
    "\n",
    "    button_confirm = au.locateOnScreen('Pictures/confirm.png', confidence=0.9)\n",
    "\n",
    "    au.click(button_confirm)\n",
    "\n",
    "\n",
    "\n",
    "    timestart = datetime.now()\n",
    "    timefinish = timestart + timedelta(hours=2)\n",
    "\n",
    "\n",
    "\n",
    "    while timestart < timefinish:\n",
    "        button_attack = au.locateOnScreen('Pictures/yes.png', confidence=0.8)\n",
    "        button_no_attack = au.locateOnScreen('Pictures/no.png', confidence=0.8)\n",
    "        button_end = au.locateOnScreen('Pictures/end.png', confidence=0.8)\n",
    "\n",
    "        au.click(x=963, y=956)\n",
    "        au.sleep(10)\n",
    "\n",
    "        if button_attack:\n",
    "\n",
    "            au.sleep(3)\n",
    "            au.click(x=1487, y=812) \n",
    "            #au.click(x=903, y=219) #верх    \n",
    "            au.sleep(3)\n",
    "            au.click(x=1377, y=846)\n",
    "            au.sleep(3)\n",
    "            au.click(x=1692, y=582)\n",
    "            au.sleep(3)\n",
    "\n",
    "            au.click(x=1131, y=806)\n",
    "            au.sleep(3)\n",
    "            au.click(x=1377, y=846)\n",
    "            au.sleep(3)\n",
    "            au.click(x=1692, y=582)\n",
    "            au.sleep(3)\n",
    "\n",
    "            au.click(x=794, y=818)\n",
    "            au.sleep(3)\n",
    "            au.click(x=1377, y=846)\n",
    "            au.sleep(3)\n",
    "            au.click(x=1692, y=582)\n",
    "            au.sleep(3)\n",
    "\n",
    "            au.click(x=437, y=813)\n",
    "            au.sleep(3)\n",
    "            au.click(x=1377, y=846)\n",
    "            au.sleep(3)\n",
    "            au.click(x=1692, y=582)\n",
    "            au.sleep(3)\n",
    "\n",
    "            au.click(x=1301, y=629)\n",
    "            au.sleep(3)\n",
    "            au.click(x=1377, y=846)\n",
    "            au.sleep(3)\n",
    "            au.click(x=1692, y=582)\n",
    "            au.sleep(3)\n",
    "\n",
    "            au.click(x=953, y=622)\n",
    "            au.sleep(3)\n",
    "            au.click(x=1377, y=846)\n",
    "            au.sleep(3)\n",
    "            au.click(x=1692, y=582)\n",
    "            au.sleep(3)\n",
    "\n",
    "        elif button_no_attack:\n",
    "            au.sleep(20)\n",
    "\n",
    "        elif button_end:\n",
    "            au.click(x=1753, y=207)\n",
    "            au.sleep(10)\n",
    "            break\n",
    "\n",
    "        else:\n",
    "           timestart = datetime.now()  \n",
    "        \n",
    "        \n",
    "    m = m + 1\n",
    "    print(m)"
   ]
  },
  {
   "cell_type": "code",
   "execution_count": null,
   "id": "96669648",
   "metadata": {},
   "outputs": [],
   "source": [
    "import win32api"
   ]
  },
  {
   "cell_type": "code",
   "execution_count": 35,
   "id": "dfe55228",
   "metadata": {},
   "outputs": [
    {
     "name": "stdout",
     "output_type": "stream",
     "text": [
      "(903, 219)\n"
     ]
    }
   ],
   "source": [
    "print (win32api.GetCursorPos())"
   ]
  },
  {
   "cell_type": "code",
   "execution_count": null,
   "id": "ff724ca5",
   "metadata": {},
   "outputs": [],
   "source": []
  },
  {
   "cell_type": "code",
   "execution_count": null,
   "id": "ea220737",
   "metadata": {},
   "outputs": [],
   "source": []
  }
 ],
 "metadata": {
  "kernelspec": {
   "display_name": "Python 3 (ipykernel)",
   "language": "python",
   "name": "python3"
  },
  "language_info": {
   "codemirror_mode": {
    "name": "ipython",
    "version": 3
   },
   "file_extension": ".py",
   "mimetype": "text/x-python",
   "name": "python",
   "nbconvert_exporter": "python",
   "pygments_lexer": "ipython3",
   "version": "3.9.12"
  }
 },
 "nbformat": 4,
 "nbformat_minor": 5
}
